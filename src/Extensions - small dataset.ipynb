{
 "cells": [
  {
   "cell_type": "markdown",
   "metadata": {
    "id": "ZN4NEnZ_obIb"
   },
   "source": [
    "# LightFM"
   ]
  },
  {
   "cell_type": "code",
   "execution_count": 2,
   "metadata": {
    "colab": {
     "base_uri": "https://localhost:8080/"
    },
    "id": "J3aP999-Lgj2",
    "outputId": "9de9ca61-9afd-414d-a8f3-83a090a628b7"
   },
   "outputs": [
    {
     "name": "stdout",
     "output_type": "stream",
     "text": [
      "Collecting lightfm\n",
      "  Downloading lightfm-1.16.tar.gz (310 kB)\n",
      "\u001b[?25l\r\u001b[K     |█                               | 10 kB 18.2 MB/s eta 0:00:01\r\u001b[K     |██▏                             | 20 kB 20.5 MB/s eta 0:00:01\r\u001b[K     |███▏                            | 30 kB 22.0 MB/s eta 0:00:01\r\u001b[K     |████▎                           | 40 kB 17.3 MB/s eta 0:00:01\r\u001b[K     |█████▎                          | 51 kB 15.1 MB/s eta 0:00:01\r\u001b[K     |██████▍                         | 61 kB 17.0 MB/s eta 0:00:01\r\u001b[K     |███████▍                        | 71 kB 14.7 MB/s eta 0:00:01\r\u001b[K     |████████▌                       | 81 kB 15.5 MB/s eta 0:00:01\r\u001b[K     |█████████▌                      | 92 kB 16.6 MB/s eta 0:00:01\r\u001b[K     |██████████▋                     | 102 kB 17.5 MB/s eta 0:00:01\r\u001b[K     |███████████▋                    | 112 kB 17.5 MB/s eta 0:00:01\r\u001b[K     |████████████▊                   | 122 kB 17.5 MB/s eta 0:00:01\r\u001b[K     |█████████████▊                  | 133 kB 17.5 MB/s eta 0:00:01\r\u001b[K     |██████████████▉                 | 143 kB 17.5 MB/s eta 0:00:01\r\u001b[K     |███████████████▉                | 153 kB 17.5 MB/s eta 0:00:01\r\u001b[K     |█████████████████               | 163 kB 17.5 MB/s eta 0:00:01\r\u001b[K     |██████████████████              | 174 kB 17.5 MB/s eta 0:00:01\r\u001b[K     |███████████████████             | 184 kB 17.5 MB/s eta 0:00:01\r\u001b[K     |████████████████████            | 194 kB 17.5 MB/s eta 0:00:01\r\u001b[K     |█████████████████████▏          | 204 kB 17.5 MB/s eta 0:00:01\r\u001b[K     |██████████████████████▏         | 215 kB 17.5 MB/s eta 0:00:01\r\u001b[K     |███████████████████████▎        | 225 kB 17.5 MB/s eta 0:00:01\r\u001b[K     |████████████████████████▎       | 235 kB 17.5 MB/s eta 0:00:01\r\u001b[K     |█████████████████████████▍      | 245 kB 17.5 MB/s eta 0:00:01\r\u001b[K     |██████████████████████████▍     | 256 kB 17.5 MB/s eta 0:00:01\r\u001b[K     |███████████████████████████▌    | 266 kB 17.5 MB/s eta 0:00:01\r\u001b[K     |████████████████████████████▌   | 276 kB 17.5 MB/s eta 0:00:01\r\u001b[K     |█████████████████████████████▋  | 286 kB 17.5 MB/s eta 0:00:01\r\u001b[K     |██████████████████████████████▋ | 296 kB 17.5 MB/s eta 0:00:01\r\u001b[K     |███████████████████████████████▊| 307 kB 17.5 MB/s eta 0:00:01\r\u001b[K     |████████████████████████████████| 310 kB 17.5 MB/s \n",
      "\u001b[?25hRequirement already satisfied: numpy in /usr/local/lib/python3.7/dist-packages (from lightfm) (1.21.6)\n",
      "Requirement already satisfied: scipy>=0.17.0 in /usr/local/lib/python3.7/dist-packages (from lightfm) (1.4.1)\n",
      "Requirement already satisfied: requests in /usr/local/lib/python3.7/dist-packages (from lightfm) (2.23.0)\n",
      "Requirement already satisfied: scikit-learn in /usr/local/lib/python3.7/dist-packages (from lightfm) (1.0.2)\n",
      "Requirement already satisfied: chardet<4,>=3.0.2 in /usr/local/lib/python3.7/dist-packages (from requests->lightfm) (3.0.4)\n",
      "Requirement already satisfied: idna<3,>=2.5 in /usr/local/lib/python3.7/dist-packages (from requests->lightfm) (2.10)\n",
      "Requirement already satisfied: urllib3!=1.25.0,!=1.25.1,<1.26,>=1.21.1 in /usr/local/lib/python3.7/dist-packages (from requests->lightfm) (1.24.3)\n",
      "Requirement already satisfied: certifi>=2017.4.17 in /usr/local/lib/python3.7/dist-packages (from requests->lightfm) (2021.10.8)\n",
      "Requirement already satisfied: threadpoolctl>=2.0.0 in /usr/local/lib/python3.7/dist-packages (from scikit-learn->lightfm) (3.1.0)\n",
      "Requirement already satisfied: joblib>=0.11 in /usr/local/lib/python3.7/dist-packages (from scikit-learn->lightfm) (1.1.0)\n",
      "Building wheels for collected packages: lightfm\n",
      "  Building wheel for lightfm (setup.py) ... \u001b[?25l\u001b[?25hdone\n",
      "  Created wheel for lightfm: filename=lightfm-1.16-cp37-cp37m-linux_x86_64.whl size=705362 sha256=7633363f1668b08853ec7d5eb61e63d1f465fcc402b0bd985ce0bdb098233165\n",
      "  Stored in directory: /root/.cache/pip/wheels/f8/56/28/5772a3bd3413d65f03aa452190b00898b680b10028a1021914\n",
      "Successfully built lightfm\n",
      "Installing collected packages: lightfm\n",
      "Successfully installed lightfm-1.16\n"
     ]
    }
   ],
   "source": [
    "!pip install lightfm"
   ]
  },
  {
   "cell_type": "code",
   "execution_count": 3,
   "metadata": {
    "colab": {
     "base_uri": "https://localhost:8080/"
    },
    "id": "V_WhbxwnsFTP",
    "outputId": "3f6dfc57-aeca-4fe6-b751-761f48848217"
   },
   "outputs": [
    {
     "name": "stdout",
     "output_type": "stream",
     "text": [
      "Archive:  data.zip\n",
      "   creating: data/\n",
      "   creating: data/val_ratings_small.parquet/\n",
      "  inflating: data/val_ratings_small.parquet/part-00038-94924c9f-bdb0-4a86-816c-dfaf2716af6c-c000.snappy.parquet  \n",
      "  inflating: data/val_ratings_small.parquet/part-00096-94924c9f-bdb0-4a86-816c-dfaf2716af6c-c000.snappy.parquet  \n",
      "  inflating: data/val_ratings_small.parquet/part-00095-94924c9f-bdb0-4a86-816c-dfaf2716af6c-c000.snappy.parquet  \n",
      "  inflating: data/val_ratings_small.parquet/part-00260-94924c9f-bdb0-4a86-816c-dfaf2716af6c-c000.snappy.parquet  \n",
      "  inflating: data/val_ratings_small.parquet/part-00000-94924c9f-bdb0-4a86-816c-dfaf2716af6c-c000.snappy.parquet  \n",
      "  inflating: data/val_ratings_small.parquet/part-00020-94924c9f-bdb0-4a86-816c-dfaf2716af6c-c000.snappy.parquet  \n",
      " extracting: data/val_ratings_small.parquet/_SUCCESS  \n",
      "  inflating: data/val_ratings_small.parquet/part-00166-94924c9f-bdb0-4a86-816c-dfaf2716af6c-c000.snappy.parquet  \n",
      "  inflating: data/val_ratings_small.parquet/part-00282-94924c9f-bdb0-4a86-816c-dfaf2716af6c-c000.snappy.parquet  \n",
      "  inflating: data/val_ratings_small.parquet/part-00155-94924c9f-bdb0-4a86-816c-dfaf2716af6c-c000.snappy.parquet  \n",
      "  inflating: data/val_ratings_small.parquet/part-00182-94924c9f-bdb0-4a86-816c-dfaf2716af6c-c000.snappy.parquet  \n",
      "  inflating: data/val_ratings_small.parquet/part-00162-94924c9f-bdb0-4a86-816c-dfaf2716af6c-c000.snappy.parquet  \n",
      "  inflating: data/val_ratings_small.parquet/part-00047-94924c9f-bdb0-4a86-816c-dfaf2716af6c-c000.snappy.parquet  \n",
      "  inflating: data/val_ratings_small.parquet/part-00091-94924c9f-bdb0-4a86-816c-dfaf2716af6c-c000.snappy.parquet  \n",
      "  inflating: data/val_ratings_small.parquet/part-00044-94924c9f-bdb0-4a86-816c-dfaf2716af6c-c000.snappy.parquet  \n",
      "  inflating: data/val_ratings_small.parquet/part-00048-94924c9f-bdb0-4a86-816c-dfaf2716af6c-c000.snappy.parquet  \n",
      "  inflating: data/val_ratings_small.parquet/part-00132-94924c9f-bdb0-4a86-816c-dfaf2716af6c-c000.snappy.parquet  \n",
      "  inflating: data/val_ratings_small.parquet/part-00295-94924c9f-bdb0-4a86-816c-dfaf2716af6c-c000.snappy.parquet  \n",
      "  inflating: data/val_ratings_small.parquet/part-00126-94924c9f-bdb0-4a86-816c-dfaf2716af6c-c000.snappy.parquet  \n",
      "   creating: data/train_ratings_small.parquet/\n",
      "  inflating: data/train_ratings_small.parquet/part-00209-f4dd12c9-6e0e-4d18-9562-4417f7ed2e96-c000.snappy.parquet  \n",
      "  inflating: data/train_ratings_small.parquet/part-00021-f4dd12c9-6e0e-4d18-9562-4417f7ed2e96-c000.snappy.parquet  \n",
      "  inflating: data/train_ratings_small.parquet/part-00260-f4dd12c9-6e0e-4d18-9562-4417f7ed2e96-c000.snappy.parquet  \n",
      "  inflating: data/train_ratings_small.parquet/part-00220-f4dd12c9-6e0e-4d18-9562-4417f7ed2e96-c000.snappy.parquet  \n",
      "  inflating: data/train_ratings_small.parquet/part-00060-f4dd12c9-6e0e-4d18-9562-4417f7ed2e96-c000.snappy.parquet  \n",
      "  inflating: data/train_ratings_small.parquet/part-00012-f4dd12c9-6e0e-4d18-9562-4417f7ed2e96-c000.snappy.parquet  \n",
      "  inflating: data/train_ratings_small.parquet/part-00556-f4dd12c9-6e0e-4d18-9562-4417f7ed2e96-c000.snappy.parquet  \n",
      "  inflating: data/train_ratings_small.parquet/part-00370-f4dd12c9-6e0e-4d18-9562-4417f7ed2e96-c000.snappy.parquet  \n",
      "  inflating: data/train_ratings_small.parquet/part-00016-f4dd12c9-6e0e-4d18-9562-4417f7ed2e96-c000.snappy.parquet  \n",
      "  inflating: data/train_ratings_small.parquet/part-00312-f4dd12c9-6e0e-4d18-9562-4417f7ed2e96-c000.snappy.parquet  \n",
      "  inflating: data/train_ratings_small.parquet/part-00184-f4dd12c9-6e0e-4d18-9562-4417f7ed2e96-c000.snappy.parquet  \n",
      "  inflating: data/train_ratings_small.parquet/part-00179-f4dd12c9-6e0e-4d18-9562-4417f7ed2e96-c000.snappy.parquet  \n",
      "  inflating: data/train_ratings_small.parquet/part-00473-f4dd12c9-6e0e-4d18-9562-4417f7ed2e96-c000.snappy.parquet  \n",
      "  inflating: data/train_ratings_small.parquet/part-00130-f4dd12c9-6e0e-4d18-9562-4417f7ed2e96-c000.snappy.parquet  \n",
      "  inflating: data/train_ratings_small.parquet/part-00241-f4dd12c9-6e0e-4d18-9562-4417f7ed2e96-c000.snappy.parquet  \n",
      "  inflating: data/train_ratings_small.parquet/part-00571-f4dd12c9-6e0e-4d18-9562-4417f7ed2e96-c000.snappy.parquet  \n",
      "  inflating: data/train_ratings_small.parquet/part-00068-f4dd12c9-6e0e-4d18-9562-4417f7ed2e96-c000.snappy.parquet  \n",
      "  inflating: data/train_ratings_small.parquet/part-00350-f4dd12c9-6e0e-4d18-9562-4417f7ed2e96-c000.snappy.parquet  \n",
      "  inflating: data/train_ratings_small.parquet/part-00252-f4dd12c9-6e0e-4d18-9562-4417f7ed2e96-c000.snappy.parquet  \n",
      "  inflating: data/train_ratings_small.parquet/part-00443-f4dd12c9-6e0e-4d18-9562-4417f7ed2e96-c000.snappy.parquet  \n",
      "  inflating: data/train_ratings_small.parquet/part-00418-f4dd12c9-6e0e-4d18-9562-4417f7ed2e96-c000.snappy.parquet  \n",
      "  inflating: data/train_ratings_small.parquet/part-00494-f4dd12c9-6e0e-4d18-9562-4417f7ed2e96-c000.snappy.parquet  \n",
      "  inflating: data/train_ratings_small.parquet/part-00462-f4dd12c9-6e0e-4d18-9562-4417f7ed2e96-c000.snappy.parquet  \n",
      "  inflating: data/train_ratings_small.parquet/part-00093-f4dd12c9-6e0e-4d18-9562-4417f7ed2e96-c000.snappy.parquet  \n",
      "  inflating: data/train_ratings_small.parquet/part-00355-f4dd12c9-6e0e-4d18-9562-4417f7ed2e96-c000.snappy.parquet  \n",
      "  inflating: data/train_ratings_small.parquet/part-00225-f4dd12c9-6e0e-4d18-9562-4417f7ed2e96-c000.snappy.parquet  \n",
      "  inflating: data/train_ratings_small.parquet/part-00104-f4dd12c9-6e0e-4d18-9562-4417f7ed2e96-c000.snappy.parquet  \n",
      "  inflating: data/train_ratings_small.parquet/part-00580-f4dd12c9-6e0e-4d18-9562-4417f7ed2e96-c000.snappy.parquet  \n",
      "  inflating: data/train_ratings_small.parquet/part-00071-f4dd12c9-6e0e-4d18-9562-4417f7ed2e96-c000.snappy.parquet  \n",
      "  inflating: data/train_ratings_small.parquet/part-00157-f4dd12c9-6e0e-4d18-9562-4417f7ed2e96-c000.snappy.parquet  \n",
      "  inflating: data/train_ratings_small.parquet/part-00523-f4dd12c9-6e0e-4d18-9562-4417f7ed2e96-c000.snappy.parquet  \n",
      "  inflating: data/train_ratings_small.parquet/part-00471-f4dd12c9-6e0e-4d18-9562-4417f7ed2e96-c000.snappy.parquet  \n",
      "  inflating: data/train_ratings_small.parquet/part-00540-f4dd12c9-6e0e-4d18-9562-4417f7ed2e96-c000.snappy.parquet  \n",
      "  inflating: data/train_ratings_small.parquet/part-00371-f4dd12c9-6e0e-4d18-9562-4417f7ed2e96-c000.snappy.parquet  \n",
      "  inflating: data/train_ratings_small.parquet/part-00227-f4dd12c9-6e0e-4d18-9562-4417f7ed2e96-c000.snappy.parquet  \n",
      "  inflating: data/train_ratings_small.parquet/part-00539-f4dd12c9-6e0e-4d18-9562-4417f7ed2e96-c000.snappy.parquet  \n",
      "  inflating: data/train_ratings_small.parquet/part-00146-f4dd12c9-6e0e-4d18-9562-4417f7ed2e96-c000.snappy.parquet  \n",
      "  inflating: data/train_ratings_small.parquet/part-00187-f4dd12c9-6e0e-4d18-9562-4417f7ed2e96-c000.snappy.parquet  \n",
      "  inflating: data/train_ratings_small.parquet/part-00032-f4dd12c9-6e0e-4d18-9562-4417f7ed2e96-c000.snappy.parquet  \n",
      "  inflating: data/train_ratings_small.parquet/part-00001-f4dd12c9-6e0e-4d18-9562-4417f7ed2e96-c000.snappy.parquet  \n",
      "  inflating: data/train_ratings_small.parquet/part-00392-f4dd12c9-6e0e-4d18-9562-4417f7ed2e96-c000.snappy.parquet  \n",
      "  inflating: data/train_ratings_small.parquet/part-00291-f4dd12c9-6e0e-4d18-9562-4417f7ed2e96-c000.snappy.parquet  \n",
      "  inflating: data/train_ratings_small.parquet/part-00027-f4dd12c9-6e0e-4d18-9562-4417f7ed2e96-c000.snappy.parquet  \n",
      "  inflating: data/train_ratings_small.parquet/part-00363-f4dd12c9-6e0e-4d18-9562-4417f7ed2e96-c000.snappy.parquet  \n",
      "  inflating: data/train_ratings_small.parquet/part-00113-f4dd12c9-6e0e-4d18-9562-4417f7ed2e96-c000.snappy.parquet  \n",
      "  inflating: data/train_ratings_small.parquet/part-00489-f4dd12c9-6e0e-4d18-9562-4417f7ed2e96-c000.snappy.parquet  \n",
      "  inflating: data/train_ratings_small.parquet/part-00324-f4dd12c9-6e0e-4d18-9562-4417f7ed2e96-c000.snappy.parquet  \n",
      "  inflating: data/train_ratings_small.parquet/part-00435-f4dd12c9-6e0e-4d18-9562-4417f7ed2e96-c000.snappy.parquet  \n",
      "  inflating: data/train_ratings_small.parquet/part-00125-f4dd12c9-6e0e-4d18-9562-4417f7ed2e96-c000.snappy.parquet  \n",
      "  inflating: data/train_ratings_small.parquet/part-00037-f4dd12c9-6e0e-4d18-9562-4417f7ed2e96-c000.snappy.parquet  \n",
      "  inflating: data/train_ratings_small.parquet/part-00594-f4dd12c9-6e0e-4d18-9562-4417f7ed2e96-c000.snappy.parquet  \n",
      "  inflating: data/train_ratings_small.parquet/part-00389-f4dd12c9-6e0e-4d18-9562-4417f7ed2e96-c000.snappy.parquet  \n",
      "  inflating: data/train_ratings_small.parquet/part-00047-f4dd12c9-6e0e-4d18-9562-4417f7ed2e96-c000.snappy.parquet  \n",
      "  inflating: data/train_ratings_small.parquet/part-00246-f4dd12c9-6e0e-4d18-9562-4417f7ed2e96-c000.snappy.parquet  \n",
      "  inflating: data/train_ratings_small.parquet/part-00048-f4dd12c9-6e0e-4d18-9562-4417f7ed2e96-c000.snappy.parquet  \n",
      "  inflating: data/train_ratings_small.parquet/part-00387-f4dd12c9-6e0e-4d18-9562-4417f7ed2e96-c000.snappy.parquet  \n",
      "  inflating: data/train_ratings_small.parquet/part-00309-f4dd12c9-6e0e-4d18-9562-4417f7ed2e96-c000.snappy.parquet  \n",
      "  inflating: data/train_ratings_small.parquet/part-00549-f4dd12c9-6e0e-4d18-9562-4417f7ed2e96-c000.snappy.parquet  \n",
      "  inflating: data/train_ratings_small.parquet/part-00077-f4dd12c9-6e0e-4d18-9562-4417f7ed2e96-c000.snappy.parquet  \n",
      "  inflating: data/train_ratings_small.parquet/part-00181-f4dd12c9-6e0e-4d18-9562-4417f7ed2e96-c000.snappy.parquet  \n",
      "  inflating: data/train_ratings_small.parquet/part-00605-f4dd12c9-6e0e-4d18-9562-4417f7ed2e96-c000.snappy.parquet  \n",
      "  inflating: data/train_ratings_small.parquet/part-00083-f4dd12c9-6e0e-4d18-9562-4417f7ed2e96-c000.snappy.parquet  \n",
      "  inflating: data/train_ratings_small.parquet/part-00542-f4dd12c9-6e0e-4d18-9562-4417f7ed2e96-c000.snappy.parquet  \n",
      "  inflating: data/train_ratings_small.parquet/part-00380-f4dd12c9-6e0e-4d18-9562-4417f7ed2e96-c000.snappy.parquet  \n",
      "  inflating: data/train_ratings_small.parquet/part-00299-f4dd12c9-6e0e-4d18-9562-4417f7ed2e96-c000.snappy.parquet  \n",
      "  inflating: data/train_ratings_small.parquet/part-00135-f4dd12c9-6e0e-4d18-9562-4417f7ed2e96-c000.snappy.parquet  \n",
      "  inflating: data/train_ratings_small.parquet/part-00002-f4dd12c9-6e0e-4d18-9562-4417f7ed2e96-c000.snappy.parquet  \n",
      "  inflating: data/train_ratings_small.parquet/part-00244-f4dd12c9-6e0e-4d18-9562-4417f7ed2e96-c000.snappy.parquet  \n",
      "  inflating: data/train_ratings_small.parquet/part-00139-f4dd12c9-6e0e-4d18-9562-4417f7ed2e96-c000.snappy.parquet  \n",
      "  inflating: data/train_ratings_small.parquet/part-00019-f4dd12c9-6e0e-4d18-9562-4417f7ed2e96-c000.snappy.parquet  \n",
      "  inflating: data/train_ratings_small.parquet/part-00044-f4dd12c9-6e0e-4d18-9562-4417f7ed2e96-c000.snappy.parquet  \n",
      "  inflating: data/train_ratings_small.parquet/part-00377-f4dd12c9-6e0e-4d18-9562-4417f7ed2e96-c000.snappy.parquet  \n",
      "  inflating: data/train_ratings_small.parquet/part-00448-f4dd12c9-6e0e-4d18-9562-4417f7ed2e96-c000.snappy.parquet  \n",
      "  inflating: data/train_ratings_small.parquet/part-00202-f4dd12c9-6e0e-4d18-9562-4417f7ed2e96-c000.snappy.parquet  \n",
      "  inflating: data/train_ratings_small.parquet/part-00107-f4dd12c9-6e0e-4d18-9562-4417f7ed2e96-c000.snappy.parquet  \n",
      "  inflating: data/train_ratings_small.parquet/part-00158-f4dd12c9-6e0e-4d18-9562-4417f7ed2e96-c000.snappy.parquet  \n",
      "  inflating: data/train_ratings_small.parquet/part-00574-f4dd12c9-6e0e-4d18-9562-4417f7ed2e96-c000.snappy.parquet  \n",
      "  inflating: data/train_ratings_small.parquet/part-00170-f4dd12c9-6e0e-4d18-9562-4417f7ed2e96-c000.snappy.parquet  \n",
      "  inflating: data/train_ratings_small.parquet/part-00041-f4dd12c9-6e0e-4d18-9562-4417f7ed2e96-c000.snappy.parquet  \n",
      "  inflating: data/train_ratings_small.parquet/part-00338-f4dd12c9-6e0e-4d18-9562-4417f7ed2e96-c000.snappy.parquet  \n",
      "  inflating: data/train_ratings_small.parquet/part-00510-f4dd12c9-6e0e-4d18-9562-4417f7ed2e96-c000.snappy.parquet  \n",
      "  inflating: data/train_ratings_small.parquet/part-00013-f4dd12c9-6e0e-4d18-9562-4417f7ed2e96-c000.snappy.parquet  \n",
      "  inflating: data/train_ratings_small.parquet/part-00562-f4dd12c9-6e0e-4d18-9562-4417f7ed2e96-c000.snappy.parquet  \n",
      "  inflating: data/train_ratings_small.parquet/part-00319-f4dd12c9-6e0e-4d18-9562-4417f7ed2e96-c000.snappy.parquet  \n",
      "  inflating: data/train_ratings_small.parquet/part-00351-f4dd12c9-6e0e-4d18-9562-4417f7ed2e96-c000.snappy.parquet  \n",
      "  inflating: data/train_ratings_small.parquet/part-00505-f4dd12c9-6e0e-4d18-9562-4417f7ed2e96-c000.snappy.parquet  \n",
      "  inflating: data/train_ratings_small.parquet/part-00495-f4dd12c9-6e0e-4d18-9562-4417f7ed2e96-c000.snappy.parquet  \n",
      "  inflating: data/train_ratings_small.parquet/part-00196-f4dd12c9-6e0e-4d18-9562-4417f7ed2e96-c000.snappy.parquet  \n",
      "  inflating: data/train_ratings_small.parquet/part-00590-f4dd12c9-6e0e-4d18-9562-4417f7ed2e96-c000.snappy.parquet  \n",
      "  inflating: data/train_ratings_small.parquet/part-00115-f4dd12c9-6e0e-4d18-9562-4417f7ed2e96-c000.snappy.parquet  \n",
      "  inflating: data/train_ratings_small.parquet/part-00592-f4dd12c9-6e0e-4d18-9562-4417f7ed2e96-c000.snappy.parquet  \n",
      "  inflating: data/train_ratings_small.parquet/part-00279-f4dd12c9-6e0e-4d18-9562-4417f7ed2e96-c000.snappy.parquet  \n",
      "  inflating: data/train_ratings_small.parquet/part-00264-f4dd12c9-6e0e-4d18-9562-4417f7ed2e96-c000.snappy.parquet  \n",
      "  inflating: data/train_ratings_small.parquet/part-00374-f4dd12c9-6e0e-4d18-9562-4417f7ed2e96-c000.snappy.parquet  \n",
      "  inflating: data/train_ratings_small.parquet/part-00156-f4dd12c9-6e0e-4d18-9562-4417f7ed2e96-c000.snappy.parquet  \n",
      "  inflating: data/train_ratings_small.parquet/part-00212-f4dd12c9-6e0e-4d18-9562-4417f7ed2e96-c000.snappy.parquet  \n",
      "  inflating: data/train_ratings_small.parquet/part-00288-f4dd12c9-6e0e-4d18-9562-4417f7ed2e96-c000.snappy.parquet  \n",
      "  inflating: data/train_ratings_small.parquet/part-00193-f4dd12c9-6e0e-4d18-9562-4417f7ed2e96-c000.snappy.parquet  \n",
      "  inflating: data/train_ratings_small.parquet/part-00086-f4dd12c9-6e0e-4d18-9562-4417f7ed2e96-c000.snappy.parquet  \n",
      "  inflating: data/train_ratings_small.parquet/part-00538-f4dd12c9-6e0e-4d18-9562-4417f7ed2e96-c000.snappy.parquet  \n",
      "  inflating: data/train_ratings_small.parquet/part-00298-f4dd12c9-6e0e-4d18-9562-4417f7ed2e96-c000.snappy.parquet  \n",
      "  inflating: data/train_ratings_small.parquet/part-00055-f4dd12c9-6e0e-4d18-9562-4417f7ed2e96-c000.snappy.parquet  \n",
      "  inflating: data/train_ratings_small.parquet/part-00280-f4dd12c9-6e0e-4d18-9562-4417f7ed2e96-c000.snappy.parquet  \n",
      "  inflating: data/train_ratings_small.parquet/part-00497-f4dd12c9-6e0e-4d18-9562-4417f7ed2e96-c000.snappy.parquet  \n",
      "  inflating: data/train_ratings_small.parquet/part-00322-f4dd12c9-6e0e-4d18-9562-4417f7ed2e96-c000.snappy.parquet  \n",
      "  inflating: data/train_ratings_small.parquet/part-00321-f4dd12c9-6e0e-4d18-9562-4417f7ed2e96-c000.snappy.parquet  \n",
      "  inflating: data/train_ratings_small.parquet/part-00080-f4dd12c9-6e0e-4d18-9562-4417f7ed2e96-c000.snappy.parquet  \n",
      "  inflating: data/train_ratings_small.parquet/part-00232-f4dd12c9-6e0e-4d18-9562-4417f7ed2e96-c000.snappy.parquet  \n",
      "  inflating: data/train_ratings_small.parquet/part-00509-f4dd12c9-6e0e-4d18-9562-4417f7ed2e96-c000.snappy.parquet  \n",
      "  inflating: data/train_ratings_small.parquet/part-00222-f4dd12c9-6e0e-4d18-9562-4417f7ed2e96-c000.snappy.parquet  \n",
      "  inflating: data/train_ratings_small.parquet/part-00296-f4dd12c9-6e0e-4d18-9562-4417f7ed2e96-c000.snappy.parquet  \n",
      "  inflating: data/train_ratings_small.parquet/part-00269-f4dd12c9-6e0e-4d18-9562-4417f7ed2e96-c000.snappy.parquet  \n",
      "  inflating: data/train_ratings_small.parquet/part-00313-f4dd12c9-6e0e-4d18-9562-4417f7ed2e96-c000.snappy.parquet  \n",
      "  inflating: data/train_ratings_small.parquet/part-00352-f4dd12c9-6e0e-4d18-9562-4417f7ed2e96-c000.snappy.parquet  \n",
      "  inflating: data/train_ratings_small.parquet/part-00369-f4dd12c9-6e0e-4d18-9562-4417f7ed2e96-c000.snappy.parquet  \n",
      "  inflating: data/train_ratings_small.parquet/part-00138-f4dd12c9-6e0e-4d18-9562-4417f7ed2e96-c000.snappy.parquet  \n",
      "  inflating: data/train_ratings_small.parquet/part-00414-f4dd12c9-6e0e-4d18-9562-4417f7ed2e96-c000.snappy.parquet  \n",
      "  inflating: data/train_ratings_small.parquet/part-00342-f4dd12c9-6e0e-4d18-9562-4417f7ed2e96-c000.snappy.parquet  \n",
      "  inflating: data/train_ratings_small.parquet/part-00415-f4dd12c9-6e0e-4d18-9562-4417f7ed2e96-c000.snappy.parquet  \n",
      "  inflating: data/train_ratings_small.parquet/part-00005-f4dd12c9-6e0e-4d18-9562-4417f7ed2e96-c000.snappy.parquet  \n",
      "  inflating: data/train_ratings_small.parquet/part-00275-f4dd12c9-6e0e-4d18-9562-4417f7ed2e96-c000.snappy.parquet  \n",
      "  inflating: data/train_ratings_small.parquet/part-00301-f4dd12c9-6e0e-4d18-9562-4417f7ed2e96-c000.snappy.parquet  \n",
      "  inflating: data/train_ratings_small.parquet/part-00433-f4dd12c9-6e0e-4d18-9562-4417f7ed2e96-c000.snappy.parquet  \n",
      "  inflating: data/train_ratings_small.parquet/part-00174-f4dd12c9-6e0e-4d18-9562-4417f7ed2e96-c000.snappy.parquet  \n",
      "  inflating: data/train_ratings_small.parquet/part-00276-f4dd12c9-6e0e-4d18-9562-4417f7ed2e96-c000.snappy.parquet  \n",
      "  inflating: data/train_ratings_small.parquet/part-00315-f4dd12c9-6e0e-4d18-9562-4417f7ed2e96-c000.snappy.parquet  \n",
      "  inflating: data/train_ratings_small.parquet/part-00008-f4dd12c9-6e0e-4d18-9562-4417f7ed2e96-c000.snappy.parquet  \n",
      "  inflating: data/train_ratings_small.parquet/part-00362-f4dd12c9-6e0e-4d18-9562-4417f7ed2e96-c000.snappy.parquet  \n",
      "  inflating: data/train_ratings_small.parquet/part-00237-f4dd12c9-6e0e-4d18-9562-4417f7ed2e96-c000.snappy.parquet  \n",
      "  inflating: data/train_ratings_small.parquet/part-00467-f4dd12c9-6e0e-4d18-9562-4417f7ed2e96-c000.snappy.parquet  \n",
      "  inflating: data/train_ratings_small.parquet/part-00437-f4dd12c9-6e0e-4d18-9562-4417f7ed2e96-c000.snappy.parquet  \n",
      "  inflating: data/train_ratings_small.parquet/part-00528-f4dd12c9-6e0e-4d18-9562-4417f7ed2e96-c000.snappy.parquet  \n",
      "  inflating: data/train_ratings_small.parquet/part-00407-f4dd12c9-6e0e-4d18-9562-4417f7ed2e96-c000.snappy.parquet  \n",
      "  inflating: data/train_ratings_small.parquet/part-00584-f4dd12c9-6e0e-4d18-9562-4417f7ed2e96-c000.snappy.parquet  \n",
      "  inflating: data/train_ratings_small.parquet/part-00030-f4dd12c9-6e0e-4d18-9562-4417f7ed2e96-c000.snappy.parquet  \n",
      "  inflating: data/train_ratings_small.parquet/part-00408-f4dd12c9-6e0e-4d18-9562-4417f7ed2e96-c000.snappy.parquet  \n",
      "  inflating: data/train_ratings_small.parquet/part-00401-f4dd12c9-6e0e-4d18-9562-4417f7ed2e96-c000.snappy.parquet  \n",
      "  inflating: data/train_ratings_small.parquet/part-00341-f4dd12c9-6e0e-4d18-9562-4417f7ed2e96-c000.snappy.parquet  \n",
      "  inflating: data/train_ratings_small.parquet/part-00503-f4dd12c9-6e0e-4d18-9562-4417f7ed2e96-c000.snappy.parquet  \n",
      "  inflating: data/train_ratings_small.parquet/part-00366-f4dd12c9-6e0e-4d18-9562-4417f7ed2e96-c000.snappy.parquet  \n",
      "  inflating: data/train_ratings_small.parquet/part-00134-f4dd12c9-6e0e-4d18-9562-4417f7ed2e96-c000.snappy.parquet  \n",
      "  inflating: data/train_ratings_small.parquet/part-00576-f4dd12c9-6e0e-4d18-9562-4417f7ed2e96-c000.snappy.parquet  \n",
      "  inflating: data/train_ratings_small.parquet/part-00141-f4dd12c9-6e0e-4d18-9562-4417f7ed2e96-c000.snappy.parquet  \n",
      " extracting: data/train_ratings_small.parquet/_SUCCESS  \n",
      "  inflating: data/train_ratings_small.parquet/part-00092-f4dd12c9-6e0e-4d18-9562-4417f7ed2e96-c000.snappy.parquet  \n",
      "  inflating: data/train_ratings_small.parquet/part-00132-f4dd12c9-6e0e-4d18-9562-4417f7ed2e96-c000.snappy.parquet  \n",
      "  inflating: data/train_ratings_small.parquet/part-00168-f4dd12c9-6e0e-4d18-9562-4417f7ed2e96-c000.snappy.parquet  \n",
      "  inflating: data/train_ratings_small.parquet/part-00550-f4dd12c9-6e0e-4d18-9562-4417f7ed2e96-c000.snappy.parquet  \n",
      "  inflating: data/train_ratings_small.parquet/part-00215-f4dd12c9-6e0e-4d18-9562-4417f7ed2e96-c000.snappy.parquet  \n",
      "  inflating: data/train_ratings_small.parquet/part-00277-f4dd12c9-6e0e-4d18-9562-4417f7ed2e96-c000.snappy.parquet  \n",
      "  inflating: data/train_ratings_small.parquet/part-00517-f4dd12c9-6e0e-4d18-9562-4417f7ed2e96-c000.snappy.parquet  \n",
      "  inflating: data/train_ratings_small.parquet/part-00136-f4dd12c9-6e0e-4d18-9562-4417f7ed2e96-c000.snappy.parquet  \n",
      "  inflating: data/train_ratings_small.parquet/part-00205-f4dd12c9-6e0e-4d18-9562-4417f7ed2e96-c000.snappy.parquet  \n",
      "  inflating: data/train_ratings_small.parquet/part-00606-f4dd12c9-6e0e-4d18-9562-4417f7ed2e96-c000.snappy.parquet  \n",
      "  inflating: data/train_ratings_small.parquet/part-00167-f4dd12c9-6e0e-4d18-9562-4417f7ed2e96-c000.snappy.parquet  \n",
      "  inflating: data/train_ratings_small.parquet/part-00273-f4dd12c9-6e0e-4d18-9562-4417f7ed2e96-c000.snappy.parquet  \n",
      "  inflating: data/train_ratings_small.parquet/part-00568-f4dd12c9-6e0e-4d18-9562-4417f7ed2e96-c000.snappy.parquet  \n",
      "  inflating: data/train_ratings_small.parquet/part-00114-f4dd12c9-6e0e-4d18-9562-4417f7ed2e96-c000.snappy.parquet  \n",
      "  inflating: data/train_ratings_small.parquet/part-00491-f4dd12c9-6e0e-4d18-9562-4417f7ed2e96-c000.snappy.parquet  \n",
      "  inflating: data/train_ratings_small.parquet/part-00278-f4dd12c9-6e0e-4d18-9562-4417f7ed2e96-c000.snappy.parquet  \n",
      "  inflating: data/train_ratings_small.parquet/part-00006-f4dd12c9-6e0e-4d18-9562-4417f7ed2e96-c000.snappy.parquet  \n",
      "  inflating: data/train_ratings_small.parquet/part-00224-f4dd12c9-6e0e-4d18-9562-4417f7ed2e96-c000.snappy.parquet  \n",
      "  inflating: data/train_ratings_small.parquet/part-00475-f4dd12c9-6e0e-4d18-9562-4417f7ed2e96-c000.snappy.parquet  \n",
      "  inflating: data/train_ratings_small.parquet/part-00099-f4dd12c9-6e0e-4d18-9562-4417f7ed2e96-c000.snappy.parquet  \n",
      "  inflating: data/train_ratings_small.parquet/part-00412-f4dd12c9-6e0e-4d18-9562-4417f7ed2e96-c000.snappy.parquet  \n",
      "  inflating: data/train_ratings_small.parquet/part-00582-f4dd12c9-6e0e-4d18-9562-4417f7ed2e96-c000.snappy.parquet  \n",
      "  inflating: data/train_ratings_small.parquet/part-00203-f4dd12c9-6e0e-4d18-9562-4417f7ed2e96-c000.snappy.parquet  \n",
      "  inflating: data/train_ratings_small.parquet/part-00532-f4dd12c9-6e0e-4d18-9562-4417f7ed2e96-c000.snappy.parquet  \n",
      "  inflating: data/train_ratings_small.parquet/part-00368-f4dd12c9-6e0e-4d18-9562-4417f7ed2e96-c000.snappy.parquet  \n",
      "  inflating: data/train_ratings_small.parquet/part-00417-f4dd12c9-6e0e-4d18-9562-4417f7ed2e96-c000.snappy.parquet  \n",
      "  inflating: data/train_ratings_small.parquet/part-00145-f4dd12c9-6e0e-4d18-9562-4417f7ed2e96-c000.snappy.parquet  \n",
      "  inflating: data/train_ratings_small.parquet/part-00042-f4dd12c9-6e0e-4d18-9562-4417f7ed2e96-c000.snappy.parquet  \n",
      "  inflating: data/train_ratings_small.parquet/part-00268-f4dd12c9-6e0e-4d18-9562-4417f7ed2e96-c000.snappy.parquet  \n",
      "  inflating: data/train_ratings_small.parquet/part-00258-f4dd12c9-6e0e-4d18-9562-4417f7ed2e96-c000.snappy.parquet  \n",
      "  inflating: data/train_ratings_small.parquet/part-00400-f4dd12c9-6e0e-4d18-9562-4417f7ed2e96-c000.snappy.parquet  \n",
      "  inflating: data/train_ratings_small.parquet/part-00072-f4dd12c9-6e0e-4d18-9562-4417f7ed2e96-c000.snappy.parquet  \n",
      "  inflating: data/train_ratings_small.parquet/part-00485-f4dd12c9-6e0e-4d18-9562-4417f7ed2e96-c000.snappy.parquet  \n",
      "  inflating: data/train_ratings_small.parquet/part-00541-f4dd12c9-6e0e-4d18-9562-4417f7ed2e96-c000.snappy.parquet  \n",
      "  inflating: data/train_ratings_small.parquet/part-00533-f4dd12c9-6e0e-4d18-9562-4417f7ed2e96-c000.snappy.parquet  \n",
      "  inflating: data/train_ratings_small.parquet/part-00063-f4dd12c9-6e0e-4d18-9562-4417f7ed2e96-c000.snappy.parquet  \n",
      "  inflating: data/train_ratings_small.parquet/part-00442-f4dd12c9-6e0e-4d18-9562-4417f7ed2e96-c000.snappy.parquet  \n",
      "  inflating: data/train_ratings_small.parquet/part-00450-f4dd12c9-6e0e-4d18-9562-4417f7ed2e96-c000.snappy.parquet  \n",
      "  inflating: data/train_ratings_small.parquet/part-00085-f4dd12c9-6e0e-4d18-9562-4417f7ed2e96-c000.snappy.parquet  \n",
      "  inflating: data/train_ratings_small.parquet/part-00101-f4dd12c9-6e0e-4d18-9562-4417f7ed2e96-c000.snappy.parquet  \n",
      "  inflating: data/train_ratings_small.parquet/part-00094-f4dd12c9-6e0e-4d18-9562-4417f7ed2e96-c000.snappy.parquet  \n",
      "  inflating: data/train_ratings_small.parquet/part-00364-f4dd12c9-6e0e-4d18-9562-4417f7ed2e96-c000.snappy.parquet  \n",
      "  inflating: data/train_ratings_small.parquet/part-00534-f4dd12c9-6e0e-4d18-9562-4417f7ed2e96-c000.snappy.parquet  \n",
      "  inflating: data/train_ratings_small.parquet/part-00171-f4dd12c9-6e0e-4d18-9562-4417f7ed2e96-c000.snappy.parquet  \n",
      "  inflating: data/train_ratings_small.parquet/part-00010-f4dd12c9-6e0e-4d18-9562-4417f7ed2e96-c000.snappy.parquet  \n",
      "  inflating: data/train_ratings_small.parquet/part-00481-f4dd12c9-6e0e-4d18-9562-4417f7ed2e96-c000.snappy.parquet  \n",
      "  inflating: data/train_ratings_small.parquet/part-00256-f4dd12c9-6e0e-4d18-9562-4417f7ed2e96-c000.snappy.parquet  \n",
      "  inflating: data/train_ratings_small.parquet/part-00598-f4dd12c9-6e0e-4d18-9562-4417f7ed2e96-c000.snappy.parquet  \n",
      "  inflating: data/train_ratings_small.parquet/part-00018-f4dd12c9-6e0e-4d18-9562-4417f7ed2e96-c000.snappy.parquet  \n",
      "  inflating: data/train_ratings_small.parquet/part-00464-f4dd12c9-6e0e-4d18-9562-4417f7ed2e96-c000.snappy.parquet  \n",
      "  inflating: data/train_ratings_small.parquet/part-00432-f4dd12c9-6e0e-4d18-9562-4417f7ed2e96-c000.snappy.parquet  \n",
      "  inflating: data/train_ratings_small.parquet/part-00039-f4dd12c9-6e0e-4d18-9562-4417f7ed2e96-c000.snappy.parquet  \n",
      "  inflating: data/train_ratings_small.parquet/part-00395-f4dd12c9-6e0e-4d18-9562-4417f7ed2e96-c000.snappy.parquet  \n",
      "  inflating: data/train_ratings_small.parquet/part-00180-f4dd12c9-6e0e-4d18-9562-4417f7ed2e96-c000.snappy.parquet  \n",
      "  inflating: data/train_ratings_small.parquet/part-00570-f4dd12c9-6e0e-4d18-9562-4417f7ed2e96-c000.snappy.parquet  \n",
      "  inflating: data/train_ratings_small.parquet/part-00049-f4dd12c9-6e0e-4d18-9562-4417f7ed2e96-c000.snappy.parquet  \n",
      "  inflating: data/train_ratings_small.parquet/part-00424-f4dd12c9-6e0e-4d18-9562-4417f7ed2e96-c000.snappy.parquet  \n",
      "  inflating: data/train_ratings_small.parquet/part-00470-f4dd12c9-6e0e-4d18-9562-4417f7ed2e96-c000.snappy.parquet  \n",
      "  inflating: data/train_ratings_small.parquet/part-00253-f4dd12c9-6e0e-4d18-9562-4417f7ed2e96-c000.snappy.parquet  \n",
      "  inflating: data/train_ratings_small.parquet/part-00360-f4dd12c9-6e0e-4d18-9562-4417f7ed2e96-c000.snappy.parquet  \n",
      "  inflating: data/train_ratings_small.parquet/part-00461-f4dd12c9-6e0e-4d18-9562-4417f7ed2e96-c000.snappy.parquet  \n",
      "  inflating: data/train_ratings_small.parquet/part-00393-f4dd12c9-6e0e-4d18-9562-4417f7ed2e96-c000.snappy.parquet  \n",
      "  inflating: data/train_ratings_small.parquet/part-00521-f4dd12c9-6e0e-4d18-9562-4417f7ed2e96-c000.snappy.parquet  \n",
      "  inflating: data/train_ratings_small.parquet/part-00120-f4dd12c9-6e0e-4d18-9562-4417f7ed2e96-c000.snappy.parquet  \n",
      "  inflating: data/train_ratings_small.parquet/part-00385-f4dd12c9-6e0e-4d18-9562-4417f7ed2e96-c000.snappy.parquet  \n",
      "  inflating: data/train_ratings_small.parquet/part-00516-f4dd12c9-6e0e-4d18-9562-4417f7ed2e96-c000.snappy.parquet  \n",
      "  inflating: data/train_ratings_small.parquet/part-00602-f4dd12c9-6e0e-4d18-9562-4417f7ed2e96-c000.snappy.parquet  \n",
      "  inflating: data/train_ratings_small.parquet/part-00102-f4dd12c9-6e0e-4d18-9562-4417f7ed2e96-c000.snappy.parquet  \n",
      "  inflating: data/train_ratings_small.parquet/part-00344-f4dd12c9-6e0e-4d18-9562-4417f7ed2e96-c000.snappy.parquet  \n",
      "  inflating: data/train_ratings_small.parquet/part-00200-f4dd12c9-6e0e-4d18-9562-4417f7ed2e96-c000.snappy.parquet  \n",
      "  inflating: data/train_ratings_small.parquet/part-00052-f4dd12c9-6e0e-4d18-9562-4417f7ed2e96-c000.snappy.parquet  \n",
      "  inflating: data/train_ratings_small.parquet/part-00259-f4dd12c9-6e0e-4d18-9562-4417f7ed2e96-c000.snappy.parquet  \n",
      "  inflating: data/train_ratings_small.parquet/part-00003-f4dd12c9-6e0e-4d18-9562-4417f7ed2e96-c000.snappy.parquet  \n",
      "  inflating: data/train_ratings_small.parquet/part-00357-f4dd12c9-6e0e-4d18-9562-4417f7ed2e96-c000.snappy.parquet  \n",
      "  inflating: data/train_ratings_small.parquet/part-00214-f4dd12c9-6e0e-4d18-9562-4417f7ed2e96-c000.snappy.parquet  \n",
      "  inflating: data/train_ratings_small.parquet/part-00091-f4dd12c9-6e0e-4d18-9562-4417f7ed2e96-c000.snappy.parquet  \n",
      "  inflating: data/train_ratings_small.parquet/part-00520-f4dd12c9-6e0e-4d18-9562-4417f7ed2e96-c000.snappy.parquet  \n",
      "  inflating: data/train_ratings_small.parquet/part-00601-f4dd12c9-6e0e-4d18-9562-4417f7ed2e96-c000.snappy.parquet  \n",
      "  inflating: data/train_ratings_small.parquet/part-00148-f4dd12c9-6e0e-4d18-9562-4417f7ed2e96-c000.snappy.parquet  \n",
      "  inflating: data/train_ratings_small.parquet/part-00333-f4dd12c9-6e0e-4d18-9562-4417f7ed2e96-c000.snappy.parquet  \n",
      "  inflating: data/train_ratings_small.parquet/part-00508-f4dd12c9-6e0e-4d18-9562-4417f7ed2e96-c000.snappy.parquet  \n",
      "  inflating: data/train_ratings_small.parquet/part-00053-f4dd12c9-6e0e-4d18-9562-4417f7ed2e96-c000.snappy.parquet  \n",
      "  inflating: data/train_ratings_small.parquet/part-00457-f4dd12c9-6e0e-4d18-9562-4417f7ed2e96-c000.snappy.parquet  \n",
      "  inflating: data/train_ratings_small.parquet/part-00559-f4dd12c9-6e0e-4d18-9562-4417f7ed2e96-c000.snappy.parquet  \n",
      "  inflating: data/train_ratings_small.parquet/part-00536-f4dd12c9-6e0e-4d18-9562-4417f7ed2e96-c000.snappy.parquet  \n",
      "  inflating: data/train_ratings_small.parquet/part-00062-f4dd12c9-6e0e-4d18-9562-4417f7ed2e96-c000.snappy.parquet  \n",
      "  inflating: data/train_ratings_small.parquet/part-00186-f4dd12c9-6e0e-4d18-9562-4417f7ed2e96-c000.snappy.parquet  \n",
      "  inflating: data/train_ratings_small.parquet/part-00199-f4dd12c9-6e0e-4d18-9562-4417f7ed2e96-c000.snappy.parquet  \n",
      "  inflating: data/train_ratings_small.parquet/part-00492-f4dd12c9-6e0e-4d18-9562-4417f7ed2e96-c000.snappy.parquet  \n",
      "  inflating: data/train_ratings_small.parquet/part-00162-f4dd12c9-6e0e-4d18-9562-4417f7ed2e96-c000.snappy.parquet  \n",
      "  inflating: data/train_ratings_small.parquet/part-00511-f4dd12c9-6e0e-4d18-9562-4417f7ed2e96-c000.snappy.parquet  \n",
      "  inflating: data/train_ratings_small.parquet/part-00318-f4dd12c9-6e0e-4d18-9562-4417f7ed2e96-c000.snappy.parquet  \n",
      "  inflating: data/train_ratings_small.parquet/part-00287-f4dd12c9-6e0e-4d18-9562-4417f7ed2e96-c000.snappy.parquet  \n",
      "  inflating: data/train_ratings_small.parquet/part-00314-f4dd12c9-6e0e-4d18-9562-4417f7ed2e96-c000.snappy.parquet  \n",
      "  inflating: data/train_ratings_small.parquet/part-00474-f4dd12c9-6e0e-4d18-9562-4417f7ed2e96-c000.snappy.parquet  \n",
      "  inflating: data/train_ratings_small.parquet/part-00164-f4dd12c9-6e0e-4d18-9562-4417f7ed2e96-c000.snappy.parquet  \n",
      "  inflating: data/train_ratings_small.parquet/part-00444-f4dd12c9-6e0e-4d18-9562-4417f7ed2e96-c000.snappy.parquet  \n",
      "  inflating: data/train_ratings_small.parquet/part-00567-f4dd12c9-6e0e-4d18-9562-4417f7ed2e96-c000.snappy.parquet  \n",
      "  inflating: data/train_ratings_small.parquet/part-00155-f4dd12c9-6e0e-4d18-9562-4417f7ed2e96-c000.snappy.parquet  \n",
      "  inflating: data/train_ratings_small.parquet/part-00599-f4dd12c9-6e0e-4d18-9562-4417f7ed2e96-c000.snappy.parquet  \n",
      "  inflating: data/train_ratings_small.parquet/part-00438-f4dd12c9-6e0e-4d18-9562-4417f7ed2e96-c000.snappy.parquet  \n",
      "  inflating: data/train_ratings_small.parquet/part-00609-f4dd12c9-6e0e-4d18-9562-4417f7ed2e96-c000.snappy.parquet  \n",
      "  inflating: data/train_ratings_small.parquet/part-00579-f4dd12c9-6e0e-4d18-9562-4417f7ed2e96-c000.snappy.parquet  \n",
      "  inflating: data/train_ratings_small.parquet/part-00201-f4dd12c9-6e0e-4d18-9562-4417f7ed2e96-c000.snappy.parquet  \n",
      "  inflating: data/train_ratings_small.parquet/part-00323-f4dd12c9-6e0e-4d18-9562-4417f7ed2e96-c000.snappy.parquet  \n",
      "  inflating: data/train_ratings_small.parquet/part-00236-f4dd12c9-6e0e-4d18-9562-4417f7ed2e96-c000.snappy.parquet  \n",
      "  inflating: data/train_ratings_small.parquet/part-00317-f4dd12c9-6e0e-4d18-9562-4417f7ed2e96-c000.snappy.parquet  \n",
      "  inflating: data/train_ratings_small.parquet/part-00285-f4dd12c9-6e0e-4d18-9562-4417f7ed2e96-c000.snappy.parquet  \n",
      "  inflating: data/train_ratings_small.parquet/part-00348-f4dd12c9-6e0e-4d18-9562-4417f7ed2e96-c000.snappy.parquet  \n",
      "  inflating: data/train_ratings_small.parquet/part-00524-f4dd12c9-6e0e-4d18-9562-4417f7ed2e96-c000.snappy.parquet  \n",
      "  inflating: data/train_ratings_small.parquet/part-00137-f4dd12c9-6e0e-4d18-9562-4417f7ed2e96-c000.snappy.parquet  \n",
      "  inflating: data/train_ratings_small.parquet/part-00504-f4dd12c9-6e0e-4d18-9562-4417f7ed2e96-c000.snappy.parquet  \n",
      "  inflating: data/train_ratings_small.parquet/part-00014-f4dd12c9-6e0e-4d18-9562-4417f7ed2e96-c000.snappy.parquet  \n",
      "  inflating: data/train_ratings_small.parquet/part-00190-f4dd12c9-6e0e-4d18-9562-4417f7ed2e96-c000.snappy.parquet  \n",
      "  inflating: data/train_ratings_small.parquet/part-00525-f4dd12c9-6e0e-4d18-9562-4417f7ed2e96-c000.snappy.parquet  \n",
      "  inflating: data/train_ratings_small.parquet/part-00031-f4dd12c9-6e0e-4d18-9562-4417f7ed2e96-c000.snappy.parquet  \n",
      "  inflating: data/train_ratings_small.parquet/part-00189-f4dd12c9-6e0e-4d18-9562-4417f7ed2e96-c000.snappy.parquet  \n",
      "  inflating: data/train_ratings_small.parquet/part-00575-f4dd12c9-6e0e-4d18-9562-4417f7ed2e96-c000.snappy.parquet  \n",
      "  inflating: data/train_ratings_small.parquet/part-00410-f4dd12c9-6e0e-4d18-9562-4417f7ed2e96-c000.snappy.parquet  \n",
      "  inflating: data/train_ratings_small.parquet/part-00447-f4dd12c9-6e0e-4d18-9562-4417f7ed2e96-c000.snappy.parquet  \n",
      "  inflating: data/train_ratings_small.parquet/part-00496-f4dd12c9-6e0e-4d18-9562-4417f7ed2e96-c000.snappy.parquet  \n",
      "  inflating: data/train_ratings_small.parquet/part-00058-f4dd12c9-6e0e-4d18-9562-4417f7ed2e96-c000.snappy.parquet  \n",
      "  inflating: data/train_ratings_small.parquet/part-00119-f4dd12c9-6e0e-4d18-9562-4417f7ed2e96-c000.snappy.parquet  \n",
      "  inflating: data/train_ratings_small.parquet/part-00439-f4dd12c9-6e0e-4d18-9562-4417f7ed2e96-c000.snappy.parquet  \n",
      "  inflating: data/train_ratings_small.parquet/part-00017-f4dd12c9-6e0e-4d18-9562-4417f7ed2e96-c000.snappy.parquet  \n",
      "  inflating: data/train_ratings_small.parquet/part-00500-f4dd12c9-6e0e-4d18-9562-4417f7ed2e96-c000.snappy.parquet  \n",
      "  inflating: data/train_ratings_small.parquet/part-00429-f4dd12c9-6e0e-4d18-9562-4417f7ed2e96-c000.snappy.parquet  \n",
      "  inflating: data/train_ratings_small.parquet/part-00423-f4dd12c9-6e0e-4d18-9562-4417f7ed2e96-c000.snappy.parquet  \n",
      "  inflating: data/train_ratings_small.parquet/part-00373-f4dd12c9-6e0e-4d18-9562-4417f7ed2e96-c000.snappy.parquet  \n",
      "  inflating: data/train_ratings_small.parquet/part-00121-f4dd12c9-6e0e-4d18-9562-4417f7ed2e96-c000.snappy.parquet  \n",
      "  inflating: data/train_ratings_small.parquet/part-00160-f4dd12c9-6e0e-4d18-9562-4417f7ed2e96-c000.snappy.parquet  \n",
      "  inflating: data/train_ratings_small.parquet/part-00515-f4dd12c9-6e0e-4d18-9562-4417f7ed2e96-c000.snappy.parquet  \n",
      "  inflating: data/train_ratings_small.parquet/part-00124-f4dd12c9-6e0e-4d18-9562-4417f7ed2e96-c000.snappy.parquet  \n",
      "  inflating: data/train_ratings_small.parquet/part-00238-f4dd12c9-6e0e-4d18-9562-4417f7ed2e96-c000.snappy.parquet  \n",
      "  inflating: data/train_ratings_small.parquet/part-00419-f4dd12c9-6e0e-4d18-9562-4417f7ed2e96-c000.snappy.parquet  \n",
      "  inflating: data/train_ratings_small.parquet/part-00140-f4dd12c9-6e0e-4d18-9562-4417f7ed2e96-c000.snappy.parquet  \n",
      "  inflating: data/train_ratings_small.parquet/part-00543-f4dd12c9-6e0e-4d18-9562-4417f7ed2e96-c000.snappy.parquet  \n",
      "  inflating: data/train_ratings_small.parquet/part-00289-f4dd12c9-6e0e-4d18-9562-4417f7ed2e96-c000.snappy.parquet  \n",
      "  inflating: data/train_ratings_small.parquet/part-00384-f4dd12c9-6e0e-4d18-9562-4417f7ed2e96-c000.snappy.parquet  \n",
      "  inflating: data/train_ratings_small.parquet/part-00095-f4dd12c9-6e0e-4d18-9562-4417f7ed2e96-c000.snappy.parquet  \n",
      "  inflating: data/train_ratings_small.parquet/part-00499-f4dd12c9-6e0e-4d18-9562-4417f7ed2e96-c000.snappy.parquet  \n",
      "  inflating: data/train_ratings_small.parquet/part-00239-f4dd12c9-6e0e-4d18-9562-4417f7ed2e96-c000.snappy.parquet  \n",
      "  inflating: data/train_ratings_small.parquet/part-00079-f4dd12c9-6e0e-4d18-9562-4417f7ed2e96-c000.snappy.parquet  \n",
      "  inflating: data/train_ratings_small.parquet/part-00011-f4dd12c9-6e0e-4d18-9562-4417f7ed2e96-c000.snappy.parquet  \n",
      "  inflating: data/train_ratings_small.parquet/part-00441-f4dd12c9-6e0e-4d18-9562-4417f7ed2e96-c000.snappy.parquet  \n",
      "  inflating: data/train_ratings_small.parquet/part-00133-f4dd12c9-6e0e-4d18-9562-4417f7ed2e96-c000.snappy.parquet  \n",
      "  inflating: data/train_ratings_small.parquet/part-00064-f4dd12c9-6e0e-4d18-9562-4417f7ed2e96-c000.snappy.parquet  \n",
      "  inflating: data/train_ratings_small.parquet/part-00411-f4dd12c9-6e0e-4d18-9562-4417f7ed2e96-c000.snappy.parquet  \n",
      "  inflating: data/train_ratings_small.parquet/part-00311-f4dd12c9-6e0e-4d18-9562-4417f7ed2e96-c000.snappy.parquet  \n",
      "  inflating: data/train_ratings_small.parquet/part-00359-f4dd12c9-6e0e-4d18-9562-4417f7ed2e96-c000.snappy.parquet  \n",
      "  inflating: data/train_ratings_small.parquet/part-00501-f4dd12c9-6e0e-4d18-9562-4417f7ed2e96-c000.snappy.parquet  \n",
      "  inflating: data/train_ratings_small.parquet/part-00453-f4dd12c9-6e0e-4d18-9562-4417f7ed2e96-c000.snappy.parquet  \n",
      "  inflating: data/train_ratings_small.parquet/part-00552-f4dd12c9-6e0e-4d18-9562-4417f7ed2e96-c000.snappy.parquet  \n",
      "  inflating: data/train_ratings_small.parquet/part-00028-f4dd12c9-6e0e-4d18-9562-4417f7ed2e96-c000.snappy.parquet  \n",
      "  inflating: data/train_ratings_small.parquet/part-00390-f4dd12c9-6e0e-4d18-9562-4417f7ed2e96-c000.snappy.parquet  \n",
      "  inflating: data/train_ratings_small.parquet/part-00440-f4dd12c9-6e0e-4d18-9562-4417f7ed2e96-c000.snappy.parquet  \n",
      "  inflating: data/train_ratings_small.parquet/part-00560-f4dd12c9-6e0e-4d18-9562-4417f7ed2e96-c000.snappy.parquet  \n",
      "  inflating: data/train_ratings_small.parquet/part-00057-f4dd12c9-6e0e-4d18-9562-4417f7ed2e96-c000.snappy.parquet  \n",
      "  inflating: data/train_ratings_small.parquet/part-00166-f4dd12c9-6e0e-4d18-9562-4417f7ed2e96-c000.snappy.parquet  \n",
      "  inflating: data/train_ratings_small.parquet/part-00178-f4dd12c9-6e0e-4d18-9562-4417f7ed2e96-c000.snappy.parquet  \n",
      "  inflating: data/train_ratings_small.parquet/part-00386-f4dd12c9-6e0e-4d18-9562-4417f7ed2e96-c000.snappy.parquet  \n",
      "  inflating: data/train_ratings_small.parquet/part-00310-f4dd12c9-6e0e-4d18-9562-4417f7ed2e96-c000.snappy.parquet  \n",
      "  inflating: data/train_ratings_small.parquet/part-00059-f4dd12c9-6e0e-4d18-9562-4417f7ed2e96-c000.snappy.parquet  \n",
      "  inflating: data/train_ratings_small.parquet/part-00597-f4dd12c9-6e0e-4d18-9562-4417f7ed2e96-c000.snappy.parquet  \n",
      "  inflating: data/train_ratings_small.parquet/part-00127-f4dd12c9-6e0e-4d18-9562-4417f7ed2e96-c000.snappy.parquet  \n",
      "  inflating: data/train_ratings_small.parquet/part-00297-f4dd12c9-6e0e-4d18-9562-4417f7ed2e96-c000.snappy.parquet  \n",
      "  inflating: data/train_ratings_small.parquet/part-00265-f4dd12c9-6e0e-4d18-9562-4417f7ed2e96-c000.snappy.parquet  \n",
      "  inflating: data/train_ratings_small.parquet/part-00544-f4dd12c9-6e0e-4d18-9562-4417f7ed2e96-c000.snappy.parquet  \n",
      "  inflating: data/train_ratings_small.parquet/part-00078-f4dd12c9-6e0e-4d18-9562-4417f7ed2e96-c000.snappy.parquet  \n",
      "  inflating: data/train_ratings_small.parquet/part-00075-f4dd12c9-6e0e-4d18-9562-4417f7ed2e96-c000.snappy.parquet  \n",
      "  inflating: data/train_ratings_small.parquet/part-00304-f4dd12c9-6e0e-4d18-9562-4417f7ed2e96-c000.snappy.parquet  \n",
      "  inflating: data/train_ratings_small.parquet/part-00033-f4dd12c9-6e0e-4d18-9562-4417f7ed2e96-c000.snappy.parquet  \n",
      "  inflating: data/train_ratings_small.parquet/part-00603-f4dd12c9-6e0e-4d18-9562-4417f7ed2e96-c000.snappy.parquet  \n",
      "  inflating: data/train_ratings_small.parquet/part-00185-f4dd12c9-6e0e-4d18-9562-4417f7ed2e96-c000.snappy.parquet  \n",
      "  inflating: data/train_ratings_small.parquet/part-00486-f4dd12c9-6e0e-4d18-9562-4417f7ed2e96-c000.snappy.parquet  \n",
      "  inflating: data/train_ratings_small.parquet/part-00326-f4dd12c9-6e0e-4d18-9562-4417f7ed2e96-c000.snappy.parquet  \n",
      "  inflating: data/train_ratings_small.parquet/part-00406-f4dd12c9-6e0e-4d18-9562-4417f7ed2e96-c000.snappy.parquet  \n",
      "  inflating: data/train_ratings_small.parquet/part-00531-f4dd12c9-6e0e-4d18-9562-4417f7ed2e96-c000.snappy.parquet  \n",
      "  inflating: data/train_ratings_small.parquet/part-00022-f4dd12c9-6e0e-4d18-9562-4417f7ed2e96-c000.snappy.parquet  \n",
      "  inflating: data/train_ratings_small.parquet/part-00108-f4dd12c9-6e0e-4d18-9562-4417f7ed2e96-c000.snappy.parquet  \n",
      "  inflating: data/train_ratings_small.parquet/part-00316-f4dd12c9-6e0e-4d18-9562-4417f7ed2e96-c000.snappy.parquet  \n",
      "  inflating: data/train_ratings_small.parquet/part-00261-f4dd12c9-6e0e-4d18-9562-4417f7ed2e96-c000.snappy.parquet  \n",
      "  inflating: data/train_ratings_small.parquet/part-00558-f4dd12c9-6e0e-4d18-9562-4417f7ed2e96-c000.snappy.parquet  \n",
      "  inflating: data/train_ratings_small.parquet/part-00142-f4dd12c9-6e0e-4d18-9562-4417f7ed2e96-c000.snappy.parquet  \n",
      "  inflating: data/train_ratings_small.parquet/part-00345-f4dd12c9-6e0e-4d18-9562-4417f7ed2e96-c000.snappy.parquet  \n",
      "  inflating: data/train_ratings_small.parquet/part-00547-f4dd12c9-6e0e-4d18-9562-4417f7ed2e96-c000.snappy.parquet  \n",
      "  inflating: data/train_ratings_small.parquet/part-00507-f4dd12c9-6e0e-4d18-9562-4417f7ed2e96-c000.snappy.parquet  \n",
      "  inflating: data/train_ratings_small.parquet/part-00177-f4dd12c9-6e0e-4d18-9562-4417f7ed2e96-c000.snappy.parquet  \n",
      "  inflating: data/train_ratings_small.parquet/part-00292-f4dd12c9-6e0e-4d18-9562-4417f7ed2e96-c000.snappy.parquet  \n",
      "  inflating: data/train_ratings_small.parquet/part-00294-f4dd12c9-6e0e-4d18-9562-4417f7ed2e96-c000.snappy.parquet  \n",
      "  inflating: data/train_ratings_small.parquet/part-00535-f4dd12c9-6e0e-4d18-9562-4417f7ed2e96-c000.snappy.parquet  \n",
      "  inflating: data/train_ratings_small.parquet/part-00607-f4dd12c9-6e0e-4d18-9562-4417f7ed2e96-c000.snappy.parquet  \n",
      "  inflating: data/train_ratings_small.parquet/part-00143-f4dd12c9-6e0e-4d18-9562-4417f7ed2e96-c000.snappy.parquet  \n",
      "  inflating: data/train_ratings_small.parquet/part-00117-f4dd12c9-6e0e-4d18-9562-4417f7ed2e96-c000.snappy.parquet  \n",
      "  inflating: data/train_ratings_small.parquet/part-00421-f4dd12c9-6e0e-4d18-9562-4417f7ed2e96-c000.snappy.parquet  \n",
      "  inflating: data/train_ratings_small.parquet/part-00056-f4dd12c9-6e0e-4d18-9562-4417f7ed2e96-c000.snappy.parquet  \n",
      "  inflating: data/train_ratings_small.parquet/part-00111-f4dd12c9-6e0e-4d18-9562-4417f7ed2e96-c000.snappy.parquet  \n",
      "  inflating: data/train_ratings_small.parquet/part-00554-f4dd12c9-6e0e-4d18-9562-4417f7ed2e96-c000.snappy.parquet  \n",
      "  inflating: data/train_ratings_small.parquet/part-00067-f4dd12c9-6e0e-4d18-9562-4417f7ed2e96-c000.snappy.parquet  \n",
      "  inflating: data/train_ratings_small.parquet/part-00608-f4dd12c9-6e0e-4d18-9562-4417f7ed2e96-c000.snappy.parquet  \n",
      "  inflating: data/train_ratings_small.parquet/part-00089-f4dd12c9-6e0e-4d18-9562-4417f7ed2e96-c000.snappy.parquet  \n",
      "  inflating: data/train_ratings_small.parquet/part-00451-f4dd12c9-6e0e-4d18-9562-4417f7ed2e96-c000.snappy.parquet  \n",
      "  inflating: data/train_ratings_small.parquet/part-00020-f4dd12c9-6e0e-4d18-9562-4417f7ed2e96-c000.snappy.parquet  \n",
      "  inflating: data/train_ratings_small.parquet/part-00472-f4dd12c9-6e0e-4d18-9562-4417f7ed2e96-c000.snappy.parquet  \n",
      "  inflating: data/train_ratings_small.parquet/part-00487-f4dd12c9-6e0e-4d18-9562-4417f7ed2e96-c000.snappy.parquet  \n",
      "  inflating: data/train_ratings_small.parquet/part-00546-f4dd12c9-6e0e-4d18-9562-4417f7ed2e96-c000.snappy.parquet  \n",
      "  inflating: data/train_ratings_small.parquet/part-00262-f4dd12c9-6e0e-4d18-9562-4417f7ed2e96-c000.snappy.parquet  \n",
      "  inflating: data/train_ratings_small.parquet/part-00233-f4dd12c9-6e0e-4d18-9562-4417f7ed2e96-c000.snappy.parquet  \n",
      "  inflating: data/train_ratings_small.parquet/part-00409-f4dd12c9-6e0e-4d18-9562-4417f7ed2e96-c000.snappy.parquet  \n",
      "  inflating: data/train_ratings_small.parquet/part-00045-f4dd12c9-6e0e-4d18-9562-4417f7ed2e96-c000.snappy.parquet  \n",
      "  inflating: data/train_ratings_small.parquet/part-00098-f4dd12c9-6e0e-4d18-9562-4417f7ed2e96-c000.snappy.parquet  \n",
      "  inflating: data/train_ratings_small.parquet/part-00118-f4dd12c9-6e0e-4d18-9562-4417f7ed2e96-c000.snappy.parquet  \n",
      "  inflating: data/train_ratings_small.parquet/part-00282-f4dd12c9-6e0e-4d18-9562-4417f7ed2e96-c000.snappy.parquet  \n",
      "  inflating: data/train_ratings_small.parquet/part-00270-f4dd12c9-6e0e-4d18-9562-4417f7ed2e96-c000.snappy.parquet  \n",
      "  inflating: data/train_ratings_small.parquet/part-00522-f4dd12c9-6e0e-4d18-9562-4417f7ed2e96-c000.snappy.parquet  \n",
      "  inflating: data/train_ratings_small.parquet/part-00583-f4dd12c9-6e0e-4d18-9562-4417f7ed2e96-c000.snappy.parquet  \n",
      "  inflating: data/train_ratings_small.parquet/part-00216-f4dd12c9-6e0e-4d18-9562-4417f7ed2e96-c000.snappy.parquet  \n",
      "  inflating: data/train_ratings_small.parquet/part-00436-f4dd12c9-6e0e-4d18-9562-4417f7ed2e96-c000.snappy.parquet  \n",
      "  inflating: data/train_ratings_small.parquet/part-00173-f4dd12c9-6e0e-4d18-9562-4417f7ed2e96-c000.snappy.parquet  \n",
      "  inflating: data/train_ratings_small.parquet/part-00354-f4dd12c9-6e0e-4d18-9562-4417f7ed2e96-c000.snappy.parquet  \n",
      "  inflating: data/train_ratings_small.parquet/part-00347-f4dd12c9-6e0e-4d18-9562-4417f7ed2e96-c000.snappy.parquet  \n",
      "  inflating: data/train_ratings_small.parquet/part-00506-f4dd12c9-6e0e-4d18-9562-4417f7ed2e96-c000.snappy.parquet  \n",
      "  inflating: data/train_ratings_small.parquet/part-00591-f4dd12c9-6e0e-4d18-9562-4417f7ed2e96-c000.snappy.parquet  \n",
      "  inflating: data/train_ratings_small.parquet/part-00050-f4dd12c9-6e0e-4d18-9562-4417f7ed2e96-c000.snappy.parquet  \n",
      "  inflating: data/train_ratings_small.parquet/part-00217-f4dd12c9-6e0e-4d18-9562-4417f7ed2e96-c000.snappy.parquet  \n",
      "  inflating: data/train_ratings_small.parquet/part-00529-f4dd12c9-6e0e-4d18-9562-4417f7ed2e96-c000.snappy.parquet  \n",
      "  inflating: data/train_ratings_small.parquet/part-00426-f4dd12c9-6e0e-4d18-9562-4417f7ed2e96-c000.snappy.parquet  \n",
      "  inflating: data/train_ratings_small.parquet/part-00176-f4dd12c9-6e0e-4d18-9562-4417f7ed2e96-c000.snappy.parquet  \n",
      "  inflating: data/train_ratings_small.parquet/part-00446-f4dd12c9-6e0e-4d18-9562-4417f7ed2e96-c000.snappy.parquet  \n",
      "  inflating: data/train_ratings_small.parquet/part-00007-f4dd12c9-6e0e-4d18-9562-4417f7ed2e96-c000.snappy.parquet  \n",
      "  inflating: data/train_ratings_small.parquet/part-00300-f4dd12c9-6e0e-4d18-9562-4417f7ed2e96-c000.snappy.parquet  \n",
      "  inflating: data/train_ratings_small.parquet/part-00302-f4dd12c9-6e0e-4d18-9562-4417f7ed2e96-c000.snappy.parquet  \n",
      "  inflating: data/train_ratings_small.parquet/part-00391-f4dd12c9-6e0e-4d18-9562-4417f7ed2e96-c000.snappy.parquet  \n",
      "  inflating: data/train_ratings_small.parquet/part-00431-f4dd12c9-6e0e-4d18-9562-4417f7ed2e96-c000.snappy.parquet  \n",
      "  inflating: data/train_ratings_small.parquet/part-00476-f4dd12c9-6e0e-4d18-9562-4417f7ed2e96-c000.snappy.parquet  \n",
      "  inflating: data/train_ratings_small.parquet/part-00454-f4dd12c9-6e0e-4d18-9562-4417f7ed2e96-c000.snappy.parquet  \n",
      "  inflating: data/train_ratings_small.parquet/part-00025-f4dd12c9-6e0e-4d18-9562-4417f7ed2e96-c000.snappy.parquet  \n",
      "  inflating: data/train_ratings_small.parquet/part-00223-f4dd12c9-6e0e-4d18-9562-4417f7ed2e96-c000.snappy.parquet  \n",
      "  inflating: data/train_ratings_small.parquet/part-00331-f4dd12c9-6e0e-4d18-9562-4417f7ed2e96-c000.snappy.parquet  \n",
      "  inflating: data/train_ratings_small.parquet/part-00106-f4dd12c9-6e0e-4d18-9562-4417f7ed2e96-c000.snappy.parquet  \n",
      "  inflating: data/train_ratings_small.parquet/part-00026-f4dd12c9-6e0e-4d18-9562-4417f7ed2e96-c000.snappy.parquet  \n",
      "  inflating: data/train_ratings_small.parquet/part-00226-f4dd12c9-6e0e-4d18-9562-4417f7ed2e96-c000.snappy.parquet  \n",
      "  inflating: data/train_ratings_small.parquet/part-00514-f4dd12c9-6e0e-4d18-9562-4417f7ed2e96-c000.snappy.parquet  \n",
      "  inflating: data/train_ratings_small.parquet/part-00255-f4dd12c9-6e0e-4d18-9562-4417f7ed2e96-c000.snappy.parquet  \n",
      "  inflating: data/train_ratings_small.parquet/part-00482-f4dd12c9-6e0e-4d18-9562-4417f7ed2e96-c000.snappy.parquet  \n",
      "  inflating: data/train_ratings_small.parquet/part-00512-f4dd12c9-6e0e-4d18-9562-4417f7ed2e96-c000.snappy.parquet  \n",
      "  inflating: data/train_ratings_small.parquet/part-00281-f4dd12c9-6e0e-4d18-9562-4417f7ed2e96-c000.snappy.parquet  \n",
      "  inflating: data/train_ratings_small.parquet/part-00349-f4dd12c9-6e0e-4d18-9562-4417f7ed2e96-c000.snappy.parquet  \n",
      "  inflating: data/train_ratings_small.parquet/part-00175-f4dd12c9-6e0e-4d18-9562-4417f7ed2e96-c000.snappy.parquet  \n",
      "  inflating: data/train_ratings_small.parquet/part-00343-f4dd12c9-6e0e-4d18-9562-4417f7ed2e96-c000.snappy.parquet  \n",
      "  inflating: data/train_ratings_small.parquet/part-00379-f4dd12c9-6e0e-4d18-9562-4417f7ed2e96-c000.snappy.parquet  \n",
      "  inflating: data/train_ratings_small.parquet/part-00526-f4dd12c9-6e0e-4d18-9562-4417f7ed2e96-c000.snappy.parquet  \n",
      "  inflating: data/train_ratings_small.parquet/part-00198-f4dd12c9-6e0e-4d18-9562-4417f7ed2e96-c000.snappy.parquet  \n",
      "  inflating: data/train_ratings_small.parquet/part-00245-f4dd12c9-6e0e-4d18-9562-4417f7ed2e96-c000.snappy.parquet  \n",
      "  inflating: data/train_ratings_small.parquet/part-00307-f4dd12c9-6e0e-4d18-9562-4417f7ed2e96-c000.snappy.parquet  \n",
      "  inflating: data/train_ratings_small.parquet/part-00165-f4dd12c9-6e0e-4d18-9562-4417f7ed2e96-c000.snappy.parquet  \n",
      "  inflating: data/train_ratings_small.parquet/part-00477-f4dd12c9-6e0e-4d18-9562-4417f7ed2e96-c000.snappy.parquet  \n",
      "  inflating: data/train_ratings_small.parquet/part-00459-f4dd12c9-6e0e-4d18-9562-4417f7ed2e96-c000.snappy.parquet  \n",
      "  inflating: data/train_ratings_small.parquet/part-00502-f4dd12c9-6e0e-4d18-9562-4417f7ed2e96-c000.snappy.parquet  \n",
      "  inflating: data/train_ratings_small.parquet/part-00251-f4dd12c9-6e0e-4d18-9562-4417f7ed2e96-c000.snappy.parquet  \n",
      "  inflating: data/train_ratings_small.parquet/part-00303-f4dd12c9-6e0e-4d18-9562-4417f7ed2e96-c000.snappy.parquet  \n",
      "  inflating: data/train_ratings_small.parquet/part-00129-f4dd12c9-6e0e-4d18-9562-4417f7ed2e96-c000.snappy.parquet  \n",
      "  inflating: data/train_ratings_small.parquet/part-00191-f4dd12c9-6e0e-4d18-9562-4417f7ed2e96-c000.snappy.parquet  \n",
      "  inflating: data/train_ratings_small.parquet/part-00375-f4dd12c9-6e0e-4d18-9562-4417f7ed2e96-c000.snappy.parquet  \n",
      "  inflating: data/train_ratings_small.parquet/part-00213-f4dd12c9-6e0e-4d18-9562-4417f7ed2e96-c000.snappy.parquet  \n",
      "  inflating: data/train_ratings_small.parquet/part-00445-f4dd12c9-6e0e-4d18-9562-4417f7ed2e96-c000.snappy.parquet  \n",
      "  inflating: data/train_ratings_small.parquet/part-00163-f4dd12c9-6e0e-4d18-9562-4417f7ed2e96-c000.snappy.parquet  \n",
      "  inflating: data/train_ratings_small.parquet/part-00469-f4dd12c9-6e0e-4d18-9562-4417f7ed2e96-c000.snappy.parquet  \n",
      "  inflating: data/train_ratings_small.parquet/part-00358-f4dd12c9-6e0e-4d18-9562-4417f7ed2e96-c000.snappy.parquet  \n",
      "  inflating: data/train_ratings_small.parquet/part-00000-f4dd12c9-6e0e-4d18-9562-4417f7ed2e96-c000.snappy.parquet  \n",
      "  inflating: data/train_ratings_small.parquet/part-00488-f4dd12c9-6e0e-4d18-9562-4417f7ed2e96-c000.snappy.parquet  \n",
      "  inflating: data/train_ratings_small.parquet/part-00054-f4dd12c9-6e0e-4d18-9562-4417f7ed2e96-c000.snappy.parquet  \n",
      "  inflating: data/train_ratings_small.parquet/part-00456-f4dd12c9-6e0e-4d18-9562-4417f7ed2e96-c000.snappy.parquet  \n",
      "  inflating: data/train_ratings_small.parquet/part-00466-f4dd12c9-6e0e-4d18-9562-4417f7ed2e96-c000.snappy.parquet  \n",
      "  inflating: data/train_ratings_small.parquet/part-00023-f4dd12c9-6e0e-4d18-9562-4417f7ed2e96-c000.snappy.parquet  \n",
      "  inflating: data/train_ratings_small.parquet/part-00188-f4dd12c9-6e0e-4d18-9562-4417f7ed2e96-c000.snappy.parquet  \n",
      "  inflating: data/train_ratings_small.parquet/part-00325-f4dd12c9-6e0e-4d18-9562-4417f7ed2e96-c000.snappy.parquet  \n",
      "  inflating: data/train_ratings_small.parquet/part-00569-f4dd12c9-6e0e-4d18-9562-4417f7ed2e96-c000.snappy.parquet  \n",
      "  inflating: data/train_ratings_small.parquet/part-00084-f4dd12c9-6e0e-4d18-9562-4417f7ed2e96-c000.snappy.parquet  \n",
      "  inflating: data/train_ratings_small.parquet/part-00112-f4dd12c9-6e0e-4d18-9562-4417f7ed2e96-c000.snappy.parquet  \n",
      "  inflating: data/train_ratings_small.parquet/part-00229-f4dd12c9-6e0e-4d18-9562-4417f7ed2e96-c000.snappy.parquet  \n",
      "  inflating: data/train_ratings_small.parquet/part-00332-f4dd12c9-6e0e-4d18-9562-4417f7ed2e96-c000.snappy.parquet  \n",
      "  inflating: data/train_ratings_small.parquet/part-00230-f4dd12c9-6e0e-4d18-9562-4417f7ed2e96-c000.snappy.parquet  \n",
      "  inflating: data/train_ratings_small.parquet/part-00081-f4dd12c9-6e0e-4d18-9562-4417f7ed2e96-c000.snappy.parquet  \n",
      "  inflating: data/train_ratings_small.parquet/part-00577-f4dd12c9-6e0e-4d18-9562-4417f7ed2e96-c000.snappy.parquet  \n",
      "  inflating: data/train_ratings_small.parquet/part-00172-f4dd12c9-6e0e-4d18-9562-4417f7ed2e96-c000.snappy.parquet  \n",
      "  inflating: data/train_ratings_small.parquet/part-00128-f4dd12c9-6e0e-4d18-9562-4417f7ed2e96-c000.snappy.parquet  \n",
      "  inflating: data/train_ratings_small.parquet/part-00082-f4dd12c9-6e0e-4d18-9562-4417f7ed2e96-c000.snappy.parquet  \n",
      "  inflating: data/train_ratings_small.parquet/part-00578-f4dd12c9-6e0e-4d18-9562-4417f7ed2e96-c000.snappy.parquet  \n",
      "  inflating: data/train_ratings_small.parquet/part-00149-f4dd12c9-6e0e-4d18-9562-4417f7ed2e96-c000.snappy.parquet  \n",
      "  inflating: data/train_ratings_small.parquet/part-00428-f4dd12c9-6e0e-4d18-9562-4417f7ed2e96-c000.snappy.parquet  \n",
      "  inflating: data/train_ratings_small.parquet/part-00293-f4dd12c9-6e0e-4d18-9562-4417f7ed2e96-c000.snappy.parquet  \n",
      "  inflating: data/train_ratings_small.parquet/part-00565-f4dd12c9-6e0e-4d18-9562-4417f7ed2e96-c000.snappy.parquet  \n",
      "  inflating: data/train_ratings_small.parquet/part-00221-f4dd12c9-6e0e-4d18-9562-4417f7ed2e96-c000.snappy.parquet  \n",
      "  inflating: data/train_ratings_small.parquet/part-00404-f4dd12c9-6e0e-4d18-9562-4417f7ed2e96-c000.snappy.parquet  \n",
      "  inflating: data/train_ratings_small.parquet/part-00589-f4dd12c9-6e0e-4d18-9562-4417f7ed2e96-c000.snappy.parquet  \n",
      "  inflating: data/train_ratings_small.parquet/part-00356-f4dd12c9-6e0e-4d18-9562-4417f7ed2e96-c000.snappy.parquet  \n",
      "  inflating: data/train_ratings_small.parquet/part-00600-f4dd12c9-6e0e-4d18-9562-4417f7ed2e96-c000.snappy.parquet  \n",
      "  inflating: data/train_ratings_small.parquet/part-00553-f4dd12c9-6e0e-4d18-9562-4417f7ed2e96-c000.snappy.parquet  \n",
      "  inflating: data/train_ratings_small.parquet/part-00336-f4dd12c9-6e0e-4d18-9562-4417f7ed2e96-c000.snappy.parquet  \n",
      "  inflating: data/train_ratings_small.parquet/part-00004-f4dd12c9-6e0e-4d18-9562-4417f7ed2e96-c000.snappy.parquet  \n",
      "  inflating: data/train_ratings_small.parquet/part-00284-f4dd12c9-6e0e-4d18-9562-4417f7ed2e96-c000.snappy.parquet  \n",
      "  inflating: data/train_ratings_small.parquet/part-00248-f4dd12c9-6e0e-4d18-9562-4417f7ed2e96-c000.snappy.parquet  \n",
      "  inflating: data/train_ratings_small.parquet/part-00537-f4dd12c9-6e0e-4d18-9562-4417f7ed2e96-c000.snappy.parquet  \n",
      "  inflating: data/train_ratings_small.parquet/part-00274-f4dd12c9-6e0e-4d18-9562-4417f7ed2e96-c000.snappy.parquet  \n",
      "  inflating: data/train_ratings_small.parquet/part-00290-f4dd12c9-6e0e-4d18-9562-4417f7ed2e96-c000.snappy.parquet  \n",
      "  inflating: data/train_ratings_small.parquet/part-00593-f4dd12c9-6e0e-4d18-9562-4417f7ed2e96-c000.snappy.parquet  \n",
      "  inflating: data/train_ratings_small.parquet/part-00564-f4dd12c9-6e0e-4d18-9562-4417f7ed2e96-c000.snappy.parquet  \n",
      "  inflating: data/train_ratings_small.parquet/part-00376-f4dd12c9-6e0e-4d18-9562-4417f7ed2e96-c000.snappy.parquet  \n",
      "  inflating: data/train_ratings_small.parquet/part-00066-f4dd12c9-6e0e-4d18-9562-4417f7ed2e96-c000.snappy.parquet  \n",
      "  inflating: data/train_ratings_small.parquet/part-00207-f4dd12c9-6e0e-4d18-9562-4417f7ed2e96-c000.snappy.parquet  \n",
      "  inflating: data/train_ratings_small.parquet/part-00096-f4dd12c9-6e0e-4d18-9562-4417f7ed2e96-c000.snappy.parquet  \n",
      "  inflating: data/train_ratings_small.parquet/part-00131-f4dd12c9-6e0e-4d18-9562-4417f7ed2e96-c000.snappy.parquet  \n",
      "  inflating: data/train_ratings_small.parquet/part-00596-f4dd12c9-6e0e-4d18-9562-4417f7ed2e96-c000.snappy.parquet  \n",
      "  inflating: data/train_ratings_small.parquet/part-00573-f4dd12c9-6e0e-4d18-9562-4417f7ed2e96-c000.snappy.parquet  \n",
      "  inflating: data/train_ratings_small.parquet/part-00365-f4dd12c9-6e0e-4d18-9562-4417f7ed2e96-c000.snappy.parquet  \n",
      "  inflating: data/train_ratings_small.parquet/part-00402-f4dd12c9-6e0e-4d18-9562-4417f7ed2e96-c000.snappy.parquet  \n",
      "  inflating: data/train_ratings_small.parquet/part-00015-f4dd12c9-6e0e-4d18-9562-4417f7ed2e96-c000.snappy.parquet  \n",
      "  inflating: data/train_ratings_small.parquet/part-00586-f4dd12c9-6e0e-4d18-9562-4417f7ed2e96-c000.snappy.parquet  \n",
      "  inflating: data/train_ratings_small.parquet/part-00405-f4dd12c9-6e0e-4d18-9562-4417f7ed2e96-c000.snappy.parquet  \n",
      "  inflating: data/train_ratings_small.parquet/part-00250-f4dd12c9-6e0e-4d18-9562-4417f7ed2e96-c000.snappy.parquet  \n",
      "  inflating: data/train_ratings_small.parquet/part-00468-f4dd12c9-6e0e-4d18-9562-4417f7ed2e96-c000.snappy.parquet  \n",
      "  inflating: data/train_ratings_small.parquet/part-00182-f4dd12c9-6e0e-4d18-9562-4417f7ed2e96-c000.snappy.parquet  \n",
      "  inflating: data/train_ratings_small.parquet/part-00340-f4dd12c9-6e0e-4d18-9562-4417f7ed2e96-c000.snappy.parquet  \n",
      "  inflating: data/train_ratings_small.parquet/part-00194-f4dd12c9-6e0e-4d18-9562-4417f7ed2e96-c000.snappy.parquet  \n",
      "  inflating: data/train_ratings_small.parquet/part-00035-f4dd12c9-6e0e-4d18-9562-4417f7ed2e96-c000.snappy.parquet  \n",
      "  inflating: data/train_ratings_small.parquet/part-00272-f4dd12c9-6e0e-4d18-9562-4417f7ed2e96-c000.snappy.parquet  \n",
      "  inflating: data/train_ratings_small.parquet/part-00195-f4dd12c9-6e0e-4d18-9562-4417f7ed2e96-c000.snappy.parquet  \n",
      "  inflating: data/train_ratings_small.parquet/part-00034-f4dd12c9-6e0e-4d18-9562-4417f7ed2e96-c000.snappy.parquet  \n",
      "  inflating: data/train_ratings_small.parquet/part-00242-f4dd12c9-6e0e-4d18-9562-4417f7ed2e96-c000.snappy.parquet  \n",
      "  inflating: data/train_ratings_small.parquet/part-00545-f4dd12c9-6e0e-4d18-9562-4417f7ed2e96-c000.snappy.parquet  \n",
      "  inflating: data/train_ratings_small.parquet/part-00267-f4dd12c9-6e0e-4d18-9562-4417f7ed2e96-c000.snappy.parquet  \n",
      "  inflating: data/train_ratings_small.parquet/part-00065-f4dd12c9-6e0e-4d18-9562-4417f7ed2e96-c000.snappy.parquet  \n",
      "  inflating: data/train_ratings_small.parquet/part-00051-f4dd12c9-6e0e-4d18-9562-4417f7ed2e96-c000.snappy.parquet  \n",
      "  inflating: data/train_ratings_small.parquet/part-00228-f4dd12c9-6e0e-4d18-9562-4417f7ed2e96-c000.snappy.parquet  \n",
      "  inflating: data/train_ratings_small.parquet/part-00493-f4dd12c9-6e0e-4d18-9562-4417f7ed2e96-c000.snappy.parquet  \n",
      "  inflating: data/train_ratings_small.parquet/part-00394-f4dd12c9-6e0e-4d18-9562-4417f7ed2e96-c000.snappy.parquet  \n",
      "  inflating: data/train_ratings_small.parquet/part-00109-f4dd12c9-6e0e-4d18-9562-4417f7ed2e96-c000.snappy.parquet  \n",
      "  inflating: data/train_ratings_small.parquet/part-00465-f4dd12c9-6e0e-4d18-9562-4417f7ed2e96-c000.snappy.parquet  \n",
      "  inflating: data/train_ratings_small.parquet/part-00073-f4dd12c9-6e0e-4d18-9562-4417f7ed2e96-c000.snappy.parquet  \n",
      "  inflating: data/train_ratings_small.parquet/part-00557-f4dd12c9-6e0e-4d18-9562-4417f7ed2e96-c000.snappy.parquet  \n",
      "  inflating: data/train_ratings_small.parquet/part-00122-f4dd12c9-6e0e-4d18-9562-4417f7ed2e96-c000.snappy.parquet  \n",
      "  inflating: data/train_ratings_small.parquet/part-00144-f4dd12c9-6e0e-4d18-9562-4417f7ed2e96-c000.snappy.parquet  \n",
      "  inflating: data/train_ratings_small.parquet/part-00159-f4dd12c9-6e0e-4d18-9562-4417f7ed2e96-c000.snappy.parquet  \n",
      "  inflating: data/train_ratings_small.parquet/part-00327-f4dd12c9-6e0e-4d18-9562-4417f7ed2e96-c000.snappy.parquet  \n",
      "  inflating: data/train_ratings_small.parquet/part-00074-f4dd12c9-6e0e-4d18-9562-4417f7ed2e96-c000.snappy.parquet  \n",
      "  inflating: data/train_ratings_small.parquet/part-00452-f4dd12c9-6e0e-4d18-9562-4417f7ed2e96-c000.snappy.parquet  \n",
      "  inflating: data/train_ratings_small.parquet/part-00478-f4dd12c9-6e0e-4d18-9562-4417f7ed2e96-c000.snappy.parquet  \n",
      "  inflating: data/train_ratings_small.parquet/part-00329-f4dd12c9-6e0e-4d18-9562-4417f7ed2e96-c000.snappy.parquet  \n",
      "  inflating: data/train_ratings_small.parquet/part-00240-f4dd12c9-6e0e-4d18-9562-4417f7ed2e96-c000.snappy.parquet  \n",
      "  inflating: data/train_ratings_small.parquet/part-00123-f4dd12c9-6e0e-4d18-9562-4417f7ed2e96-c000.snappy.parquet  \n",
      "  inflating: data/train_ratings_small.parquet/part-00090-f4dd12c9-6e0e-4d18-9562-4417f7ed2e96-c000.snappy.parquet  \n",
      "  inflating: data/train_ratings_small.parquet/part-00397-f4dd12c9-6e0e-4d18-9562-4417f7ed2e96-c000.snappy.parquet  \n",
      "  inflating: data/train_ratings_small.parquet/part-00479-f4dd12c9-6e0e-4d18-9562-4417f7ed2e96-c000.snappy.parquet  \n",
      "  inflating: data/train_ratings_small.parquet/part-00161-f4dd12c9-6e0e-4d18-9562-4417f7ed2e96-c000.snappy.parquet  \n",
      "  inflating: data/train_ratings_small.parquet/part-00306-f4dd12c9-6e0e-4d18-9562-4417f7ed2e96-c000.snappy.parquet  \n",
      "  inflating: data/train_ratings_small.parquet/part-00126-f4dd12c9-6e0e-4d18-9562-4417f7ed2e96-c000.snappy.parquet  \n",
      "  inflating: data/train_ratings_small.parquet/part-00413-f4dd12c9-6e0e-4d18-9562-4417f7ed2e96-c000.snappy.parquet  \n",
      "  inflating: data/train_ratings_small.parquet/part-00587-f4dd12c9-6e0e-4d18-9562-4417f7ed2e96-c000.snappy.parquet  \n",
      "  inflating: data/train_ratings_small.parquet/part-00046-f4dd12c9-6e0e-4d18-9562-4417f7ed2e96-c000.snappy.parquet  \n",
      "  inflating: data/train_ratings_small.parquet/part-00283-f4dd12c9-6e0e-4d18-9562-4417f7ed2e96-c000.snappy.parquet  \n",
      "  inflating: data/train_ratings_small.parquet/part-00153-f4dd12c9-6e0e-4d18-9562-4417f7ed2e96-c000.snappy.parquet  \n",
      "  inflating: data/train_ratings_small.parquet/part-00320-f4dd12c9-6e0e-4d18-9562-4417f7ed2e96-c000.snappy.parquet  \n",
      "  inflating: data/train_ratings_small.parquet/part-00353-f4dd12c9-6e0e-4d18-9562-4417f7ed2e96-c000.snappy.parquet  \n",
      "  inflating: data/train_ratings_small.parquet/part-00206-f4dd12c9-6e0e-4d18-9562-4417f7ed2e96-c000.snappy.parquet  \n",
      "  inflating: data/train_ratings_small.parquet/part-00210-f4dd12c9-6e0e-4d18-9562-4417f7ed2e96-c000.snappy.parquet  \n",
      "  inflating: data/train_ratings_small.parquet/part-00572-f4dd12c9-6e0e-4d18-9562-4417f7ed2e96-c000.snappy.parquet  \n",
      "  inflating: data/train_ratings_small.parquet/part-00040-f4dd12c9-6e0e-4d18-9562-4417f7ed2e96-c000.snappy.parquet  \n",
      "  inflating: data/train_ratings_small.parquet/part-00103-f4dd12c9-6e0e-4d18-9562-4417f7ed2e96-c000.snappy.parquet  \n",
      "  inflating: data/train_ratings_small.parquet/part-00434-f4dd12c9-6e0e-4d18-9562-4417f7ed2e96-c000.snappy.parquet  \n",
      "  inflating: data/train_ratings_small.parquet/part-00197-f4dd12c9-6e0e-4d18-9562-4417f7ed2e96-c000.snappy.parquet  \n",
      "  inflating: data/train_ratings_small.parquet/part-00382-f4dd12c9-6e0e-4d18-9562-4417f7ed2e96-c000.snappy.parquet  \n",
      "  inflating: data/train_ratings_small.parquet/part-00308-f4dd12c9-6e0e-4d18-9562-4417f7ed2e96-c000.snappy.parquet  \n",
      "  inflating: data/train_ratings_small.parquet/part-00367-f4dd12c9-6e0e-4d18-9562-4417f7ed2e96-c000.snappy.parquet  \n",
      "  inflating: data/train_ratings_small.parquet/part-00043-f4dd12c9-6e0e-4d18-9562-4417f7ed2e96-c000.snappy.parquet  \n",
      "  inflating: data/train_ratings_small.parquet/part-00154-f4dd12c9-6e0e-4d18-9562-4417f7ed2e96-c000.snappy.parquet  \n",
      "  inflating: data/train_ratings_small.parquet/part-00029-f4dd12c9-6e0e-4d18-9562-4417f7ed2e96-c000.snappy.parquet  \n",
      "  inflating: data/train_ratings_small.parquet/part-00498-f4dd12c9-6e0e-4d18-9562-4417f7ed2e96-c000.snappy.parquet  \n",
      "  inflating: data/train_ratings_small.parquet/part-00036-f4dd12c9-6e0e-4d18-9562-4417f7ed2e96-c000.snappy.parquet  \n",
      "  inflating: data/train_ratings_small.parquet/part-00483-f4dd12c9-6e0e-4d18-9562-4417f7ed2e96-c000.snappy.parquet  \n",
      "  inflating: data/train_ratings_small.parquet/part-00388-f4dd12c9-6e0e-4d18-9562-4417f7ed2e96-c000.snappy.parquet  \n",
      "  inflating: data/train_ratings_small.parquet/part-00335-f4dd12c9-6e0e-4d18-9562-4417f7ed2e96-c000.snappy.parquet  \n",
      "  inflating: data/train_ratings_small.parquet/part-00038-f4dd12c9-6e0e-4d18-9562-4417f7ed2e96-c000.snappy.parquet  \n",
      "  inflating: data/train_ratings_small.parquet/part-00455-f4dd12c9-6e0e-4d18-9562-4417f7ed2e96-c000.snappy.parquet  \n",
      "  inflating: data/train_ratings_small.parquet/part-00263-f4dd12c9-6e0e-4d18-9562-4417f7ed2e96-c000.snappy.parquet  \n",
      "  inflating: data/train_ratings_small.parquet/part-00249-f4dd12c9-6e0e-4d18-9562-4417f7ed2e96-c000.snappy.parquet  \n",
      "  inflating: data/train_ratings_small.parquet/part-00231-f4dd12c9-6e0e-4d18-9562-4417f7ed2e96-c000.snappy.parquet  \n",
      "  inflating: data/train_ratings_small.parquet/part-00150-f4dd12c9-6e0e-4d18-9562-4417f7ed2e96-c000.snappy.parquet  \n",
      "  inflating: data/train_ratings_small.parquet/part-00449-f4dd12c9-6e0e-4d18-9562-4417f7ed2e96-c000.snappy.parquet  \n",
      "  inflating: data/train_ratings_small.parquet/part-00069-f4dd12c9-6e0e-4d18-9562-4417f7ed2e96-c000.snappy.parquet  \n",
      "  inflating: data/train_ratings_small.parquet/part-00430-f4dd12c9-6e0e-4d18-9562-4417f7ed2e96-c000.snappy.parquet  \n",
      "  inflating: data/train_ratings_small.parquet/part-00151-f4dd12c9-6e0e-4d18-9562-4417f7ed2e96-c000.snappy.parquet  \n",
      "  inflating: data/train_ratings_small.parquet/part-00530-f4dd12c9-6e0e-4d18-9562-4417f7ed2e96-c000.snappy.parquet  \n",
      "  inflating: data/train_ratings_small.parquet/part-00383-f4dd12c9-6e0e-4d18-9562-4417f7ed2e96-c000.snappy.parquet  \n",
      "  inflating: data/train_ratings_small.parquet/part-00422-f4dd12c9-6e0e-4d18-9562-4417f7ed2e96-c000.snappy.parquet  \n",
      "  inflating: data/train_ratings_small.parquet/part-00480-f4dd12c9-6e0e-4d18-9562-4417f7ed2e96-c000.snappy.parquet  \n",
      "  inflating: data/train_ratings_small.parquet/part-00192-f4dd12c9-6e0e-4d18-9562-4417f7ed2e96-c000.snappy.parquet  \n",
      "  inflating: data/train_ratings_small.parquet/part-00100-f4dd12c9-6e0e-4d18-9562-4417f7ed2e96-c000.snappy.parquet  \n",
      "  inflating: data/train_ratings_small.parquet/part-00266-f4dd12c9-6e0e-4d18-9562-4417f7ed2e96-c000.snappy.parquet  \n",
      "  inflating: data/train_ratings_small.parquet/part-00563-f4dd12c9-6e0e-4d18-9562-4417f7ed2e96-c000.snappy.parquet  \n",
      "  inflating: data/train_ratings_small.parquet/part-00396-f4dd12c9-6e0e-4d18-9562-4417f7ed2e96-c000.snappy.parquet  \n",
      "  inflating: data/train_ratings_small.parquet/part-00147-f4dd12c9-6e0e-4d18-9562-4417f7ed2e96-c000.snappy.parquet  \n",
      "  inflating: data/train_ratings_small.parquet/part-00561-f4dd12c9-6e0e-4d18-9562-4417f7ed2e96-c000.snappy.parquet  \n",
      "  inflating: data/train_ratings_small.parquet/part-00420-f4dd12c9-6e0e-4d18-9562-4417f7ed2e96-c000.snappy.parquet  \n",
      "  inflating: data/train_ratings_small.parquet/part-00551-f4dd12c9-6e0e-4d18-9562-4417f7ed2e96-c000.snappy.parquet  \n",
      "  inflating: data/train_ratings_small.parquet/part-00116-f4dd12c9-6e0e-4d18-9562-4417f7ed2e96-c000.snappy.parquet  \n",
      "  inflating: data/train_ratings_small.parquet/part-00218-f4dd12c9-6e0e-4d18-9562-4417f7ed2e96-c000.snappy.parquet  \n",
      "  inflating: data/train_ratings_small.parquet/part-00243-f4dd12c9-6e0e-4d18-9562-4417f7ed2e96-c000.snappy.parquet  \n",
      "  inflating: data/train_ratings_small.parquet/part-00398-f4dd12c9-6e0e-4d18-9562-4417f7ed2e96-c000.snappy.parquet  \n",
      "  inflating: data/train_ratings_small.parquet/part-00463-f4dd12c9-6e0e-4d18-9562-4417f7ed2e96-c000.snappy.parquet  \n",
      "  inflating: data/train_ratings_small.parquet/part-00169-f4dd12c9-6e0e-4d18-9562-4417f7ed2e96-c000.snappy.parquet  \n",
      "  inflating: data/train_ratings_small.parquet/part-00581-f4dd12c9-6e0e-4d18-9562-4417f7ed2e96-c000.snappy.parquet  \n",
      "  inflating: data/train_ratings_small.parquet/part-00425-f4dd12c9-6e0e-4d18-9562-4417f7ed2e96-c000.snappy.parquet  \n",
      "  inflating: data/train_ratings_small.parquet/part-00403-f4dd12c9-6e0e-4d18-9562-4417f7ed2e96-c000.snappy.parquet  \n",
      "  inflating: data/train_ratings_small.parquet/part-00484-f4dd12c9-6e0e-4d18-9562-4417f7ed2e96-c000.snappy.parquet  \n",
      "  inflating: data/train_ratings_small.parquet/part-00548-f4dd12c9-6e0e-4d18-9562-4417f7ed2e96-c000.snappy.parquet  \n",
      "  inflating: data/train_ratings_small.parquet/part-00519-f4dd12c9-6e0e-4d18-9562-4417f7ed2e96-c000.snappy.parquet  \n",
      "  inflating: data/train_ratings_small.parquet/part-00070-f4dd12c9-6e0e-4d18-9562-4417f7ed2e96-c000.snappy.parquet  \n",
      "  inflating: data/train_ratings_small.parquet/part-00527-f4dd12c9-6e0e-4d18-9562-4417f7ed2e96-c000.snappy.parquet  \n",
      "  inflating: data/train_ratings_small.parquet/part-00372-f4dd12c9-6e0e-4d18-9562-4417f7ed2e96-c000.snappy.parquet  \n",
      "  inflating: data/train_ratings_small.parquet/part-00286-f4dd12c9-6e0e-4d18-9562-4417f7ed2e96-c000.snappy.parquet  \n",
      "  inflating: data/train_ratings_small.parquet/part-00334-f4dd12c9-6e0e-4d18-9562-4417f7ed2e96-c000.snappy.parquet  \n",
      "  inflating: data/train_ratings_small.parquet/part-00105-f4dd12c9-6e0e-4d18-9562-4417f7ed2e96-c000.snappy.parquet  \n",
      "  inflating: data/train_ratings_small.parquet/part-00399-f4dd12c9-6e0e-4d18-9562-4417f7ed2e96-c000.snappy.parquet  \n",
      "  inflating: data/train_ratings_small.parquet/part-00378-f4dd12c9-6e0e-4d18-9562-4417f7ed2e96-c000.snappy.parquet  \n",
      "  inflating: data/train_ratings_small.parquet/part-00427-f4dd12c9-6e0e-4d18-9562-4417f7ed2e96-c000.snappy.parquet  \n",
      "  inflating: data/train_ratings_small.parquet/part-00460-f4dd12c9-6e0e-4d18-9562-4417f7ed2e96-c000.snappy.parquet  \n",
      "  inflating: data/train_ratings_small.parquet/part-00009-f4dd12c9-6e0e-4d18-9562-4417f7ed2e96-c000.snappy.parquet  \n",
      "  inflating: data/train_ratings_small.parquet/part-00087-f4dd12c9-6e0e-4d18-9562-4417f7ed2e96-c000.snappy.parquet  \n",
      "  inflating: data/train_ratings_small.parquet/part-00211-f4dd12c9-6e0e-4d18-9562-4417f7ed2e96-c000.snappy.parquet  \n",
      "  inflating: data/train_ratings_small.parquet/part-00235-f4dd12c9-6e0e-4d18-9562-4417f7ed2e96-c000.snappy.parquet  \n",
      "  inflating: data/train_ratings_small.parquet/part-00588-f4dd12c9-6e0e-4d18-9562-4417f7ed2e96-c000.snappy.parquet  \n",
      "  inflating: data/train_ratings_small.parquet/part-00604-f4dd12c9-6e0e-4d18-9562-4417f7ed2e96-c000.snappy.parquet  \n",
      "  inflating: data/train_ratings_small.parquet/part-00339-f4dd12c9-6e0e-4d18-9562-4417f7ed2e96-c000.snappy.parquet  \n",
      "  inflating: data/train_ratings_small.parquet/part-00254-f4dd12c9-6e0e-4d18-9562-4417f7ed2e96-c000.snappy.parquet  \n",
      "  inflating: data/train_ratings_small.parquet/part-00234-f4dd12c9-6e0e-4d18-9562-4417f7ed2e96-c000.snappy.parquet  \n",
      "  inflating: data/train_ratings_small.parquet/part-00219-f4dd12c9-6e0e-4d18-9562-4417f7ed2e96-c000.snappy.parquet  \n",
      "  inflating: data/train_ratings_small.parquet/part-00346-f4dd12c9-6e0e-4d18-9562-4417f7ed2e96-c000.snappy.parquet  \n",
      "   creating: data/test_ratings_small.parquet/\n",
      "  inflating: data/test_ratings_small.parquet/part-00009-91e85e15-d062-4952-b599-dbdeb6035803-c000.snappy.parquet  \n",
      "  inflating: data/test_ratings_small.parquet/part-00186-91e85e15-d062-4952-b599-dbdeb6035803-c000.snappy.parquet  \n",
      "  inflating: data/test_ratings_small.parquet/part-00128-91e85e15-d062-4952-b599-dbdeb6035803-c000.snappy.parquet  \n",
      "  inflating: data/test_ratings_small.parquet/part-00167-91e85e15-d062-4952-b599-dbdeb6035803-c000.snappy.parquet  \n",
      "  inflating: data/test_ratings_small.parquet/part-00152-91e85e15-d062-4952-b599-dbdeb6035803-c000.snappy.parquet  \n",
      "  inflating: data/test_ratings_small.parquet/part-00205-91e85e15-d062-4952-b599-dbdeb6035803-c000.snappy.parquet  \n",
      " extracting: data/test_ratings_small.parquet/_SUCCESS  \n",
      "  inflating: data/test_ratings_small.parquet/part-00171-91e85e15-d062-4952-b599-dbdeb6035803-c000.snappy.parquet  \n",
      "  inflating: data/test_ratings_small.parquet/part-00059-91e85e15-d062-4952-b599-dbdeb6035803-c000.snappy.parquet  \n",
      "  inflating: data/test_ratings_small.parquet/part-00150-91e85e15-d062-4952-b599-dbdeb6035803-c000.snappy.parquet  \n",
      "  inflating: data/test_ratings_small.parquet/part-00300-91e85e15-d062-4952-b599-dbdeb6035803-c000.snappy.parquet  \n",
      "  inflating: data/test_ratings_small.parquet/part-00036-91e85e15-d062-4952-b599-dbdeb6035803-c000.snappy.parquet  \n",
      "  inflating: data/test_ratings_small.parquet/part-00043-91e85e15-d062-4952-b599-dbdeb6035803-c000.snappy.parquet  \n",
      "  inflating: data/test_ratings_small.parquet/part-00127-91e85e15-d062-4952-b599-dbdeb6035803-c000.snappy.parquet  \n",
      "  inflating: data/test_ratings_small.parquet/part-00304-91e85e15-d062-4952-b599-dbdeb6035803-c000.snappy.parquet  \n",
      "  inflating: data/test_ratings_small.parquet/part-00012-91e85e15-d062-4952-b599-dbdeb6035803-c000.snappy.parquet  \n",
      "  inflating: data/test_ratings_small.parquet/part-00246-91e85e15-d062-4952-b599-dbdeb6035803-c000.snappy.parquet  \n",
      "  inflating: data/test_ratings_small.parquet/part-00256-91e85e15-d062-4952-b599-dbdeb6035803-c000.snappy.parquet  \n",
      "  inflating: data/test_ratings_small.parquet/part-00197-91e85e15-d062-4952-b599-dbdeb6035803-c000.snappy.parquet  \n",
      "  inflating: data/test_ratings_small.parquet/part-00277-91e85e15-d062-4952-b599-dbdeb6035803-c000.snappy.parquet  \n",
      "  inflating: data/test_ratings_small.parquet/part-00217-91e85e15-d062-4952-b599-dbdeb6035803-c000.snappy.parquet  \n",
      "  inflating: data/test_ratings_small.parquet/part-00233-91e85e15-d062-4952-b599-dbdeb6035803-c000.snappy.parquet  \n",
      "  inflating: data/test_ratings_small.parquet/part-00034-91e85e15-d062-4952-b599-dbdeb6035803-c000.snappy.parquet  \n",
      "  inflating: data/test_ratings_small.parquet/part-00113-91e85e15-d062-4952-b599-dbdeb6035803-c000.snappy.parquet  \n",
      "  inflating: data/test_ratings_small.parquet/part-00255-91e85e15-d062-4952-b599-dbdeb6035803-c000.snappy.parquet  \n",
      "  inflating: data/test_ratings_small.parquet/part-00120-91e85e15-d062-4952-b599-dbdeb6035803-c000.snappy.parquet  \n",
      "  inflating: data/test_ratings_small.parquet/part-00153-91e85e15-d062-4952-b599-dbdeb6035803-c000.snappy.parquet  \n",
      "  inflating: data/test_ratings_small.parquet/part-00055-91e85e15-d062-4952-b599-dbdeb6035803-c000.snappy.parquet  \n",
      "  inflating: data/test_ratings_small.parquet/part-00084-91e85e15-d062-4952-b599-dbdeb6035803-c000.snappy.parquet  \n",
      "  inflating: data/test_ratings_small.parquet/part-00214-91e85e15-d062-4952-b599-dbdeb6035803-c000.snappy.parquet  \n",
      "  inflating: data/test_ratings_small.parquet/part-00296-91e85e15-d062-4952-b599-dbdeb6035803-c000.snappy.parquet  \n",
      "  inflating: data/test_ratings_small.parquet/part-00100-91e85e15-d062-4952-b599-dbdeb6035803-c000.snappy.parquet  \n",
      "  inflating: data/test_ratings_small.parquet/part-00000-91e85e15-d062-4952-b599-dbdeb6035803-c000.snappy.parquet  \n",
      "  inflating: data/test_ratings_small.parquet/part-00235-91e85e15-d062-4952-b599-dbdeb6035803-c000.snappy.parquet  \n"
     ]
    }
   ],
   "source": [
    "!unzip data.zip"
   ]
  },
  {
   "cell_type": "code",
   "execution_count": 4,
   "metadata": {
    "id": "x3d7TfBH6YeW"
   },
   "outputs": [],
   "source": [
    "import lightfm\n",
    "from lightfm import LightFM\n",
    "from lightfm.data import Dataset\n",
    "from lightfm.evaluation import precision_at_k, auc_score\n",
    "\n",
    "from time import time \n",
    "import pyarrow.parquet as pq\n",
    "# import json\n",
    "# from itertools import islice\n",
    "\n",
    "import pandas as pd\n",
    "import numpy as np\n",
    "from collections import Counter\n",
    "\n",
    "from scipy.sparse import csr_matrix\n",
    "import scipy\n",
    "from lightfm.cross_validation import random_train_test_split"
   ]
  },
  {
   "cell_type": "code",
   "execution_count": 5,
   "metadata": {
    "id": "uh4AX_Um6cwI"
   },
   "outputs": [],
   "source": [
    "train_data = pq.read_table('data/train_ratings_small.parquet').to_pandas()\n",
    "test_data = pq.read_table('data/test_ratings_small.parquet').to_pandas()\n",
    "val_data = pq.read_table('data/val_ratings_small.parquet').to_pandas()"
   ]
  },
  {
   "cell_type": "code",
   "execution_count": 6,
   "metadata": {
    "id": "ELQ_VLXJWJm6"
   },
   "outputs": [],
   "source": [
    "from lightfm.cross_validation import random_train_test_split\n",
    "\n",
    "def transform_interaction(df, test_percent):\n",
    "    interaction = pd.pivot_table(df, index='userId', columns='movieId', values='rating')\n",
    "    interaction = interaction.fillna(0)\n",
    "    \n",
    "    all_csr = csr_matrix(interaction.values)\n",
    "    \n",
    "    (train_matrix, test_matrix) = random_train_test_split(all_csr, test_percentage=test_percent)\n",
    "    \n",
    "    return (train_matrix, test_matrix)"
   ]
  },
  {
   "cell_type": "code",
   "execution_count": 7,
   "metadata": {
    "id": "t_xX3UM_WOuF"
   },
   "outputs": [],
   "source": [
    "def lightfm_train(train, rank, regParam, maxIter, model_type='warp'):\n",
    "    if model_type == 'bpr':\n",
    "        model = LightFM(loss='bpr',\n",
    "                no_components=rank,\n",
    "                user_alpha=regParam)\n",
    "        \n",
    "    else:    \n",
    "        model = LightFM(loss='warp',\n",
    "                no_components=rank,\n",
    "                user_alpha=regParam)\n",
    "\n",
    "    model = model.fit(train, epochs=maxIter,verbose=False)\n",
    "    \n",
    "    return model"
   ]
  },
  {
   "cell_type": "code",
   "execution_count": 8,
   "metadata": {
    "id": "rEEJk72BWP-M"
   },
   "outputs": [],
   "source": [
    "from lightfm.evaluation import precision_at_k\n",
    "from time import time\n",
    "\n",
    "def train_and_test(train, test, rank, regParam, maxIter, top=500, model_type='warp'):\n",
    "    st = time()\n",
    "    \n",
    "    model = lightfm_train(train, rank, regParam, maxIter, model_type='warp')\n",
    "    auc_train = auc_score(model, train).mean()\n",
    "    auc_test = auc_score(model, test).mean()\n",
    "    p_at_k = precision_at_k(model, test, k=top).mean()\n",
    "    \n",
    "    t = round(time()-st, 5)\n",
    "    \n",
    "    print('Model with maxIter = {}, reg = {}, rank = {} complete'.format(maxIter,regParam,rank))\n",
    "    print('Precision at K:', p_at_k)\n",
    "    print('Accuracy Train =',auc_train, 'Accuracy Test =',auc_test)\n",
    "    print('Time used:', t)\n",
    "    \n",
    "    return p_at_k,auc_train,auc_test, t"
   ]
  },
  {
   "cell_type": "code",
   "execution_count": 9,
   "metadata": {
    "id": "oT0l1lCyTMH5"
   },
   "outputs": [],
   "source": [
    "df = pd.concat([ train_data,test_data, val_data])"
   ]
  },
  {
   "cell_type": "code",
   "execution_count": 10,
   "metadata": {
    "colab": {
     "base_uri": "https://localhost:8080/",
     "height": 206
    },
    "id": "vghUgGwITyV2",
    "outputId": "b8318947-e2e2-441a-fc11-5504ac375a37"
   },
   "outputs": [
    {
     "data": {
      "text/html": [
       "\n",
       "  <div id=\"df-354a6b81-4aff-4c18-91f5-23fe252328b6\">\n",
       "    <div class=\"colab-df-container\">\n",
       "      <div>\n",
       "<style scoped>\n",
       "    .dataframe tbody tr th:only-of-type {\n",
       "        vertical-align: middle;\n",
       "    }\n",
       "\n",
       "    .dataframe tbody tr th {\n",
       "        vertical-align: top;\n",
       "    }\n",
       "\n",
       "    .dataframe thead th {\n",
       "        text-align: right;\n",
       "    }\n",
       "</style>\n",
       "<table border=\"1\" class=\"dataframe\">\n",
       "  <thead>\n",
       "    <tr style=\"text-align: right;\">\n",
       "      <th></th>\n",
       "      <th>userId</th>\n",
       "      <th>movieId</th>\n",
       "      <th>rating</th>\n",
       "      <th>date</th>\n",
       "    </tr>\n",
       "  </thead>\n",
       "  <tbody>\n",
       "    <tr>\n",
       "      <th>0</th>\n",
       "      <td>1</td>\n",
       "      <td>1</td>\n",
       "      <td>4.0</td>\n",
       "      <td>2000-07-30 14:45:03</td>\n",
       "    </tr>\n",
       "    <tr>\n",
       "      <th>1</th>\n",
       "      <td>1</td>\n",
       "      <td>3</td>\n",
       "      <td>4.0</td>\n",
       "      <td>2000-07-30 14:20:47</td>\n",
       "    </tr>\n",
       "    <tr>\n",
       "      <th>2</th>\n",
       "      <td>1</td>\n",
       "      <td>6</td>\n",
       "      <td>4.0</td>\n",
       "      <td>2000-07-30 14:37:04</td>\n",
       "    </tr>\n",
       "    <tr>\n",
       "      <th>3</th>\n",
       "      <td>1</td>\n",
       "      <td>47</td>\n",
       "      <td>5.0</td>\n",
       "      <td>2000-07-30 15:03:35</td>\n",
       "    </tr>\n",
       "    <tr>\n",
       "      <th>4</th>\n",
       "      <td>1</td>\n",
       "      <td>50</td>\n",
       "      <td>5.0</td>\n",
       "      <td>2000-07-30 14:48:51</td>\n",
       "    </tr>\n",
       "  </tbody>\n",
       "</table>\n",
       "</div>\n",
       "      <button class=\"colab-df-convert\" onclick=\"convertToInteractive('df-354a6b81-4aff-4c18-91f5-23fe252328b6')\"\n",
       "              title=\"Convert this dataframe to an interactive table.\"\n",
       "              style=\"display:none;\">\n",
       "        \n",
       "  <svg xmlns=\"http://www.w3.org/2000/svg\" height=\"24px\"viewBox=\"0 0 24 24\"\n",
       "       width=\"24px\">\n",
       "    <path d=\"M0 0h24v24H0V0z\" fill=\"none\"/>\n",
       "    <path d=\"M18.56 5.44l.94 2.06.94-2.06 2.06-.94-2.06-.94-.94-2.06-.94 2.06-2.06.94zm-11 1L8.5 8.5l.94-2.06 2.06-.94-2.06-.94L8.5 2.5l-.94 2.06-2.06.94zm10 10l.94 2.06.94-2.06 2.06-.94-2.06-.94-.94-2.06-.94 2.06-2.06.94z\"/><path d=\"M17.41 7.96l-1.37-1.37c-.4-.4-.92-.59-1.43-.59-.52 0-1.04.2-1.43.59L10.3 9.45l-7.72 7.72c-.78.78-.78 2.05 0 2.83L4 21.41c.39.39.9.59 1.41.59.51 0 1.02-.2 1.41-.59l7.78-7.78 2.81-2.81c.8-.78.8-2.07 0-2.86zM5.41 20L4 18.59l7.72-7.72 1.47 1.35L5.41 20z\"/>\n",
       "  </svg>\n",
       "      </button>\n",
       "      \n",
       "  <style>\n",
       "    .colab-df-container {\n",
       "      display:flex;\n",
       "      flex-wrap:wrap;\n",
       "      gap: 12px;\n",
       "    }\n",
       "\n",
       "    .colab-df-convert {\n",
       "      background-color: #E8F0FE;\n",
       "      border: none;\n",
       "      border-radius: 50%;\n",
       "      cursor: pointer;\n",
       "      display: none;\n",
       "      fill: #1967D2;\n",
       "      height: 32px;\n",
       "      padding: 0 0 0 0;\n",
       "      width: 32px;\n",
       "    }\n",
       "\n",
       "    .colab-df-convert:hover {\n",
       "      background-color: #E2EBFA;\n",
       "      box-shadow: 0px 1px 2px rgba(60, 64, 67, 0.3), 0px 1px 3px 1px rgba(60, 64, 67, 0.15);\n",
       "      fill: #174EA6;\n",
       "    }\n",
       "\n",
       "    [theme=dark] .colab-df-convert {\n",
       "      background-color: #3B4455;\n",
       "      fill: #D2E3FC;\n",
       "    }\n",
       "\n",
       "    [theme=dark] .colab-df-convert:hover {\n",
       "      background-color: #434B5C;\n",
       "      box-shadow: 0px 1px 3px 1px rgba(0, 0, 0, 0.15);\n",
       "      filter: drop-shadow(0px 1px 2px rgba(0, 0, 0, 0.3));\n",
       "      fill: #FFFFFF;\n",
       "    }\n",
       "  </style>\n",
       "\n",
       "      <script>\n",
       "        const buttonEl =\n",
       "          document.querySelector('#df-354a6b81-4aff-4c18-91f5-23fe252328b6 button.colab-df-convert');\n",
       "        buttonEl.style.display =\n",
       "          google.colab.kernel.accessAllowed ? 'block' : 'none';\n",
       "\n",
       "        async function convertToInteractive(key) {\n",
       "          const element = document.querySelector('#df-354a6b81-4aff-4c18-91f5-23fe252328b6');\n",
       "          const dataTable =\n",
       "            await google.colab.kernel.invokeFunction('convertToInteractive',\n",
       "                                                     [key], {});\n",
       "          if (!dataTable) return;\n",
       "\n",
       "          const docLinkHtml = 'Like what you see? Visit the ' +\n",
       "            '<a target=\"_blank\" href=https://colab.research.google.com/notebooks/data_table.ipynb>data table notebook</a>'\n",
       "            + ' to learn more about interactive tables.';\n",
       "          element.innerHTML = '';\n",
       "          dataTable['output_type'] = 'display_data';\n",
       "          await google.colab.output.renderOutput(dataTable, element);\n",
       "          const docLink = document.createElement('div');\n",
       "          docLink.innerHTML = docLinkHtml;\n",
       "          element.appendChild(docLink);\n",
       "        }\n",
       "      </script>\n",
       "    </div>\n",
       "  </div>\n",
       "  "
      ],
      "text/plain": [
       "   userId  movieId  rating                 date\n",
       "0       1        1     4.0  2000-07-30 14:45:03\n",
       "1       1        3     4.0  2000-07-30 14:20:47\n",
       "2       1        6     4.0  2000-07-30 14:37:04\n",
       "3       1       47     5.0  2000-07-30 15:03:35\n",
       "4       1       50     5.0  2000-07-30 14:48:51"
      ]
     },
     "execution_count": 10,
     "metadata": {},
     "output_type": "execute_result"
    }
   ],
   "source": [
    "df.head()"
   ]
  },
  {
   "cell_type": "code",
   "execution_count": 11,
   "metadata": {
    "id": "TLUZwEcZWio5"
   },
   "outputs": [],
   "source": [
    "train_1, test_1 = transform_interaction(df, 0.3)"
   ]
  },
  {
   "cell_type": "code",
   "execution_count": 12,
   "metadata": {
    "id": "2rFQne2bXO7A"
   },
   "outputs": [],
   "source": [
    "from pandas._libs.tslibs import timedeltas\n",
    "maxIters = [5,10,15]\n",
    "regParams = [0.1, 0.01]\n",
    "ranks = [4,5,6,7,8,9,10,11,12]\n",
    "precision_at_ks = {}\n",
    "times = {}\n",
    "auc_train = {}\n",
    "auc_test = {}"
   ]
  },
  {
   "cell_type": "code",
   "execution_count": 31,
   "metadata": {
    "colab": {
     "base_uri": "https://localhost:8080/"
    },
    "id": "Ti9D_KXHWnOd",
    "outputId": "8635b4f6-b51c-40ac-fc3c-795301719286"
   },
   "outputs": [
    {
     "name": "stdout",
     "output_type": "stream",
     "text": [
      "Model with maxIter = 5, reg = 0.1, rank = 4 complete\n",
      "Precision at K: 0.0029311478\n",
      "Accuracy Train = 0.53255945 Accuracy Test = 0.5283922\n",
      "Time used: 4.5516\n",
      "Model with maxIter = 5, reg = 0.01, rank = 4 complete\n",
      "Precision at K: 0.041537706\n",
      "Accuracy Train = 0.90216285 Accuracy Test = 0.8831951\n",
      "Time used: 2.84632\n",
      "Model with maxIter = 10, reg = 0.1, rank = 4 complete\n",
      "Precision at K: 0.0034360655\n",
      "Accuracy Train = 0.53169245 Accuracy Test = 0.5300657\n",
      "Time used: 3.99377\n",
      "Model with maxIter = 10, reg = 0.01, rank = 4 complete\n",
      "Precision at K: 0.04190164\n",
      "Accuracy Train = 0.9076442 Accuracy Test = 0.8886909\n",
      "Time used: 3.01929\n",
      "Model with maxIter = 15, reg = 0.1, rank = 4 complete\n",
      "Precision at K: 0.0029639346\n",
      "Accuracy Train = 0.5579891 Accuracy Test = 0.55696774\n",
      "Time used: 4.09461\n",
      "Model with maxIter = 15, reg = 0.01, rank = 4 complete\n",
      "Precision at K: 0.04233443\n",
      "Accuracy Train = 0.9104256 Accuracy Test = 0.8903875\n",
      "Time used: 3.27795\n",
      "Model with maxIter = 5, reg = 0.1, rank = 5 complete\n",
      "Precision at K: 0.0029442625\n",
      "Accuracy Train = 0.5232344 Accuracy Test = 0.516917\n",
      "Time used: 3.88042\n",
      "Model with maxIter = 5, reg = 0.01, rank = 5 complete\n",
      "Precision at K: 0.041740984\n",
      "Accuracy Train = 0.9024416 Accuracy Test = 0.88216853\n",
      "Time used: 2.93587\n",
      "Model with maxIter = 10, reg = 0.1, rank = 5 complete\n",
      "Precision at K: 0.003380328\n",
      "Accuracy Train = 0.52059156 Accuracy Test = 0.51781183\n",
      "Time used: 4.11835\n",
      "Model with maxIter = 10, reg = 0.01, rank = 5 complete\n",
      "Precision at K: 0.04214426\n",
      "Accuracy Train = 0.90847486 Accuracy Test = 0.8884883\n",
      "Time used: 3.11742\n",
      "Model with maxIter = 15, reg = 0.1, rank = 5 complete\n",
      "Precision at K: 0.0029967215\n",
      "Accuracy Train = 0.518919 Accuracy Test = 0.5220899\n",
      "Time used: 4.32408\n",
      "Model with maxIter = 15, reg = 0.01, rank = 5 complete\n",
      "Precision at K: 0.04245246\n",
      "Accuracy Train = 0.9114281 Accuracy Test = 0.89153445\n",
      "Time used: 3.37305\n",
      "Model with maxIter = 5, reg = 0.1, rank = 6 complete\n",
      "Precision at K: 0.0036360654\n",
      "Accuracy Train = 0.5163562 Accuracy Test = 0.5122424\n",
      "Time used: 3.94396\n",
      "Model with maxIter = 5, reg = 0.01, rank = 6 complete\n",
      "Precision at K: 0.041839343\n",
      "Accuracy Train = 0.9034847 Accuracy Test = 0.8833749\n",
      "Time used: 2.95281\n",
      "Model with maxIter = 10, reg = 0.1, rank = 6 complete\n",
      "Precision at K: 0.0036459016\n",
      "Accuracy Train = 0.51283354 Accuracy Test = 0.51477844\n",
      "Time used: 4.14962\n",
      "Model with maxIter = 10, reg = 0.01, rank = 6 complete\n",
      "Precision at K: 0.04194426\n",
      "Accuracy Train = 0.9080104 Accuracy Test = 0.8884167\n",
      "Time used: 3.16614\n",
      "Model with maxIter = 15, reg = 0.1, rank = 6 complete\n",
      "Precision at K: 0.0033442623\n",
      "Accuracy Train = 0.52548844 Accuracy Test = 0.52037996\n",
      "Time used: 4.36858\n",
      "Model with maxIter = 15, reg = 0.01, rank = 6 complete\n",
      "Precision at K: 0.042436067\n",
      "Accuracy Train = 0.91139394 Accuracy Test = 0.8898862\n",
      "Time used: 3.40495\n",
      "Model with maxIter = 5, reg = 0.1, rank = 7 complete\n",
      "Precision at K: 0.0038885246\n",
      "Accuracy Train = 0.51538086 Accuracy Test = 0.50823313\n",
      "Time used: 3.97533\n",
      "Model with maxIter = 5, reg = 0.01, rank = 7 complete\n",
      "Precision at K: 0.041580327\n",
      "Accuracy Train = 0.90409434 Accuracy Test = 0.8831557\n",
      "Time used: 3.02456\n",
      "Model with maxIter = 10, reg = 0.1, rank = 7 complete\n",
      "Precision at K: 0.0034163937\n",
      "Accuracy Train = 0.5155442 Accuracy Test = 0.5108622\n",
      "Time used: 4.27097\n",
      "Model with maxIter = 10, reg = 0.01, rank = 7 complete\n",
      "Precision at K: 0.042367216\n",
      "Accuracy Train = 0.90930843 Accuracy Test = 0.88861114\n",
      "Time used: 3.22331\n",
      "Model with maxIter = 15, reg = 0.1, rank = 7 complete\n",
      "Precision at K: 0.0038655738\n",
      "Accuracy Train = 0.508982 Accuracy Test = 0.5050895\n",
      "Time used: 4.46481\n",
      "Model with maxIter = 15, reg = 0.01, rank = 7 complete\n",
      "Precision at K: 0.042586885\n",
      "Accuracy Train = 0.91240984 Accuracy Test = 0.8904441\n",
      "Time used: 3.47712\n",
      "Model with maxIter = 5, reg = 0.1, rank = 8 complete\n",
      "Precision at K: 0.0038032786\n",
      "Accuracy Train = 0.508948 Accuracy Test = 0.5058751\n",
      "Time used: 4.04051\n",
      "Model with maxIter = 5, reg = 0.01, rank = 8 complete\n",
      "Precision at K: 0.041422952\n",
      "Accuracy Train = 0.9052565 Accuracy Test = 0.8836862\n",
      "Time used: 3.08659\n",
      "Model with maxIter = 10, reg = 0.1, rank = 8 complete\n",
      "Precision at K: 0.0036688526\n",
      "Accuracy Train = 0.5120931 Accuracy Test = 0.5022928\n",
      "Time used: 4.34808\n",
      "Model with maxIter = 10, reg = 0.01, rank = 8 complete\n",
      "Precision at K: 0.041960657\n",
      "Accuracy Train = 0.90999144 Accuracy Test = 0.8883229\n",
      "Time used: 3.35353\n",
      "Model with maxIter = 15, reg = 0.1, rank = 8 complete\n",
      "Precision at K: 0.0032819675\n",
      "Accuracy Train = 0.50648093 Accuracy Test = 0.4991512\n",
      "Time used: 5.18353\n",
      "Model with maxIter = 15, reg = 0.01, rank = 8 complete\n",
      "Precision at K: 0.04278033\n",
      "Accuracy Train = 0.91306704 Accuracy Test = 0.8905233\n",
      "Time used: 3.60025\n",
      "Model with maxIter = 5, reg = 0.1, rank = 9 complete\n",
      "Precision at K: 0.0038459015\n",
      "Accuracy Train = 0.51165444 Accuracy Test = 0.5049308\n",
      "Time used: 4.18279\n",
      "Model with maxIter = 5, reg = 0.01, rank = 9 complete\n",
      "Precision at K: 0.041465573\n",
      "Accuracy Train = 0.9054716 Accuracy Test = 0.88180715\n",
      "Time used: 3.14734\n",
      "Model with maxIter = 10, reg = 0.1, rank = 9 complete\n",
      "Precision at K: 0.0033934426\n",
      "Accuracy Train = 0.5066983 Accuracy Test = 0.5022829\n",
      "Time used: 4.43679\n",
      "Model with maxIter = 10, reg = 0.01, rank = 9 complete\n",
      "Precision at K: 0.042186886\n",
      "Accuracy Train = 0.91138357 Accuracy Test = 0.88852197\n",
      "Time used: 3.41122\n",
      "Model with maxIter = 15, reg = 0.1, rank = 9 complete\n",
      "Precision at K: 0.0034327866\n",
      "Accuracy Train = 0.5106114 Accuracy Test = 0.5021138\n",
      "Time used: 4.75112\n",
      "Model with maxIter = 15, reg = 0.01, rank = 9 complete\n",
      "Precision at K: 0.04207869\n",
      "Accuracy Train = 0.9128891 Accuracy Test = 0.88931984\n",
      "Time used: 3.69008\n",
      "Model with maxIter = 5, reg = 0.1, rank = 10 complete\n",
      "Precision at K: 0.0036459016\n",
      "Accuracy Train = 0.50793755 Accuracy Test = 0.5069775\n",
      "Time used: 4.17394\n",
      "Model with maxIter = 5, reg = 0.01, rank = 10 complete\n",
      "Precision at K: 0.041662294\n",
      "Accuracy Train = 0.905785 Accuracy Test = 0.8827441\n",
      "Time used: 3.25098\n",
      "Model with maxIter = 10, reg = 0.1, rank = 10 complete\n",
      "Precision at K: 0.003622951\n",
      "Accuracy Train = 0.5078414 Accuracy Test = 0.5077463\n",
      "Time used: 4.49446\n",
      "Model with maxIter = 10, reg = 0.01, rank = 10 complete\n",
      "Precision at K: 0.04199016\n",
      "Accuracy Train = 0.91133094 Accuracy Test = 0.8874656\n",
      "Time used: 3.46799\n",
      "Model with maxIter = 15, reg = 0.1, rank = 10 complete\n",
      "Precision at K: 0.0038426232\n",
      "Accuracy Train = 0.52002996 Accuracy Test = 0.5117549\n",
      "Time used: 4.79643\n",
      "Model with maxIter = 15, reg = 0.01, rank = 10 complete\n",
      "Precision at K: 0.042259015\n",
      "Accuracy Train = 0.9140208 Accuracy Test = 0.8908287\n",
      "Time used: 3.80513\n",
      "Model with maxIter = 5, reg = 0.1, rank = 11 complete\n",
      "Precision at K: 0.0038655738\n",
      "Accuracy Train = 0.5098889 Accuracy Test = 0.5043111\n",
      "Time used: 4.24572\n",
      "Model with maxIter = 5, reg = 0.01, rank = 11 complete\n",
      "Precision at K: 0.041760653\n",
      "Accuracy Train = 0.9071962 Accuracy Test = 0.88174796\n",
      "Time used: 3.33281\n",
      "Model with maxIter = 10, reg = 0.1, rank = 11 complete\n",
      "Precision at K: 0.0040557375\n",
      "Accuracy Train = 0.5103095 Accuracy Test = 0.50447184\n",
      "Time used: 4.64526\n",
      "Model with maxIter = 10, reg = 0.01, rank = 11 complete\n",
      "Precision at K: 0.042209838\n",
      "Accuracy Train = 0.9135253 Accuracy Test = 0.8890258\n",
      "Time used: 3.63994\n",
      "Model with maxIter = 15, reg = 0.1, rank = 11 complete\n",
      "Precision at K: 0.0036950824\n",
      "Accuracy Train = 0.5025363 Accuracy Test = 0.49698332\n",
      "Time used: 4.99265\n",
      "Model with maxIter = 15, reg = 0.01, rank = 11 complete\n",
      "Precision at K: 0.042288523\n",
      "Accuracy Train = 0.915103 Accuracy Test = 0.8900409\n",
      "Time used: 3.88422\n",
      "Model with maxIter = 5, reg = 0.1, rank = 12 complete\n",
      "Precision at K: 0.0040983604\n",
      "Accuracy Train = 0.5119561 Accuracy Test = 0.50287324\n",
      "Time used: 4.3614\n",
      "Model with maxIter = 5, reg = 0.01, rank = 12 complete\n",
      "Precision at K: 0.04126885\n",
      "Accuracy Train = 0.90726256 Accuracy Test = 0.88118595\n",
      "Time used: 3.37963\n",
      "Model with maxIter = 10, reg = 0.1, rank = 12 complete\n",
      "Precision at K: 0.0036721316\n",
      "Accuracy Train = 0.5095539 Accuracy Test = 0.502109\n",
      "Time used: 4.70983\n",
      "Model with maxIter = 10, reg = 0.01, rank = 12 complete\n",
      "Precision at K: 0.04206885\n",
      "Accuracy Train = 0.91334367 Accuracy Test = 0.8884718\n",
      "Time used: 3.64487\n",
      "Model with maxIter = 15, reg = 0.1, rank = 12 complete\n",
      "Precision at K: 0.0041311476\n",
      "Accuracy Train = 0.507748 Accuracy Test = 0.50584745\n",
      "Time used: 5.13345\n",
      "Model with maxIter = 15, reg = 0.01, rank = 12 complete\n",
      "Precision at K: 0.042636063\n",
      "Accuracy Train = 0.91584414 Accuracy Test = 0.8906398\n",
      "Time used: 4.0002\n"
     ]
    }
   ],
   "source": [
    "import itertools\n",
    "import seaborn as sns\n",
    "import matplotlib.pyplot as plt\n",
    "sns.set(rc={\"figure.figsize\":(5,6)})\n",
    "\n",
    "df_p_at_k = pd.DataFrame(columns = ['Rank' , 'Iter' , 'regParam' , 'PrecisionVal'])\n",
    "df_auc_1 = pd.DataFrame(columns = ['Rank' , 'Iter' , 'regParam' , 'AccuracyVal_train'])\n",
    "df_auc_2 = pd.DataFrame(columns = ['Rank' , 'Iter' , 'regParam' , 'AccuracyVal_test'])\n",
    "df_t = pd.DataFrame(columns = ['Rank' , 'Iter' , 'regParam' , 'time'])\n",
    "\n",
    "for r in ranks:\n",
    "  for Iter in maxIters:\n",
    "    for reg in regParams:\n",
    "      p_at_k,auc_1,auc_2,t = train_and_test(train_1, test_1,r,reg,Iter)\n",
    "      precision_at_ks[(r,Iter,reg)] = p_at_k\n",
    "      auc_train[(r,Iter,reg)] = auc_1\n",
    "      auc_test[(r,Iter,reg)] = auc_2\n",
    "      times[(r,Iter,reg)] = t\n",
    "\n",
    "      df_p_at_k = df_p_at_k.append({'Rank' : r , 'Iter' : Iter , 'regParam' : reg , 'PrecisionVal' : p_at_k} , ignore_index = True)\n",
    "      df_auc_1 = df_auc_1.append({'Rank' : r , 'Iter' : Iter , 'regParam' : reg , 'AccuracyVal_train' : auc_1} , ignore_index = True)\n",
    "      df_auc_2 = df_auc_2.append({'Rank' : r , 'Iter' : Iter , 'regParam' : reg , 'AccuracyVal_test' : auc_2} , ignore_index = True)\n",
    "      df_t = df_t.append({'Rank' : r , 'Iter' : Iter , 'regParam' : reg , 'time' : t} , ignore_index = True)\n",
    "\n",
    "df_p_at_k[\"PrecisionVal\"] = df_p_at_k[\"PrecisionVal\"].round(3)\n",
    "df_auc_1[\"AccuracyVal_train\"] = df_auc_1[\"AccuracyVal_train\"].round(2)\n",
    "df_auc_2[\"AccuracyVal_test\"] = df_auc_2[\"AccuracyVal_test\"].round(2)\n",
    "df_t[\"time\"] = df_t[\"time\"].astype(int)\n",
    "\n",
    "df_join1 = df_p_at_k.merge(df_auc_1 , on=('Iter' , 'Rank' , 'regParam') , how=\"inner\")\n",
    "df_join2 = df_join1.merge(df_auc_2 , on=('Iter' , 'Rank' , 'regParam') , how=\"inner\")\n",
    "df_merged = df_join2.merge(df_t , on=('Iter' , 'Rank' , 'regParam') , how=\"inner\")\n"
   ]
  },
  {
   "cell_type": "code",
   "execution_count": 78,
   "metadata": {
    "colab": {
     "base_uri": "https://localhost:8080/",
     "height": 230
    },
    "id": "fKp6CCQuk8C_",
    "outputId": "fc887a9c-9d23-461a-eb6e-7c448ea8695f"
   },
   "outputs": [
    {
     "data": {
      "image/png": "[encoded data removed]",
      "text/plain": [
       "<Figure size 728.55x216 with 3 Axes>"
      ]
     },
     "metadata": {},
     "output_type": "display_data"
    }
   ],
   "source": [
    "# precision_at_ks\n",
    "\n",
    "graph = sns.FacetGrid(df_merged , col=\"Iter\", hue=\"PrecisionVal\")\n",
    "graph.map(plt.scatter, \"Rank\" , \"regParam\"  , edgecolor=\"w\").add_legend()\n",
    "graph.fig.subplots_adjust(top=0.7)\n",
    "graph.fig.suptitle(\"LightFM - Precision\" , fontsize=16)\n",
    "plt.show()"
   ]
  },
  {
   "cell_type": "code",
   "execution_count": 79,
   "metadata": {
    "colab": {
     "base_uri": "https://localhost:8080/",
     "height": 230
    },
    "id": "2wTcHLMIn0AQ",
    "outputId": "d3bf2cc3-3805-4901-be24-9a9023be0ec4"
   },
   "outputs": [
    {
     "data": {
      "image/png": "[encoded data removed]",
      "text/plain": [
       "<Figure size 694.6x216 with 3 Axes>"
      ]
     },
     "metadata": {},
     "output_type": "display_data"
    }
   ],
   "source": [
    "# times2\n",
    "\n",
    "graph = sns.FacetGrid(df_merged , col=\"Iter\", hue=\"time\")\n",
    "graph.map(plt.scatter, \"Rank\" , \"regParam\" , edgecolor=\"w\").add_legend()\n",
    "graph.fig.subplots_adjust(top=0.7)\n",
    "graph.fig.suptitle(\"LightFM - Time Taken\" , fontsize=16)\n",
    "plt.show()"
   ]
  },
  {
   "cell_type": "code",
   "execution_count": 80,
   "metadata": {
    "colab": {
     "base_uri": "https://localhost:8080/",
     "height": 230
    },
    "id": "APMjpyTHn0DC",
    "outputId": "1b7ad432-ebc7-4561-8281-5ff707cc9a32"
   },
   "outputs": [
    {
     "data": {
      "image/png": "[encoded data removed]",
      "text/plain": [
       "<Figure size 764.05x216 with 3 Axes>"
      ]
     },
     "metadata": {},
     "output_type": "display_data"
    }
   ],
   "source": [
    "# auc_train\n",
    "\n",
    "graph = sns.FacetGrid(df_merged , col=\"Iter\", hue=\"AccuracyVal_train\")\n",
    "graph.map(plt.scatter, \"Rank\" , \"regParam\" , edgecolor=\"w\").add_legend()\n",
    "graph.fig.subplots_adjust(top=0.7)\n",
    "graph.fig.suptitle(\"LightFM - Accuracy Value(train)\" , fontsize=16)\n",
    "plt.show()\n"
   ]
  },
  {
   "cell_type": "code",
   "execution_count": 81,
   "metadata": {
    "colab": {
     "base_uri": "https://localhost:8080/",
     "height": 230
    },
    "id": "FVA1ziIRn0Gb",
    "outputId": "e7f8117d-959e-41de-f8c1-620bab8aa2c4"
   },
   "outputs": [
    {
     "data": {
      "image/png": "[encoded data removed]",
      "text/plain": [
       "<Figure size 759.05x216 with 3 Axes>"
      ]
     },
     "metadata": {},
     "output_type": "display_data"
    }
   ],
   "source": [
    "# auc_test\n",
    "\n",
    "graph = sns.FacetGrid(df_merged , col=\"Iter\", hue=\"AccuracyVal_test\")\n",
    "graph.map(plt.scatter, \"Rank\" , \"regParam\" , edgecolor=\"w\").add_legend()\n",
    "graph.fig.subplots_adjust(top=0.7)\n",
    "graph.fig.suptitle(\"LightFM - Accuracy Value(test)\" , fontsize=16)\n",
    "plt.show()\n"
   ]
  },
  {
   "cell_type": "markdown",
   "metadata": {
    "id": "Q2h6HZGCowAe"
   },
   "source": [
    "# Annoy"
   ]
  },
  {
   "cell_type": "code",
   "execution_count": 43,
   "metadata": {
    "id": "Jvj_9wHcqdM4"
   },
   "outputs": [],
   "source": [
    "%matplotlib inline\n",
    "from sklearn.metrics import pairwise_distances\n",
    "import time\n",
    "from lightfm.datasets import fetch_movielens\n",
    "\n",
    "movielens = fetch_movielens()"
   ]
  },
  {
   "cell_type": "code",
   "execution_count": 44,
   "metadata": {
    "colab": {
     "base_uri": "https://localhost:8080/"
    },
    "id": "9U6G3DMdqIq8",
    "outputId": "11970b4b-ac8d-40d0-edb1-a8653fa9ad23"
   },
   "outputs": [
    {
     "data": {
      "text/plain": [
       "dict_items([('train', <943x1682 sparse matrix of type '<class 'numpy.int32'>'\n",
       "\twith 90570 stored elements in COOrdinate format>), ('test', <943x1682 sparse matrix of type '<class 'numpy.int32'>'\n",
       "\twith 9430 stored elements in COOrdinate format>), ('item_features', <1682x1682 sparse matrix of type '<class 'numpy.float32'>'\n",
       "\twith 1682 stored elements in Compressed Sparse Row format>), ('item_feature_labels', array(['Toy Story (1995)', 'GoldenEye (1995)', 'Four Rooms (1995)', ...,\n",
       "       'Sliding Doors (1998)', 'You So Crazy (1994)',\n",
       "       'Scream of Stone (Schrei aus Stein) (1991)'], dtype=object)), ('item_labels', array(['Toy Story (1995)', 'GoldenEye (1995)', 'Four Rooms (1995)', ...,\n",
       "       'Sliding Doors (1998)', 'You So Crazy (1994)',\n",
       "       'Scream of Stone (Schrei aus Stein) (1991)'], dtype=object))])"
      ]
     },
     "execution_count": 44,
     "metadata": {},
     "output_type": "execute_result"
    }
   ],
   "source": [
    "movielens.items()"
   ]
  },
  {
   "cell_type": "code",
   "execution_count": 46,
   "metadata": {
    "id": "1wff3qqEn0JR"
   },
   "outputs": [],
   "source": [
    "train = movielens['train']\n",
    "test = movielens['test']"
   ]
  },
  {
   "cell_type": "code",
   "execution_count": 57,
   "metadata": {
    "colab": {
     "base_uri": "https://localhost:8080/"
    },
    "id": "LMg5QRb0oTBX",
    "outputId": "4691ecd0-55d2-4e56-af10-98112028d000"
   },
   "outputs": [
    {
     "name": "stdout",
     "output_type": "stream",
     "text": [
      "Precision: train 0.73, test 0.09.\n",
      "AUC: train 0.97, test 0.91.\n"
     ]
    }
   ],
   "source": [
    "model = LightFM(learning_rate=0.05, loss='warp', no_components=64, item_alpha=0.001)\n",
    "model.fit_partial(train, item_features=movielens['item_features'], epochs=20 )\n",
    "\n",
    "train_precision = precision_at_k(model, train, k=10).mean()\n",
    "test_precision = precision_at_k(model, test, k=10).mean()\n",
    "\n",
    "train_auc = auc_score(model, train).mean()\n",
    "test_auc = auc_score(model, test).mean()\n",
    "\n",
    "print('Precision: train %.2f, test %.2f.' % (train_precision, test_precision))\n",
    "print('AUC: train %.2f, test %.2f.' % (train_auc, test_auc))"
   ]
  },
  {
   "cell_type": "code",
   "execution_count": 58,
   "metadata": {
    "id": "4lRcNK43oTmy"
   },
   "outputs": [],
   "source": [
    "# Get embeddings\n",
    "_, item_embeddings = model.get_item_representations(movielens['item_features'])"
   ]
  },
  {
   "cell_type": "code",
   "execution_count": 59,
   "metadata": {
    "colab": {
     "base_uri": "https://localhost:8080/"
    },
    "id": "Y2skquDevFee",
    "outputId": "5e29ba8a-f641-4f7e-9180-bf5f58173b61"
   },
   "outputs": [
    {
     "name": "stdout",
     "output_type": "stream",
     "text": [
      "Collecting annoy\n",
      "  Downloading annoy-1.17.0.tar.gz (646 kB)\n",
      "\u001b[?25l\r\u001b[K     |▌                               | 10 kB 20.6 MB/s eta 0:00:01\r\u001b[K     |█                               | 20 kB 26.2 MB/s eta 0:00:01\r\u001b[K     |█▌                              | 30 kB 30.2 MB/s eta 0:00:01\r\u001b[K     |██                              | 40 kB 27.8 MB/s eta 0:00:01\r\u001b[K     |██▌                             | 51 kB 21.8 MB/s eta 0:00:01\r\u001b[K     |███                             | 61 kB 24.6 MB/s eta 0:00:01\r\u001b[K     |███▌                            | 71 kB 24.2 MB/s eta 0:00:01\r\u001b[K     |████                            | 81 kB 24.9 MB/s eta 0:00:01\r\u001b[K     |████▋                           | 92 kB 26.8 MB/s eta 0:00:01\r\u001b[K     |█████                           | 102 kB 26.0 MB/s eta 0:00:01\r\u001b[K     |█████▋                          | 112 kB 26.0 MB/s eta 0:00:01\r\u001b[K     |██████                          | 122 kB 26.0 MB/s eta 0:00:01\r\u001b[K     |██████▋                         | 133 kB 26.0 MB/s eta 0:00:01\r\u001b[K     |███████                         | 143 kB 26.0 MB/s eta 0:00:01\r\u001b[K     |███████▋                        | 153 kB 26.0 MB/s eta 0:00:01\r\u001b[K     |████████▏                       | 163 kB 26.0 MB/s eta 0:00:01\r\u001b[K     |████████▋                       | 174 kB 26.0 MB/s eta 0:00:01\r\u001b[K     |█████████▏                      | 184 kB 26.0 MB/s eta 0:00:01\r\u001b[K     |█████████▋                      | 194 kB 26.0 MB/s eta 0:00:01\r\u001b[K     |██████████▏                     | 204 kB 26.0 MB/s eta 0:00:01\r\u001b[K     |██████████▋                     | 215 kB 26.0 MB/s eta 0:00:01\r\u001b[K     |███████████▏                    | 225 kB 26.0 MB/s eta 0:00:01\r\u001b[K     |███████████▋                    | 235 kB 26.0 MB/s eta 0:00:01\r\u001b[K     |████████████▏                   | 245 kB 26.0 MB/s eta 0:00:01\r\u001b[K     |████████████▊                   | 256 kB 26.0 MB/s eta 0:00:01\r\u001b[K     |█████████████▏                  | 266 kB 26.0 MB/s eta 0:00:01\r\u001b[K     |█████████████▊                  | 276 kB 26.0 MB/s eta 0:00:01\r\u001b[K     |██████████████▏                 | 286 kB 26.0 MB/s eta 0:00:01\r\u001b[K     |██████████████▊                 | 296 kB 26.0 MB/s eta 0:00:01\r\u001b[K     |███████████████▏                | 307 kB 26.0 MB/s eta 0:00:01\r\u001b[K     |███████████████▊                | 317 kB 26.0 MB/s eta 0:00:01\r\u001b[K     |████████████████▎               | 327 kB 26.0 MB/s eta 0:00:01\r\u001b[K     |████████████████▊               | 337 kB 26.0 MB/s eta 0:00:01\r\u001b[K     |█████████████████▎              | 348 kB 26.0 MB/s eta 0:00:01\r\u001b[K     |█████████████████▊              | 358 kB 26.0 MB/s eta 0:00:01\r\u001b[K     |██████████████████▎             | 368 kB 26.0 MB/s eta 0:00:01\r\u001b[K     |██████████████████▊             | 378 kB 26.0 MB/s eta 0:00:01\r\u001b[K     |███████████████████▎            | 389 kB 26.0 MB/s eta 0:00:01\r\u001b[K     |███████████████████▊            | 399 kB 26.0 MB/s eta 0:00:01\r\u001b[K     |████████████████████▎           | 409 kB 26.0 MB/s eta 0:00:01\r\u001b[K     |████████████████████▉           | 419 kB 26.0 MB/s eta 0:00:01\r\u001b[K     |█████████████████████▎          | 430 kB 26.0 MB/s eta 0:00:01\r\u001b[K     |█████████████████████▉          | 440 kB 26.0 MB/s eta 0:00:01\r\u001b[K     |██████████████████████▎         | 450 kB 26.0 MB/s eta 0:00:01\r\u001b[K     |██████████████████████▉         | 460 kB 26.0 MB/s eta 0:00:01\r\u001b[K     |███████████████████████▎        | 471 kB 26.0 MB/s eta 0:00:01\r\u001b[K     |███████████████████████▉        | 481 kB 26.0 MB/s eta 0:00:01\r\u001b[K     |████████████████████████▍       | 491 kB 26.0 MB/s eta 0:00:01\r\u001b[K     |████████████████████████▉       | 501 kB 26.0 MB/s eta 0:00:01\r\u001b[K     |█████████████████████████▍      | 512 kB 26.0 MB/s eta 0:00:01\r\u001b[K     |█████████████████████████▉      | 522 kB 26.0 MB/s eta 0:00:01\r\u001b[K     |██████████████████████████▍     | 532 kB 26.0 MB/s eta 0:00:01\r\u001b[K     |██████████████████████████▉     | 542 kB 26.0 MB/s eta 0:00:01\r\u001b[K     |███████████████████████████▍    | 552 kB 26.0 MB/s eta 0:00:01\r\u001b[K     |███████████████████████████▉    | 563 kB 26.0 MB/s eta 0:00:01\r\u001b[K     |████████████████████████████▍   | 573 kB 26.0 MB/s eta 0:00:01\r\u001b[K     |█████████████████████████████   | 583 kB 26.0 MB/s eta 0:00:01\r\u001b[K     |█████████████████████████████▍  | 593 kB 26.0 MB/s eta 0:00:01\r\u001b[K     |██████████████████████████████  | 604 kB 26.0 MB/s eta 0:00:01\r\u001b[K     |██████████████████████████████▍ | 614 kB 26.0 MB/s eta 0:00:01\r\u001b[K     |███████████████████████████████ | 624 kB 26.0 MB/s eta 0:00:01\r\u001b[K     |███████████████████████████████▍| 634 kB 26.0 MB/s eta 0:00:01\r\u001b[K     |████████████████████████████████| 645 kB 26.0 MB/s eta 0:00:01\r\u001b[K     |████████████████████████████████| 646 kB 26.0 MB/s \n",
      "\u001b[?25hBuilding wheels for collected packages: annoy\n",
      "  Building wheel for annoy (setup.py) ... \u001b[?25l\u001b[?25hdone\n",
      "  Created wheel for annoy: filename=annoy-1.17.0-cp37-cp37m-linux_x86_64.whl size=391567 sha256=c44482df1b5ad89a443a8f0346652946ccdb3b6ed958e98e7d80300e28677c35\n",
      "  Stored in directory: /root/.cache/pip/wheels/4f/e8/1e/7cc9ebbfa87a3b9f8ba79408d4d31831d67eea918b679a4c07\n",
      "Successfully built annoy\n",
      "Installing collected packages: annoy\n",
      "Successfully installed annoy-1.17.0\n"
     ]
    }
   ],
   "source": [
    "!pip install annoy"
   ]
  },
  {
   "cell_type": "code",
   "execution_count": 62,
   "metadata": {
    "colab": {
     "base_uri": "https://localhost:8080/"
    },
    "id": "RiWUijfuu5l3",
    "outputId": "31ff6b45-5398-4a25-b568-deb2fedcf265"
   },
   "outputs": [
    {
     "name": "stderr",
     "output_type": "stream",
     "text": [
      "/usr/local/lib/python3.7/dist-packages/ipykernel_launcher.py:5: FutureWarning: The default argument for metric will be removed in future version of Annoy. Please pass metric='angular' explicitly.\n",
      "  \"\"\"\n"
     ]
    },
    {
     "data": {
      "text/plain": [
       "True"
      ]
     },
     "execution_count": 62,
     "metadata": {},
     "output_type": "execute_result"
    }
   ],
   "source": [
    "# Annoy index for item to item quering\n",
    "from annoy import AnnoyIndex\n",
    "# Length of item vector that will be indexed\n",
    "factors = item_embeddings.shape[1] \n",
    "annoy_idx = AnnoyIndex(factors)  \n",
    "for i in range(item_embeddings.shape[0]):\n",
    "    v = item_embeddings[i]\n",
    "    annoy_idx.add_item(i, v)\n",
    "\n",
    "annoy_idx.build(10) # 10 trees\n",
    "annoy_idx.save('movielens_item_Annoy_idx.ann')"
   ]
  },
  {
   "cell_type": "code",
   "execution_count": 63,
   "metadata": {
    "id": "sb6FzM8gu5uV"
   },
   "outputs": [],
   "source": [
    "#Query for similar movies\n",
    "def nearest_movies_annoy(movie_id, index, n=10, print_output=True):\n",
    "    nn = index.get_nns_by_item(movie_id, 10)\n",
    "    if print_output:\n",
    "        print('Closest to %s : \\n' % movielens['item_labels'][movie_id])\n",
    "    titles = [movielens['item_labels'][i] for i in nn]\n",
    "    if print_output:\n",
    "        print(\"\\n\".join(titles))"
   ]
  },
  {
   "cell_type": "code",
   "execution_count": 64,
   "metadata": {
    "colab": {
     "base_uri": "https://localhost:8080/"
    },
    "id": "f-EVyC8Eu5xO",
    "outputId": "83b8156f-9459-43a0-a9d8-906e89dc3f62"
   },
   "outputs": [
    {
     "name": "stdout",
     "output_type": "stream",
     "text": [
      "Closest to Nightmare Before Christmas, The (1993) : \n",
      "\n",
      "Nightmare Before Christmas, The (1993)\n",
      "Beauty and the Beast (1991)\n",
      "Heavy Metal (1981)\n",
      "Aladdin (1992)\n",
      "Fantasia (1940)\n",
      "Pink Floyd - The Wall (1982)\n",
      "James and the Giant Peach (1996)\n",
      "Lion King, The (1994)\n",
      "Snow White and the Seven Dwarfs (1937)\n",
      "Sound of Music, The (1965)\n"
     ]
    }
   ],
   "source": [
    "nearest_movies_annoy(90, annoy_idx)"
   ]
  },
  {
   "cell_type": "code",
   "execution_count": 65,
   "metadata": {
    "colab": {
     "base_uri": "https://localhost:8080/"
    },
    "id": "ZceAkhDYu50Z",
    "outputId": "3f9b39ab-17cf-4462-cc74-656a549a1ba5"
   },
   "outputs": [
    {
     "name": "stdout",
     "output_type": "stream",
     "text": [
      "The slowest run took 9.56 times longer than the fastest. This could mean that an intermediate result is being cached.\n",
      "100000 loops, best of 5: 8.66 µs per loop\n"
     ]
    }
   ],
   "source": [
    "%%timeit\n",
    "nearest_movies_annoy(90, annoy_idx, print_output=False)"
   ]
  },
  {
   "cell_type": "markdown",
   "metadata": {
    "id": "UB7VQfdChZsS"
   },
   "source": [
    "## Comparision"
   ]
  },
  {
   "cell_type": "code",
   "execution_count": 66,
   "metadata": {
    "id": "lFwnEtsRvQYW"
   },
   "outputs": [],
   "source": [
    "item_vectors = movielens['item_features'] * model.item_embeddings"
   ]
  },
  {
   "cell_type": "code",
   "execution_count": 67,
   "metadata": {
    "colab": {
     "base_uri": "https://localhost:8080/"
    },
    "id": "uDsKviGGvSNz",
    "outputId": "1eaea405-e42d-45fe-8622-187dbc1a377b"
   },
   "outputs": [
    {
     "name": "stderr",
     "output_type": "stream",
     "text": [
      "/usr/local/lib/python3.7/dist-packages/ipykernel_launcher.py:7: FutureWarning: The default argument for metric will be removed in future version of Annoy. Please pass metric='angular' explicitly.\n",
      "  import sys\n"
     ]
    },
    {
     "data": {
      "text/plain": [
       "True"
      ]
     },
     "execution_count": 67,
     "metadata": {},
     "output_type": "execute_result"
    }
   ],
   "source": [
    "  norms = np.linalg.norm(item_vectors, axis=1)\n",
    "  max_norm = norms.max()\n",
    "  extra_dimension = np.sqrt(max_norm ** 2 - norms ** 2)\n",
    "  norm_data = np.append(item_vectors, extra_dimension.reshape(norms.shape[0], 1), axis=1)\n",
    "\n",
    "  f_member = norm_data.shape[1]\n",
    "  t_member = AnnoyIndex(f_member)  # Length of item vector that will be indexed\n",
    "\n",
    "  for i in range(norm_data.shape[0]):\n",
    "      v = norm_data[i]\n",
    "      t_member.add_item(i, v)\n",
    "      \n",
    "  t_member.build(10)"
   ]
  },
  {
   "cell_type": "code",
   "execution_count": 68,
   "metadata": {
    "id": "vDdwEXdusqwN"
   },
   "outputs": [],
   "source": [
    "def recommend_without_ann(model, data, user_ids, print_output=True):\n",
    "    n_users, n_items = data['train'].shape\n",
    "\n",
    "    for user_id in user_ids:\n",
    "        known_positives = data['item_labels'][data['train'].tocsr()[user_id].indices]\n",
    "        scores = model.predict(user_id, np.arange(n_items))\n",
    "        top_items = data['item_labels'][np.argsort(-scores)]\n",
    "        if print_output == True:\n",
    "            print(\"User %s\" % user_id)\n",
    "            print(\"     Known positives:\")\n",
    "\n",
    "            for x in known_positives[:3]:\n",
    "                print(\"        %s\" % x)\n",
    "\n",
    "            print(\"     Recommended:\")\n",
    "\n",
    "            for x in top_items[:3]:\n",
    "                print(\"        %s\" % x)"
   ]
  },
  {
   "cell_type": "code",
   "execution_count": 69,
   "metadata": {
    "colab": {
     "base_uri": "https://localhost:8080/"
    },
    "id": "3iIwApPethTB",
    "outputId": "076b127b-de3b-484d-f580-43bd3e5ed6ee"
   },
   "outputs": [
    {
     "name": "stdout",
     "output_type": "stream",
     "text": [
      "User 3\n",
      "     Known positives:\n",
      "        Seven (Se7en) (1995)\n",
      "        Indiana Jones and the Last Crusade (1989)\n",
      "        Contact (1997)\n",
      "     Recommended:\n",
      "        Contact (1997)\n",
      "        Conspiracy Theory (1997)\n",
      "        Saint, The (1997)\n",
      "User 25\n",
      "     Known positives:\n",
      "        Toy Story (1995)\n",
      "        Twelve Monkeys (1995)\n",
      "        Dead Man Walking (1995)\n",
      "     Recommended:\n",
      "        Fargo (1996)\n",
      "        Leaving Las Vegas (1995)\n",
      "        Rock, The (1996)\n",
      "User 450\n",
      "     Known positives:\n",
      "        Kolya (1996)\n",
      "        Devil's Own, The (1997)\n",
      "        Contact (1997)\n",
      "     Recommended:\n",
      "        Contact (1997)\n",
      "        G.I. Jane (1997)\n",
      "        Devil's Own, The (1997)\n"
     ]
    }
   ],
   "source": [
    "recommend_without_ann(model, movielens, [3, 25, 450])"
   ]
  },
  {
   "cell_type": "code",
   "execution_count": 70,
   "metadata": {
    "id": "MCVzfU2KuNYY"
   },
   "outputs": [],
   "source": [
    "user_vectors = model.user_embeddings"
   ]
  },
  {
   "cell_type": "code",
   "execution_count": 71,
   "metadata": {
    "colab": {
     "base_uri": "https://localhost:8080/"
    },
    "id": "pIho3GMxZEXa",
    "outputId": "6f2552e1-ebba-41d2-b0c4-65830a5b6d02"
   },
   "outputs": [
    {
     "name": "stderr",
     "output_type": "stream",
     "text": [
      "/usr/local/lib/python3.7/dist-packages/ipykernel_launcher.py:9: FutureWarning: The default argument for metric will be removed in future version of Annoy. Please pass metric='angular' explicitly.\n",
      "  if __name__ == '__main__':\n"
     ]
    }
   ],
   "source": [
    "# Add a nomalizing factor to each item vector - 0 is added at the end\n",
    "def normalize(item_vectors):\n",
    "  norms = np.linalg.norm(item_vectors, axis=1)\n",
    "  max_norm = norms.max()\n",
    "  extra_dimension = np.sqrt(max_norm ** 2 - norms ** 2)\n",
    "  norm_data = np.append(item_vectors, extra_dimension.reshape(norms.shape[0], 1), axis=1)\n",
    "\n",
    "  f_member = norm_data.shape[1]\n",
    "  t_member = AnnoyIndex(f_member)  # Length of item vector that will be indexed\n",
    "\n",
    "  for i in range(norm_data.shape[0]):\n",
    "      v = norm_data[i]\n",
    "      t_member.add_item(i, v)\n",
    "      \n",
    "  t_member.build(10)\n",
    "\n",
    "normalize(item_vectors)"
   ]
  },
  {
   "cell_type": "code",
   "execution_count": 72,
   "metadata": {
    "id": "Kiz_lLK3tbfW"
   },
   "outputs": [],
   "source": [
    "def recommend_with_ann(user_ids, model, data, n_items=10, print_output=True):\n",
    "    n_users, n_items = data['train'].shape\n",
    "    \n",
    "    for user_id in user_ids:\n",
    "        known_positives = data['item_labels'][data['train'].tocsr()[user_id].indices]\n",
    "        top_items = [data['item_labels'][i] for i in t_member.get_nns_by_vector(np.append(user_vectors[user_id], 0), 50)]\n",
    "        if print_output == True:\n",
    "            print(\"User %s\" % user_id)\n",
    "            print(\"     Known positives:\")\n",
    "\n",
    "            for x in known_positives[:3]:\n",
    "                print(\"        %s\" % x)\n",
    "\n",
    "            print(\"     Recommended:\")\n",
    "\n",
    "            for x in top_items[:3]:\n",
    "                print(\"        %s\" % x)"
   ]
  },
  {
   "cell_type": "code",
   "execution_count": 73,
   "metadata": {
    "colab": {
     "base_uri": "https://localhost:8080/"
    },
    "id": "v1-EIEGYuQFC",
    "outputId": "55517f51-d854-44bd-9ab2-4d2d26109bd7"
   },
   "outputs": [
    {
     "name": "stdout",
     "output_type": "stream",
     "text": [
      "User 3\n",
      "     Known positives:\n",
      "        Seven (Se7en) (1995)\n",
      "        Indiana Jones and the Last Crusade (1989)\n",
      "        Contact (1997)\n",
      "     Recommended:\n",
      "        Conspiracy Theory (1997)\n",
      "        Contact (1997)\n",
      "        Saint, The (1997)\n",
      "User 25\n",
      "     Known positives:\n",
      "        Toy Story (1995)\n",
      "        Twelve Monkeys (1995)\n",
      "        Dead Man Walking (1995)\n",
      "     Recommended:\n",
      "        Leaving Las Vegas (1995)\n",
      "        Fargo (1996)\n",
      "        Rock, The (1996)\n",
      "User 450\n",
      "     Known positives:\n",
      "        Kolya (1996)\n",
      "        Devil's Own, The (1997)\n",
      "        Contact (1997)\n",
      "     Recommended:\n",
      "        Steel (1997)\n",
      "        Leave It to Beaver (1997)\n",
      "        Picture Perfect (1997)\n"
     ]
    }
   ],
   "source": [
    "recommend_with_ann([3,25,450], model, movielens, print_output=True)"
   ]
  },
  {
   "cell_type": "code",
   "execution_count": 74,
   "metadata": {
    "colab": {
     "base_uri": "https://localhost:8080/"
    },
    "id": "CYuDQI3r23mV",
    "outputId": "1b916a98-6689-4dc0-f052-e95333e07a49"
   },
   "outputs": [
    {
     "name": "stdout",
     "output_type": "stream",
     "text": [
      "100 loops, best of 5: 5.16 ms per loop\n"
     ]
    }
   ],
   "source": [
    "%%timeit\n",
    "recommend_without_ann(model, movielens, [3, 25, 450], print_output=False)"
   ]
  },
  {
   "cell_type": "code",
   "execution_count": 75,
   "metadata": {
    "colab": {
     "base_uri": "https://localhost:8080/"
    },
    "id": "jOQL-QE74Ep2",
    "outputId": "2416f54a-61ed-45c2-923d-a0eb71b7a010"
   },
   "outputs": [
    {
     "name": "stdout",
     "output_type": "stream",
     "text": [
      "100 loops, best of 5: 2.93 ms per loop\n"
     ]
    }
   ],
   "source": [
    "%%timeit\n",
    "recommend_with_ann([3,25,450], model, movielens, print_output=False)"
   ]
  },
  {
   "cell_type": "code",
   "execution_count": 94,
   "metadata": {
    "colab": {
     "base_uri": "https://localhost:8080/"
    },
    "id": "V5-JbTBfvmHu",
    "outputId": "336040fc-840f-4309-aa6c-da32266c6432"
   },
   "outputs": [
    {
     "name": "stderr",
     "output_type": "stream",
     "text": [
      "/usr/local/lib/python3.7/dist-packages/ipykernel_launcher.py:9: FutureWarning: The default argument for metric will be removed in future version of Annoy. Please pass metric='angular' explicitly.\n",
      "  if __name__ == '__main__':\n"
     ]
    },
    {
     "name": "stdout",
     "output_type": "stream",
     "text": [
      "Model with maxIter = 5, reg = 0.1, rank = 4 complete\n",
      "Without Annoy = 5.53039 With Annoy = 3.00684\n",
      "Model with maxIter = 5, reg = 0.01, rank = 4 complete\n",
      "Without Annoy = 4.05284 With Annoy = 2.98403\n",
      "Model with maxIter = 10, reg = 0.1, rank = 4 complete\n",
      "Without Annoy = 4.07329 With Annoy = 2.97766\n",
      "Model with maxIter = 10, reg = 0.01, rank = 4 complete\n",
      "Without Annoy = 4.05933 With Annoy = 2.99718\n",
      "Model with maxIter = 15, reg = 0.1, rank = 4 complete\n",
      "Without Annoy = 4.07829 With Annoy = 2.99107\n",
      "Model with maxIter = 15, reg = 0.01, rank = 4 complete\n",
      "Without Annoy = 4.04823 With Annoy = 2.9932\n",
      "Model with maxIter = 5, reg = 0.1, rank = 5 complete\n",
      "Without Annoy = 4.11384 With Annoy = 2.96794\n",
      "Model with maxIter = 5, reg = 0.01, rank = 5 complete\n",
      "Without Annoy = 4.06571 With Annoy = 2.96952\n",
      "Model with maxIter = 10, reg = 0.1, rank = 5 complete\n",
      "Without Annoy = 4.09452 With Annoy = 2.98681\n",
      "Model with maxIter = 10, reg = 0.01, rank = 5 complete\n",
      "Without Annoy = 4.43133 With Annoy = 2.97462\n",
      "Model with maxIter = 15, reg = 0.1, rank = 5 complete\n",
      "Without Annoy = 4.08374 With Annoy = 2.97355\n",
      "Model with maxIter = 15, reg = 0.01, rank = 5 complete\n",
      "Without Annoy = 4.68978 With Annoy = 2.99267\n",
      "Model with maxIter = 5, reg = 0.1, rank = 6 complete\n",
      "Without Annoy = 4.09643 With Annoy = 3.00251\n",
      "Model with maxIter = 5, reg = 0.01, rank = 6 complete\n",
      "Without Annoy = 4.07015 With Annoy = 2.96984\n",
      "Model with maxIter = 10, reg = 0.1, rank = 6 complete\n",
      "Without Annoy = 4.12187 With Annoy = 2.98615\n",
      "Model with maxIter = 10, reg = 0.01, rank = 6 complete\n",
      "Without Annoy = 4.11416 With Annoy = 2.99055\n",
      "Model with maxIter = 15, reg = 0.1, rank = 6 complete\n",
      "Without Annoy = 4.09066 With Annoy = 2.97323\n",
      "Model with maxIter = 15, reg = 0.01, rank = 6 complete\n",
      "Without Annoy = 4.05882 With Annoy = 2.97751\n",
      "Model with maxIter = 5, reg = 0.1, rank = 7 complete\n",
      "Without Annoy = 4.12978 With Annoy = 2.9775\n",
      "Model with maxIter = 5, reg = 0.01, rank = 7 complete\n",
      "Without Annoy = 4.14106 With Annoy = 2.96323\n",
      "Model with maxIter = 10, reg = 0.1, rank = 7 complete\n",
      "Without Annoy = 4.09397 With Annoy = 2.99121\n",
      "Model with maxIter = 10, reg = 0.01, rank = 7 complete\n",
      "Without Annoy = 4.11352 With Annoy = 3.02731\n",
      "Model with maxIter = 15, reg = 0.1, rank = 7 complete\n",
      "Without Annoy = 4.14449 With Annoy = 2.96629\n",
      "Model with maxIter = 15, reg = 0.01, rank = 7 complete\n",
      "Without Annoy = 4.14273 With Annoy = 4.11268\n",
      "Model with maxIter = 5, reg = 0.1, rank = 8 complete\n",
      "Without Annoy = 4.16086 With Annoy = 2.99224\n",
      "Model with maxIter = 5, reg = 0.01, rank = 8 complete\n",
      "Without Annoy = 4.12933 With Annoy = 2.9871\n",
      "Model with maxIter = 10, reg = 0.1, rank = 8 complete\n",
      "Without Annoy = 4.14624 With Annoy = 2.97922\n",
      "Model with maxIter = 10, reg = 0.01, rank = 8 complete\n",
      "Without Annoy = 4.0757 With Annoy = 2.95447\n",
      "Model with maxIter = 15, reg = 0.1, rank = 8 complete\n",
      "Without Annoy = 4.13412 With Annoy = 2.97523\n",
      "Model with maxIter = 15, reg = 0.01, rank = 8 complete\n",
      "Without Annoy = 4.12736 With Annoy = 2.97899\n",
      "Model with maxIter = 5, reg = 0.1, rank = 9 complete\n",
      "Without Annoy = 4.14049 With Annoy = 2.9935\n",
      "Model with maxIter = 5, reg = 0.01, rank = 9 complete\n",
      "Without Annoy = 4.13483 With Annoy = 2.99431\n",
      "Model with maxIter = 10, reg = 0.1, rank = 9 complete\n",
      "Without Annoy = 4.14561 With Annoy = 2.96057\n",
      "Model with maxIter = 15, reg = 0.1, rank = 9 complete\n",
      "Without Annoy = 4.11693 With Annoy = 2.96077\n",
      "Model with maxIter = 15, reg = 0.01, rank = 9 complete\n",
      "Without Annoy = 4.07912 With Annoy = 2.99287\n",
      "Model with maxIter = 5, reg = 0.1, rank = 10 complete\n",
      "Without Annoy = 4.13881 With Annoy = 2.9729\n",
      "Model with maxIter = 5, reg = 0.01, rank = 10 complete\n",
      "Without Annoy = 4.11337 With Annoy = 2.96955\n",
      "Model with maxIter = 10, reg = 0.1, rank = 10 complete\n",
      "Without Annoy = 4.15739 With Annoy = 2.97881\n",
      "Model with maxIter = 10, reg = 0.01, rank = 10 complete\n",
      "Without Annoy = 4.15216 With Annoy = 2.97833\n",
      "Model with maxIter = 15, reg = 0.1, rank = 10 complete\n",
      "Without Annoy = 4.15928 With Annoy = 2.98041\n",
      "Model with maxIter = 15, reg = 0.01, rank = 10 complete\n",
      "Without Annoy = 5.1084 With Annoy = 3.09823\n",
      "Model with maxIter = 5, reg = 0.1, rank = 11 complete\n",
      "Without Annoy = 4.77946 With Annoy = 7.96179\n",
      "Model with maxIter = 5, reg = 0.01, rank = 11 complete\n",
      "Without Annoy = 6.17574 With Annoy = 4.00325\n",
      "Model with maxIter = 10, reg = 0.1, rank = 11 complete\n",
      "Without Annoy = 4.9804 With Annoy = 3.40266\n",
      "Model with maxIter = 10, reg = 0.01, rank = 11 complete\n",
      "Without Annoy = 5.69666 With Annoy = 3.39711\n",
      "Model with maxIter = 15, reg = 0.1, rank = 11 complete\n",
      "Without Annoy = 4.19635 With Annoy = 2.99066\n",
      "Model with maxIter = 15, reg = 0.01, rank = 11 complete\n",
      "Without Annoy = 5.54996 With Annoy = 2.97508\n",
      "Model with maxIter = 5, reg = 0.1, rank = 12 complete\n",
      "Without Annoy = 4.19143 With Annoy = 2.98535\n",
      "Model with maxIter = 5, reg = 0.01, rank = 12 complete\n",
      "Without Annoy = 4.17804 With Annoy = 2.98031\n",
      "Model with maxIter = 10, reg = 0.1, rank = 12 complete\n",
      "Without Annoy = 4.20856 With Annoy = 2.99322\n",
      "Model with maxIter = 10, reg = 0.01, rank = 12 complete\n",
      "Without Annoy = 4.20356 With Annoy = 2.99379\n",
      "Model with maxIter = 15, reg = 0.1, rank = 12 complete\n",
      "Without Annoy = 4.23587 With Annoy = 2.99999\n",
      "Model with maxIter = 15, reg = 0.01, rank = 12 complete\n",
      "Without Annoy = 4.17372 With Annoy = 2.99987\n"
     ]
    }
   ],
   "source": [
    "from time import time\n",
    "without_ann = {}\n",
    "with_ann = {}\n",
    "\n",
    "df_without_ann = pd.DataFrame(columns = ['Rank' , 'Iter' , 'regParam' , 't1'])\n",
    "df_with_ann = pd.DataFrame(columns = ['Rank' , 'Iter' , 'regParam' , 't2'])\n",
    "\n",
    "for r in ranks:\n",
    "  for Iter in maxIters:\n",
    "    for reg in regParams:\n",
    "      #Lighfm\n",
    "      model = LightFM(loss='warp',\n",
    "                no_components=r,\n",
    "                user_alpha=reg)\n",
    "\n",
    "      model = model.fit(train, epochs=Iter,verbose=False)\n",
    "      st = time()\n",
    "      for _ in range(1000):\n",
    "        recommend_without_ann(model, movielens, [3, 25, 450], print_output=False)\n",
    "      t1 = round(time()-st, 5)\n",
    "      # Annoy\n",
    "      item_vectors = movielens['item_features'] * model.item_embeddings\n",
    "      normalize(item_vectors)\n",
    "      st = time()\n",
    "      for _ in range(1000):\n",
    "        recommend_with_ann([3,25,450], model, movielens, print_output=False)\n",
    "      t2 = round(time()-st, 5)\n",
    "      without_ann[(r,Iter,reg)] = t1\n",
    "      with_ann[(r,Iter,reg)] = t2\n",
    "\n",
    "      df_without_ann = df_without_ann.append({'Rank' : r , 'Iter' : Iter , 'regParam' : reg , 't1' : t1} , ignore_index = True)\n",
    "      df_with_ann = df_with_ann.append({'Rank' : r , 'Iter' : Iter , 'regParam' : reg , 't2' : t2} , ignore_index = True)\n",
    "\n",
    "      print('Model with maxIter = {}, reg = {}, rank = {} complete'.format(Iter,reg,r))\n",
    "      print('Without Annoy =',t1,'With Annoy =',t2)\n",
    "\n",
    "df_without_ann[\"t1\"] = df_without_ann[\"t1\"].astype(int)\n",
    "df_with_ann[\"t2\"] = df_with_ann[\"t2\"].astype(int)\n",
    "\n",
    "df_merged2 = df_without_ann.merge(df_with_ann , on=('Iter' , 'Rank' , 'regParam') , how=\"inner\")"
   ]
  },
  {
   "cell_type": "code",
   "execution_count": 115,
   "metadata": {
    "colab": {
     "base_uri": "https://localhost:8080/",
     "height": 410
    },
    "id": "gOal9SozFXuo",
    "outputId": "da5d7507-1c19-41db-94ac-df4377203c91"
   },
   "outputs": [
    {
     "data": {
      "image/png": "[encoded data removed]",
      "text/plain": [
       "<Figure size 360x432 with 1 Axes>"
      ]
     },
     "metadata": {},
     "output_type": "display_data"
    }
   ],
   "source": [
    "#graph plot for t1 (without ann)\n",
    "for x in df_merged2['regParam']:\n",
    "    if x == 0.01:\n",
    "        x_values = df_merged2['Rank']\n",
    "        y_values = df_merged2['t1']\n",
    "        plt.plot(x_values,y_values)\n",
    "        plt.scatter(x_values,y_values)\n",
    "        plt.xlabel(\"Rank\")\n",
    "        plt.ylabel(\"t1\")\n",
    "        plt.title(\"Time taken (without ann) and regParam=0.01\")\n",
    "    else:\n",
    "        pass\n",
    "\n",
    "plt.show()"
   ]
  },
  {
   "cell_type": "code",
   "execution_count": 116,
   "metadata": {
    "colab": {
     "base_uri": "https://localhost:8080/",
     "height": 410
    },
    "id": "log2V1xPMKC_",
    "outputId": "17b75e85-53dc-4d55-c027-e8057a35ade1"
   },
   "outputs": [
    {
     "data": {
      "image/png": "[encoded data removed]",
      "text/plain": [
       "<Figure size 360x432 with 1 Axes>"
      ]
     },
     "metadata": {},
     "output_type": "display_data"
    }
   ],
   "source": [
    "#graph plot for t1 (without ann)\n",
    "for x in df_merged2['regParam']:\n",
    "    if x == 0.01:\n",
    "        x_values = df_merged2['Rank']\n",
    "        y_values = df_merged2['t2']\n",
    "        plt.plot(x_values,y_values)\n",
    "        plt.scatter(x_values,y_values)\n",
    "        plt.xlabel(\"Rank\")\n",
    "        plt.ylabel(\"t2\")\n",
    "        plt.title(\"Time taken (with ann) and regParam=0.01\")\n",
    "    else:\n",
    "        pass\n",
    "\n",
    "plt.show()"
   ]
  },
  {
   "cell_type": "markdown",
   "metadata": {
    "id": "sjP9UzmfQDe_"
   },
   "source": [
    ""
   ]
  },
  {
   "cell_type": "markdown",
   "metadata": {
    "id": "qxUn_TJrQDzy"
   },
   "source": [
    "# Visualization"
   ]
  },
  {
   "cell_type": "code",
   "execution_count": 108,
   "metadata": {
    "colab": {
     "base_uri": "https://localhost:8080/",
     "height": 393
    },
    "id": "egwKnrsd7Gm-",
    "outputId": "b959f145-ff43-4d25-b730-4be1e0baacf0"
   },
   "outputs": [
    {
     "data": {
      "image/png": "[encoded data removed]",
      "text/plain": [
       "<Figure size 360x432 with 1 Axes>"
      ]
     },
     "metadata": {},
     "output_type": "display_data"
    }
   ],
   "source": [
    "import matplotlib.pyplot as plt\n",
    "\n",
    "x = list(without_ann.values())\n",
    "y = sorted(x)\n",
    "\n",
    "x2 = list(with_ann.values())\n",
    "y2 = sorted(x2)\n",
    "plt.title(\"Brute Force vs Annoy\")\n",
    "plt.scatter(x, y,color=\"red\")\n",
    "plt.scatter(x2,y2,color='green')\n",
    "plt.show()"
   ]
  }
 ],
 "metadata": {
  "colab": {
   "collapsed_sections": [],
   "name": "Extensions.ipynb",
   "provenance": []
  },
  "kernelspec": {
   "display_name": "Python 3 (ipykernel)",
   "language": "python",
   "name": "python3"
  },
  "language_info": {
   "codemirror_mode": {
    "name": "ipython",
    "version": 3
   },
   "file_extension": ".py",
   "mimetype": "text/x-python",
   "name": "python",
   "nbconvert_exporter": "python",
   "pygments_lexer": "ipython3",
   "version": "3.9.7"
  }
 },
 "nbformat": 4,
 "nbformat_minor": 0
}
