{
 "cells": [
  {
   "cell_type": "markdown",
   "metadata": {
    "id": "ZN4NEnZ_obIb"
   },
   "source": [
    "# LightFM"
   ]
  },
  {
   "cell_type": "code",
   "execution_count": 1,
   "metadata": {
    "colab": {
     "base_uri": "https://localhost:8080/"
    },
    "id": "J3aP999-Lgj2",
    "outputId": "4b4c1e78-12e4-42e2-c4dc-5ffb09b94ccf"
   },
   "outputs": [
    {
     "name": "stdout",
     "output_type": "stream",
     "text": [
      "Defaulting to user installation because normal site-packages is not writeable\n",
      "Collecting lightfm\n",
      "  Downloading lightfm-1.16.tar.gz (310 kB)\n",
      "\u001b[K     |████████████████████████████████| 310 kB 40.3 MB/s eta 0:00:01\n",
      "\u001b[?25hRequirement already satisfied: numpy in /share/apps/python/3.8.6/intel/lib/python3.8/site-packages/numpy-1.19.2-py3.8-linux-x86_64.egg (from lightfm) (1.19.2)\n",
      "Requirement already satisfied: scipy>=0.17.0 in /share/apps/python/3.8.6/intel/lib/python3.8/site-packages/scipy-1.5.2-py3.8-linux-x86_64.egg (from lightfm) (1.5.2)\n",
      "Requirement already satisfied: requests in /share/apps/python/3.8.6/intel/lib/python3.8/site-packages (from lightfm) (2.24.0)\n",
      "Requirement already satisfied: scikit-learn in /home/dl4747/.local/lib/python3.8/site-packages (from lightfm) (1.1.0)\n",
      "Requirement already satisfied: chardet<4,>=3.0.2 in /share/apps/python/3.8.6/intel/lib/python3.8/site-packages (from requests->lightfm) (3.0.4)\n",
      "Requirement already satisfied: idna<3,>=2.5 in /share/apps/python/3.8.6/intel/lib/python3.8/site-packages (from requests->lightfm) (2.10)\n",
      "Requirement already satisfied: certifi>=2017.4.17 in /share/apps/python/3.8.6/intel/lib/python3.8/site-packages (from requests->lightfm) (2020.6.20)\n",
      "Requirement already satisfied: urllib3!=1.25.0,!=1.25.1,<1.26,>=1.21.1 in /share/apps/python/3.8.6/intel/lib/python3.8/site-packages (from requests->lightfm) (1.25.10)\n",
      "Requirement already satisfied: threadpoolctl>=2.0.0 in /home/dl4747/.local/lib/python3.8/site-packages (from scikit-learn->lightfm) (3.1.0)\n",
      "Requirement already satisfied: joblib>=1.0.0 in /home/dl4747/.local/lib/python3.8/site-packages (from scikit-learn->lightfm) (1.1.0)\n",
      "Building wheels for collected packages: lightfm\n",
      "  Building wheel for lightfm (setup.py) ... \u001b[?25ldone\n",
      "\u001b[?25h  Created wheel for lightfm: filename=lightfm-1.16-cp38-cp38-linux_x86_64.whl size=888284 sha256=048f24b565e4a65eef71a0e2a15f097af7fbb50f26eed6e67632041bc156e2ed\n",
      "  Stored in directory: /home/dl4747/.cache/pip/wheels/ec/bb/51/9c487d021c1373b691d13cadca0b65b6852627b1f3f43550fa\n",
      "Successfully built lightfm\n",
      "Installing collected packages: lightfm\n",
      "Successfully installed lightfm-1.16\n",
      "\u001b[33mWARNING: You are using pip version 20.2.3; however, version 22.1 is available.\n",
      "You should consider upgrading via the '/share/apps/python/3.8.6/intel/bin/python -m pip install --upgrade pip' command.\u001b[0m\n"
     ]
    }
   ],
   "source": [
    "!pip install lightfm"
   ]
  },
  {
   "cell_type": "code",
   "execution_count": 2,
   "metadata": {
    "colab": {
     "base_uri": "https://localhost:8080/"
    },
    "id": "V_WhbxwnsFTP",
    "outputId": "bf3b374c-eb1e-4f6a-b51a-8098764bc470"
   },
   "outputs": [
    {
     "name": "stdout",
     "output_type": "stream",
     "text": [
      "unzip:  cannot find or open data.zip, data.zip.zip or data.zip.ZIP.\r\n"
     ]
    }
   ],
   "source": [
    "!unzip data.zip"
   ]
  },
  {
   "cell_type": "code",
   "execution_count": 4,
   "metadata": {
    "id": "uh4AX_Um6cwI"
   },
   "outputs": [],
   "source": [
    "train_data = pq.read_table('data/train_ratings_small.parquet').to_pandas()\n",
    "test_data = pq.read_table('data/test_ratings_small.parquet').to_pandas()\n",
    "val_data = pq.read_table('data/val_ratings_small.parquet').to_pandas()"
   ]
  },
  {
   "cell_type": "code",
   "execution_count": 5,
   "metadata": {
    "id": "ELQ_VLXJWJm6"
   },
   "outputs": [],
   "source": [
    "from lightfm.cross_validation import random_train_test_split\n",
    "\n",
    "def transform_interaction(df, test_percent):\n",
    "    interaction = pd.pivot_table(df, index='userId', columns='movieId', values='rating')\n",
    "    interaction = interaction.fillna(0)\n",
    "    \n",
    "    all_csr = csr_matrix(interaction.values)\n",
    "    \n",
    "    (train_matrix, test_matrix) = random_train_test_split(all_csr, test_percentage=test_percent)\n",
    "    \n",
    "    return (train_matrix, test_matrix)"
   ]
  },
  {
   "cell_type": "code",
   "execution_count": 6,
   "metadata": {
    "id": "t_xX3UM_WOuF"
   },
   "outputs": [],
   "source": [
    "def lightfm_train(train, rank, regParam, maxIter, model_type='warp'):\n",
    "    if model_type == 'bpr':\n",
    "        model = LightFM(loss='bpr',\n",
    "                no_components=rank,\n",
    "                user_alpha=regParam)\n",
    "        \n",
    "    else:    \n",
    "        model = LightFM(loss='warp',\n",
    "                no_components=rank,\n",
    "                user_alpha=regParam)\n",
    "\n",
    "    model = model.fit(train, epochs=maxIter,verbose=False)\n",
    "    \n",
    "    return model"
   ]
  },
  {
   "cell_type": "code",
   "execution_count": 7,
   "metadata": {
    "id": "rEEJk72BWP-M"
   },
   "outputs": [],
   "source": [
    "from lightfm.evaluation import precision_at_k\n",
    "from time import time\n",
    "\n",
    "def train_and_test(train, test, rank, regParam, maxIter, top=500, model_type='warp'):\n",
    "    st = time()\n",
    "    \n",
    "    model = lightfm_train(train, rank, regParam, maxIter, model_type='warp')\n",
    "    auc_train = auc_score(model, train).mean()\n",
    "    auc_test = auc_score(model, test).mean()\n",
    "    p_at_k = precision_at_k(model, test, k=top).mean()\n",
    "    \n",
    "    t = round(time()-st, 5)\n",
    "    \n",
    "    print('Model with maxIter = {}, reg = {}, rank = {} complete'.format(maxIter,regParam,rank))\n",
    "    print('Precision at K:', p_at_k)\n",
    "    print('Accuracy Train =',auc_train, 'Accuracy Test =',auc_test)\n",
    "    print('Time used:', t)\n",
    "    \n",
    "    return p_at_k,auc_train,auc_test, t"
   ]
  },
  {
   "cell_type": "code",
   "execution_count": 8,
   "metadata": {
    "id": "oT0l1lCyTMH5"
   },
   "outputs": [],
   "source": [
    "df = pd.concat([ train_data,test_data, val_data])"
   ]
  },
  {
   "cell_type": "code",
   "execution_count": 9,
   "metadata": {
    "colab": {
     "base_uri": "https://localhost:8080/",
     "height": 206
    },
    "id": "vghUgGwITyV2",
    "outputId": "89f81d26-7fab-4bb2-83cf-337aa687b221"
   },
   "outputs": [
    {
     "data": {
      "text/html": [
       "\n",
       "  <div id=\"df-e873f3b5-26b8-4636-ae60-a2200cc3377d\">\n",
       "    <div class=\"colab-df-container\">\n",
       "      <div>\n",
       "<style scoped>\n",
       "    .dataframe tbody tr th:only-of-type {\n",
       "        vertical-align: middle;\n",
       "    }\n",
       "\n",
       "    .dataframe tbody tr th {\n",
       "        vertical-align: top;\n",
       "    }\n",
       "\n",
       "    .dataframe thead th {\n",
       "        text-align: right;\n",
       "    }\n",
       "</style>\n",
       "<table border=\"1\" class=\"dataframe\">\n",
       "  <thead>\n",
       "    <tr style=\"text-align: right;\">\n",
       "      <th></th>\n",
       "      <th>userId</th>\n",
       "      <th>movieId</th>\n",
       "      <th>rating</th>\n",
       "      <th>date</th>\n",
       "    </tr>\n",
       "  </thead>\n",
       "  <tbody>\n",
       "    <tr>\n",
       "      <th>0</th>\n",
       "      <td>1</td>\n",
       "      <td>1</td>\n",
       "      <td>4.0</td>\n",
       "      <td>2000-07-30 14:45:03</td>\n",
       "    </tr>\n",
       "    <tr>\n",
       "      <th>1</th>\n",
       "      <td>1</td>\n",
       "      <td>3</td>\n",
       "      <td>4.0</td>\n",
       "      <td>2000-07-30 14:20:47</td>\n",
       "    </tr>\n",
       "    <tr>\n",
       "      <th>2</th>\n",
       "      <td>1</td>\n",
       "      <td>6</td>\n",
       "      <td>4.0</td>\n",
       "      <td>2000-07-30 14:37:04</td>\n",
       "    </tr>\n",
       "    <tr>\n",
       "      <th>3</th>\n",
       "      <td>1</td>\n",
       "      <td>47</td>\n",
       "      <td>5.0</td>\n",
       "      <td>2000-07-30 15:03:35</td>\n",
       "    </tr>\n",
       "    <tr>\n",
       "      <th>4</th>\n",
       "      <td>1</td>\n",
       "      <td>50</td>\n",
       "      <td>5.0</td>\n",
       "      <td>2000-07-30 14:48:51</td>\n",
       "    </tr>\n",
       "  </tbody>\n",
       "</table>\n",
       "</div>\n",
       "      <button class=\"colab-df-convert\" onclick=\"convertToInteractive('df-e873f3b5-26b8-4636-ae60-a2200cc3377d')\"\n",
       "              title=\"Convert this dataframe to an interactive table.\"\n",
       "              style=\"display:none;\">\n",
       "        \n",
       "  <svg xmlns=\"http://www.w3.org/2000/svg\" height=\"24px\"viewBox=\"0 0 24 24\"\n",
       "       width=\"24px\">\n",
       "    <path d=\"M0 0h24v24H0V0z\" fill=\"none\"/>\n",
       "    <path d=\"M18.56 5.44l.94 2.06.94-2.06 2.06-.94-2.06-.94-.94-2.06-.94 2.06-2.06.94zm-11 1L8.5 8.5l.94-2.06 2.06-.94-2.06-.94L8.5 2.5l-.94 2.06-2.06.94zm10 10l.94 2.06.94-2.06 2.06-.94-2.06-.94-.94-2.06-.94 2.06-2.06.94z\"/><path d=\"M17.41 7.96l-1.37-1.37c-.4-.4-.92-.59-1.43-.59-.52 0-1.04.2-1.43.59L10.3 9.45l-7.72 7.72c-.78.78-.78 2.05 0 2.83L4 21.41c.39.39.9.59 1.41.59.51 0 1.02-.2 1.41-.59l7.78-7.78 2.81-2.81c.8-.78.8-2.07 0-2.86zM5.41 20L4 18.59l7.72-7.72 1.47 1.35L5.41 20z\"/>\n",
       "  </svg>\n",
       "      </button>\n",
       "      \n",
       "  <style>\n",
       "    .colab-df-container {\n",
       "      display:flex;\n",
       "      flex-wrap:wrap;\n",
       "      gap: 12px;\n",
       "    }\n",
       "\n",
       "    .colab-df-convert {\n",
       "      background-color: #E8F0FE;\n",
       "      border: none;\n",
       "      border-radius: 50%;\n",
       "      cursor: pointer;\n",
       "      display: none;\n",
       "      fill: #1967D2;\n",
       "      height: 32px;\n",
       "      padding: 0 0 0 0;\n",
       "      width: 32px;\n",
       "    }\n",
       "\n",
       "    .colab-df-convert:hover {\n",
       "      background-color: #E2EBFA;\n",
       "      box-shadow: 0px 1px 2px rgba(60, 64, 67, 0.3), 0px 1px 3px 1px rgba(60, 64, 67, 0.15);\n",
       "      fill: #174EA6;\n",
       "    }\n",
       "\n",
       "    [theme=dark] .colab-df-convert {\n",
       "      background-color: #3B4455;\n",
       "      fill: #D2E3FC;\n",
       "    }\n",
       "\n",
       "    [theme=dark] .colab-df-convert:hover {\n",
       "      background-color: #434B5C;\n",
       "      box-shadow: 0px 1px 3px 1px rgba(0, 0, 0, 0.15);\n",
       "      filter: drop-shadow(0px 1px 2px rgba(0, 0, 0, 0.3));\n",
       "      fill: #FFFFFF;\n",
       "    }\n",
       "  </style>\n",
       "\n",
       "      <script>\n",
       "        const buttonEl =\n",
       "          document.querySelector('#df-e873f3b5-26b8-4636-ae60-a2200cc3377d button.colab-df-convert');\n",
       "        buttonEl.style.display =\n",
       "          google.colab.kernel.accessAllowed ? 'block' : 'none';\n",
       "\n",
       "        async function convertToInteractive(key) {\n",
       "          const element = document.querySelector('#df-e873f3b5-26b8-4636-ae60-a2200cc3377d');\n",
       "          const dataTable =\n",
       "            await google.colab.kernel.invokeFunction('convertToInteractive',\n",
       "                                                     [key], {});\n",
       "          if (!dataTable) return;\n",
       "\n",
       "          const docLinkHtml = 'Like what you see? Visit the ' +\n",
       "            '<a target=\"_blank\" href=https://colab.research.google.com/notebooks/data_table.ipynb>data table notebook</a>'\n",
       "            + ' to learn more about interactive tables.';\n",
       "          element.innerHTML = '';\n",
       "          dataTable['output_type'] = 'display_data';\n",
       "          await google.colab.output.renderOutput(dataTable, element);\n",
       "          const docLink = document.createElement('div');\n",
       "          docLink.innerHTML = docLinkHtml;\n",
       "          element.appendChild(docLink);\n",
       "        }\n",
       "      </script>\n",
       "    </div>\n",
       "  </div>\n",
       "  "
      ],
      "text/plain": [
       "   userId  movieId  rating                 date\n",
       "0       1        1     4.0  2000-07-30 14:45:03\n",
       "1       1        3     4.0  2000-07-30 14:20:47\n",
       "2       1        6     4.0  2000-07-30 14:37:04\n",
       "3       1       47     5.0  2000-07-30 15:03:35\n",
       "4       1       50     5.0  2000-07-30 14:48:51"
      ]
     },
     "execution_count": 9,
     "metadata": {},
     "output_type": "execute_result"
    }
   ],
   "source": [
    "df.head()"
   ]
  },
  {
   "cell_type": "code",
   "execution_count": 10,
   "metadata": {
    "id": "TLUZwEcZWio5"
   },
   "outputs": [],
   "source": [
    "train_1, test_1 = transform_interaction(df, 0.3)"
   ]
  },
  {
   "cell_type": "code",
   "execution_count": 11,
   "metadata": {
    "id": "2rFQne2bXO7A"
   },
   "outputs": [],
   "source": [
    "from pandas._libs.tslibs import timedeltas\n",
    "maxIters = [5,10,15]\n",
    "regParams = [0.1, 0.01]\n",
    "ranks = [4,5,6,7,8,9,10,11,12]\n",
    "precision_at_ks = {}\n",
    "times = {}\n",
    "auc_train = {}\n",
    "auc_test = {}"
   ]
  },
  {
   "cell_type": "code",
   "execution_count": 12,
   "metadata": {
    "colab": {
     "base_uri": "https://localhost:8080/"
    },
    "id": "Ti9D_KXHWnOd",
    "outputId": "8fb63a3b-246f-4a3f-b6c6-7d2cb30e80bb"
   },
   "outputs": [
    {
     "name": "stdout",
     "output_type": "stream",
     "text": [
      "Model with maxIter = 5, reg = 0.1, rank = 4 complete\n",
      "Precision at K: 0.0030491804\n",
      "Accuracy Train = 0.53848815 Accuracy Test = 0.53371805\n",
      "Time used: 3.42461\n",
      "Model with maxIter = 5, reg = 0.01, rank = 4 complete\n",
      "Precision at K: 0.04189508\n",
      "Accuracy Train = 0.9018851 Accuracy Test = 0.8827717\n",
      "Time used: 2.64079\n",
      "Model with maxIter = 10, reg = 0.1, rank = 4 complete\n",
      "Precision at K: 0.0032065576\n",
      "Accuracy Train = 0.54719806 Accuracy Test = 0.5410525\n",
      "Time used: 3.60821\n",
      "Model with maxIter = 10, reg = 0.01, rank = 4 complete\n",
      "Precision at K: 0.042101637\n",
      "Accuracy Train = 0.9074775 Accuracy Test = 0.88754654\n",
      "Time used: 2.84782\n",
      "Model with maxIter = 15, reg = 0.1, rank = 4 complete\n",
      "Precision at K: 0.0032655736\n",
      "Accuracy Train = 0.5461792 Accuracy Test = 0.54477745\n",
      "Time used: 3.859\n",
      "Model with maxIter = 15, reg = 0.01, rank = 4 complete\n",
      "Precision at K: 0.041993443\n",
      "Accuracy Train = 0.9101692 Accuracy Test = 0.88999283\n",
      "Time used: 5.1188\n",
      "Model with maxIter = 5, reg = 0.1, rank = 5 complete\n",
      "Precision at K: 0.0031245903\n",
      "Accuracy Train = 0.5105519 Accuracy Test = 0.5079605\n",
      "Time used: 7.14819\n",
      "Model with maxIter = 5, reg = 0.01, rank = 5 complete\n",
      "Precision at K: 0.041511472\n",
      "Accuracy Train = 0.9010685 Accuracy Test = 0.8803037\n",
      "Time used: 2.76749\n",
      "Model with maxIter = 10, reg = 0.1, rank = 5 complete\n",
      "Precision at K: 0.0032295084\n",
      "Accuracy Train = 0.5180236 Accuracy Test = 0.5146076\n",
      "Time used: 3.7878\n",
      "Model with maxIter = 10, reg = 0.01, rank = 5 complete\n",
      "Precision at K: 0.041839343\n",
      "Accuracy Train = 0.9078623 Accuracy Test = 0.8878134\n",
      "Time used: 4.6167\n",
      "Model with maxIter = 15, reg = 0.1, rank = 5 complete\n",
      "Precision at K: 0.0031704921\n",
      "Accuracy Train = 0.53642213 Accuracy Test = 0.52780354\n",
      "Time used: 4.0799\n",
      "Model with maxIter = 15, reg = 0.01, rank = 5 complete\n",
      "Precision at K: 0.04227869\n",
      "Accuracy Train = 0.91116124 Accuracy Test = 0.8901229\n",
      "Time used: 3.77654\n",
      "Model with maxIter = 5, reg = 0.1, rank = 6 complete\n",
      "Precision at K: 0.003334426\n",
      "Accuracy Train = 0.5186002 Accuracy Test = 0.51239\n",
      "Time used: 4.49665\n",
      "Model with maxIter = 5, reg = 0.01, rank = 6 complete\n",
      "Precision at K: 0.041639347\n",
      "Accuracy Train = 0.90304655 Accuracy Test = 0.8816353\n",
      "Time used: 5.37443\n",
      "Model with maxIter = 10, reg = 0.1, rank = 6 complete\n",
      "Precision at K: 0.0036688524\n",
      "Accuracy Train = 0.5185388 Accuracy Test = 0.5157786\n",
      "Time used: 3.98625\n",
      "Model with maxIter = 10, reg = 0.01, rank = 6 complete\n",
      "Precision at K: 0.041829508\n",
      "Accuracy Train = 0.9088338 Accuracy Test = 0.88722265\n",
      "Time used: 3.80289\n",
      "Model with maxIter = 15, reg = 0.1, rank = 6 complete\n",
      "Precision at K: 0.0032885247\n",
      "Accuracy Train = 0.5214948 Accuracy Test = 0.51515883\n",
      "Time used: 4.22539\n",
      "Model with maxIter = 15, reg = 0.01, rank = 6 complete\n",
      "Precision at K: 0.042524587\n",
      "Accuracy Train = 0.91102386 Accuracy Test = 0.89019996\n",
      "Time used: 3.47878\n",
      "Model with maxIter = 5, reg = 0.1, rank = 7 complete\n",
      "Precision at K: 0.0035704917\n",
      "Accuracy Train = 0.5090248 Accuracy Test = 0.50518954\n",
      "Time used: 4.44276\n",
      "Model with maxIter = 5, reg = 0.01, rank = 7 complete\n",
      "Precision at K: 0.041521315\n",
      "Accuracy Train = 0.90388817 Accuracy Test = 0.8816188\n",
      "Time used: 3.70119\n",
      "Model with maxIter = 10, reg = 0.1, rank = 7 complete\n",
      "Precision at K: 0.0035213116\n",
      "Accuracy Train = 0.5255995 Accuracy Test = 0.51867014\n",
      "Time used: 5.00996\n",
      "Model with maxIter = 10, reg = 0.01, rank = 7 complete\n",
      "Precision at K: 0.042065572\n",
      "Accuracy Train = 0.9097037 Accuracy Test = 0.8862941\n",
      "Time used: 4.6282\n",
      "Model with maxIter = 15, reg = 0.1, rank = 7 complete\n",
      "Precision at K: 0.0035573773\n",
      "Accuracy Train = 0.5134134 Accuracy Test = 0.5117686\n",
      "Time used: 5.7848\n",
      "Model with maxIter = 15, reg = 0.01, rank = 7 complete\n",
      "Precision at K: 0.04232459\n",
      "Accuracy Train = 0.9121918 Accuracy Test = 0.89066154\n",
      "Time used: 4.15875\n",
      "Model with maxIter = 5, reg = 0.1, rank = 8 complete\n",
      "Precision at K: 0.0034590166\n",
      "Accuracy Train = 0.5070006 Accuracy Test = 0.5071319\n",
      "Time used: 3.72922\n",
      "Model with maxIter = 5, reg = 0.01, rank = 8 complete\n",
      "Precision at K: 0.041491807\n",
      "Accuracy Train = 0.9051011 Accuracy Test = 0.88183105\n",
      "Time used: 2.87122\n",
      "Model with maxIter = 10, reg = 0.1, rank = 8 complete\n",
      "Precision at K: 0.0036262297\n",
      "Accuracy Train = 0.50144947 Accuracy Test = 0.50411457\n",
      "Time used: 4.03816\n",
      "Model with maxIter = 10, reg = 0.01, rank = 8 complete\n",
      "Precision at K: 0.04175082\n",
      "Accuracy Train = 0.91045564 Accuracy Test = 0.8877764\n",
      "Time used: 3.16049\n",
      "Model with maxIter = 15, reg = 0.1, rank = 8 complete\n",
      "Precision at K: 0.0042065573\n",
      "Accuracy Train = 0.51792854 Accuracy Test = 0.5144072\n",
      "Time used: 4.3017\n",
      "Model with maxIter = 15, reg = 0.01, rank = 8 complete\n",
      "Precision at K: 0.04231803\n",
      "Accuracy Train = 0.912922 Accuracy Test = 0.8899334\n",
      "Time used: 3.88155\n",
      "Model with maxIter = 5, reg = 0.1, rank = 9 complete\n",
      "Precision at K: 0.003642623\n",
      "Accuracy Train = 0.5073857 Accuracy Test = 0.5025132\n",
      "Time used: 4.99095\n",
      "Model with maxIter = 5, reg = 0.01, rank = 9 complete\n",
      "Precision at K: 0.041783605\n",
      "Accuracy Train = 0.90527964 Accuracy Test = 0.88081557\n",
      "Time used: 3.09252\n",
      "Model with maxIter = 10, reg = 0.1, rank = 9 complete\n",
      "Precision at K: 0.0038983608\n",
      "Accuracy Train = 0.50794816 Accuracy Test = 0.50680727\n",
      "Time used: 4.1126\n",
      "Model with maxIter = 10, reg = 0.01, rank = 9 complete\n",
      "Precision at K: 0.04200328\n",
      "Accuracy Train = 0.9102021 Accuracy Test = 0.8865442\n",
      "Time used: 3.25577\n",
      "Model with maxIter = 15, reg = 0.1, rank = 9 complete\n",
      "Precision at K: 0.0034131147\n",
      "Accuracy Train = 0.5029628 Accuracy Test = 0.50273955\n",
      "Time used: 4.40398\n",
      "Model with maxIter = 15, reg = 0.01, rank = 9 complete\n",
      "Precision at K: 0.04229836\n",
      "Accuracy Train = 0.9134349 Accuracy Test = 0.88980883\n",
      "Time used: 3.56934\n",
      "Model with maxIter = 5, reg = 0.1, rank = 10 complete\n",
      "Precision at K: 0.0039540986\n",
      "Accuracy Train = 0.51234823 Accuracy Test = 0.5086372\n",
      "Time used: 3.87095\n",
      "Model with maxIter = 5, reg = 0.01, rank = 10 complete\n",
      "Precision at K: 0.04199672\n",
      "Accuracy Train = 0.90653634 Accuracy Test = 0.8801842\n",
      "Time used: 3.03069\n",
      "Model with maxIter = 10, reg = 0.1, rank = 10 complete\n",
      "Precision at K: 0.0039114757\n",
      "Accuracy Train = 0.50848466 Accuracy Test = 0.5016543\n",
      "Time used: 4.23121\n",
      "Model with maxIter = 10, reg = 0.01, rank = 10 complete\n",
      "Precision at K: 0.041934427\n",
      "Accuracy Train = 0.91182834 Accuracy Test = 0.8862939\n",
      "Time used: 3.33663\n",
      "Model with maxIter = 15, reg = 0.1, rank = 10 complete\n",
      "Precision at K: 0.0037540982\n",
      "Accuracy Train = 0.5051382 Accuracy Test = 0.49906597\n",
      "Time used: 4.52009\n",
      "Model with maxIter = 15, reg = 0.01, rank = 10 complete\n",
      "Precision at K: 0.042193443\n",
      "Accuracy Train = 0.9140935 Accuracy Test = 0.88967174\n",
      "Time used: 3.67655\n",
      "Model with maxIter = 5, reg = 0.1, rank = 11 complete\n",
      "Precision at K: 0.0037540982\n",
      "Accuracy Train = 0.5109901 Accuracy Test = 0.5015213\n",
      "Time used: 3.93757\n",
      "Model with maxIter = 5, reg = 0.01, rank = 11 complete\n",
      "Precision at K: 0.041570492\n",
      "Accuracy Train = 0.90734184 Accuracy Test = 0.8818053\n",
      "Time used: 3.09264\n",
      "Model with maxIter = 10, reg = 0.1, rank = 11 complete\n",
      "Precision at K: 0.003590164\n",
      "Accuracy Train = 0.5047276 Accuracy Test = 0.5000407\n",
      "Time used: 4.28334\n",
      "Model with maxIter = 10, reg = 0.01, rank = 11 complete\n",
      "Precision at K: 0.042314753\n",
      "Accuracy Train = 0.9134722 Accuracy Test = 0.8883465\n",
      "Time used: 3.42076\n",
      "Model with maxIter = 15, reg = 0.1, rank = 11 complete\n",
      "Precision at K: 0.0038163937\n",
      "Accuracy Train = 0.5112254 Accuracy Test = 0.5043114\n",
      "Time used: 4.63561\n",
      "Model with maxIter = 15, reg = 0.01, rank = 11 complete\n",
      "Precision at K: 0.042219676\n",
      "Accuracy Train = 0.9151878 Accuracy Test = 0.88940287\n",
      "Time used: 3.77206\n",
      "Model with maxIter = 5, reg = 0.1, rank = 12 complete\n",
      "Precision at K: 0.0036262292\n",
      "Accuracy Train = 0.50501084 Accuracy Test = 0.50754815\n",
      "Time used: 4.01828\n",
      "Model with maxIter = 5, reg = 0.01, rank = 12 complete\n",
      "Precision at K: 0.04181967\n",
      "Accuracy Train = 0.9064492 Accuracy Test = 0.8807205\n",
      "Time used: 3.18706\n",
      "Model with maxIter = 10, reg = 0.1, rank = 12 complete\n",
      "Precision at K: 0.003904918\n",
      "Accuracy Train = 0.5100662 Accuracy Test = 0.5070959\n",
      "Time used: 4.55775\n",
      "Model with maxIter = 10, reg = 0.01, rank = 12 complete\n",
      "Precision at K: 0.041891806\n",
      "Accuracy Train = 0.91364247 Accuracy Test = 0.8868905\n",
      "Time used: 3.51731\n",
      "Model with maxIter = 15, reg = 0.1, rank = 12 complete\n",
      "Precision at K: 0.0039836066\n",
      "Accuracy Train = 0.508463 Accuracy Test = 0.50608057\n",
      "Time used: 5.08679\n",
      "Model with maxIter = 15, reg = 0.01, rank = 12 complete\n",
      "Precision at K: 0.042259015\n",
      "Accuracy Train = 0.9156121 Accuracy Test = 0.8897919\n",
      "Time used: 3.88667\n"
     ]
    }
   ],
   "source": [
    "import itertools\n",
    "for r in ranks:\n",
    "  for Iter in maxIters:\n",
    "    for reg in regParams:\n",
    "      p_at_k,auc_1,auc_2,t = train_and_test(train_1, test_1,r,reg,Iter)\n",
    "      precision_at_ks[(r,Iter,reg)] = p_at_k\n",
    "      auc_train[(r,Iter,reg)] = auc_1\n",
    "      auc_test[(r,Iter,reg)] = auc_2\n",
    "      times[(r,Iter,reg)] = t"
   ]
  },
  {
   "cell_type": "code",
   "execution_count": 31,
   "metadata": {
    "id": "fKp6CCQuk8C_"
   },
   "outputs": [],
   "source": [
    "# precision_at_ks"
   ]
  },
  {
   "cell_type": "code",
   "execution_count": 32,
   "metadata": {
    "id": "2wTcHLMIn0AQ"
   },
   "outputs": [],
   "source": [
    "# times"
   ]
  },
  {
   "cell_type": "code",
   "execution_count": 33,
   "metadata": {
    "id": "APMjpyTHn0DC"
   },
   "outputs": [],
   "source": [
    "# auc_train"
   ]
  },
  {
   "cell_type": "code",
   "execution_count": 34,
   "metadata": {
    "id": "FVA1ziIRn0Gb"
   },
   "outputs": [],
   "source": [
    "# auc_test"
   ]
  },
  {
   "cell_type": "markdown",
   "metadata": {
    "id": "Q2h6HZGCowAe"
   },
   "source": [
    "# Annoy"
   ]
  },
  {
   "cell_type": "code",
   "execution_count": 13,
   "metadata": {
    "id": "Jvj_9wHcqdM4"
   },
   "outputs": [],
   "source": [
    "%matplotlib inline\n",
    "from sklearn.metrics import pairwise_distances\n",
    "import time\n",
    "from lightfm.datasets import fetch_movielens\n",
    "\n",
    "movielens = fetch_movielens()"
   ]
  },
  {
   "cell_type": "code",
   "execution_count": 42,
   "metadata": {
    "colab": {
     "base_uri": "https://localhost:8080/"
    },
    "id": "9U6G3DMdqIq8",
    "outputId": "429cd320-6171-4a18-a09e-393d8c4a0e87"
   },
   "outputs": [
    {
     "data": {
      "text/plain": [
       "dict_items([('train', <943x1682 sparse matrix of type '<class 'numpy.int32'>'\n",
       "\twith 90570 stored elements in COOrdinate format>), ('test', <943x1682 sparse matrix of type '<class 'numpy.int32'>'\n",
       "\twith 9430 stored elements in COOrdinate format>), ('item_features', <1682x1682 sparse matrix of type '<class 'numpy.float32'>'\n",
       "\twith 1682 stored elements in Compressed Sparse Row format>), ('item_feature_labels', array(['Toy Story (1995)', 'GoldenEye (1995)', 'Four Rooms (1995)', ...,\n",
       "       'Sliding Doors (1998)', 'You So Crazy (1994)',\n",
       "       'Scream of Stone (Schrei aus Stein) (1991)'], dtype=object)), ('item_labels', array(['Toy Story (1995)', 'GoldenEye (1995)', 'Four Rooms (1995)', ...,\n",
       "       'Sliding Doors (1998)', 'You So Crazy (1994)',\n",
       "       'Scream of Stone (Schrei aus Stein) (1991)'], dtype=object))])"
      ]
     },
     "execution_count": 42,
     "metadata": {},
     "output_type": "execute_result"
    }
   ],
   "source": [
    "movielens.items()"
   ]
  },
  {
   "cell_type": "code",
   "execution_count": 18,
   "metadata": {
    "id": "1wff3qqEn0JR"
   },
   "outputs": [],
   "source": [
    "train = movielens['train']\n",
    "test = movielens['test']"
   ]
  },
  {
   "cell_type": "code",
   "execution_count": 19,
   "metadata": {
    "colab": {
     "base_uri": "https://localhost:8080/"
    },
    "id": "LMg5QRb0oTBX",
    "outputId": "0df85e51-1e69-458b-abe1-973249e1ea46"
   },
   "outputs": [
    {
     "name": "stdout",
     "output_type": "stream",
     "text": [
      "Precision: train 0.74, test 0.09.\n",
      "AUC: train 0.97, test 0.91.\n"
     ]
    }
   ],
   "source": [
    "model = LightFM(learning_rate=0.05, loss='warp', no_components=64, item_alpha=0.001)\n",
    "model.fit_partial(train, item_features=movielens['item_features'], epochs=20 )\n",
    "\n",
    "train_precision = precision_at_k(model, train, k=10).mean()\n",
    "test_precision = precision_at_k(model, test, k=10).mean()\n",
    "\n",
    "train_auc = auc_score(model, train).mean()\n",
    "test_auc = auc_score(model, test).mean()\n",
    "\n",
    "print('Precision: train %.2f, test %.2f.' % (train_precision, test_precision))\n",
    "print('AUC: train %.2f, test %.2f.' % (train_auc, test_auc))"
   ]
  },
  {
   "cell_type": "code",
   "execution_count": 20,
   "metadata": {
    "id": "4lRcNK43oTmy"
   },
   "outputs": [],
   "source": [
    "# Get embeddings\n",
    "_, item_embeddings = model.get_item_representations(movielens['item_features'])"
   ]
  },
  {
   "cell_type": "code",
   "execution_count": 21,
   "metadata": {
    "colab": {
     "base_uri": "https://localhost:8080/"
    },
    "id": "Y2skquDevFee",
    "outputId": "fd18c18f-9ca7-4278-edbc-cdcfbf5406a2"
   },
   "outputs": [
    {
     "name": "stdout",
     "output_type": "stream",
     "text": [
      "Collecting annoy\n",
      "  Downloading annoy-1.17.0.tar.gz (646 kB)\n",
      "\u001b[?25l\r",
      "\u001b[K     |▌                               | 10 kB 18.3 MB/s eta 0:00:01\r",
      "\u001b[K     |█                               | 20 kB 9.7 MB/s eta 0:00:01\r",
      "\u001b[K     |█▌                              | 30 kB 8.1 MB/s eta 0:00:01\r",
      "\u001b[K     |██                              | 40 kB 3.5 MB/s eta 0:00:01\r",
      "\u001b[K     |██▌                             | 51 kB 3.6 MB/s eta 0:00:01\r",
      "\u001b[K     |███                             | 61 kB 4.3 MB/s eta 0:00:01\r",
      "\u001b[K     |███▌                            | 71 kB 4.5 MB/s eta 0:00:01\r",
      "\u001b[K     |████                            | 81 kB 3.3 MB/s eta 0:00:01\r",
      "\u001b[K     |████▋                           | 92 kB 3.7 MB/s eta 0:00:01\r",
      "\u001b[K     |█████                           | 102 kB 4.1 MB/s eta 0:00:01\r",
      "\u001b[K     |█████▋                          | 112 kB 4.1 MB/s eta 0:00:01\r",
      "\u001b[K     |██████                          | 122 kB 4.1 MB/s eta 0:00:01\r",
      "\u001b[K     |██████▋                         | 133 kB 4.1 MB/s eta 0:00:01\r",
      "\u001b[K     |███████                         | 143 kB 4.1 MB/s eta 0:00:01\r",
      "\u001b[K     |███████▋                        | 153 kB 4.1 MB/s eta 0:00:01\r",
      "\u001b[K     |████████▏                       | 163 kB 4.1 MB/s eta 0:00:01\r",
      "\u001b[K     |████████▋                       | 174 kB 4.1 MB/s eta 0:00:01\r",
      "\u001b[K     |█████████▏                      | 184 kB 4.1 MB/s eta 0:00:01\r",
      "\u001b[K     |█████████▋                      | 194 kB 4.1 MB/s eta 0:00:01\r",
      "\u001b[K     |██████████▏                     | 204 kB 4.1 MB/s eta 0:00:01\r",
      "\u001b[K     |██████████▋                     | 215 kB 4.1 MB/s eta 0:00:01\r",
      "\u001b[K     |███████████▏                    | 225 kB 4.1 MB/s eta 0:00:01\r",
      "\u001b[K     |███████████▋                    | 235 kB 4.1 MB/s eta 0:00:01\r",
      "\u001b[K     |████████████▏                   | 245 kB 4.1 MB/s eta 0:00:01\r",
      "\u001b[K     |████████████▊                   | 256 kB 4.1 MB/s eta 0:00:01\r",
      "\u001b[K     |█████████████▏                  | 266 kB 4.1 MB/s eta 0:00:01\r",
      "\u001b[K     |█████████████▊                  | 276 kB 4.1 MB/s eta 0:00:01\r",
      "\u001b[K     |██████████████▏                 | 286 kB 4.1 MB/s eta 0:00:01\r",
      "\u001b[K     |██████████████▊                 | 296 kB 4.1 MB/s eta 0:00:01\r",
      "\u001b[K     |███████████████▏                | 307 kB 4.1 MB/s eta 0:00:01\r",
      "\u001b[K     |███████████████▊                | 317 kB 4.1 MB/s eta 0:00:01\r",
      "\u001b[K     |████████████████▎               | 327 kB 4.1 MB/s eta 0:00:01\r",
      "\u001b[K     |████████████████▊               | 337 kB 4.1 MB/s eta 0:00:01\r",
      "\u001b[K     |█████████████████▎              | 348 kB 4.1 MB/s eta 0:00:01\r",
      "\u001b[K     |█████████████████▊              | 358 kB 4.1 MB/s eta 0:00:01\r",
      "\u001b[K     |██████████████████▎             | 368 kB 4.1 MB/s eta 0:00:01\r",
      "\u001b[K     |██████████████████▊             | 378 kB 4.1 MB/s eta 0:00:01\r",
      "\u001b[K     |███████████████████▎            | 389 kB 4.1 MB/s eta 0:00:01\r",
      "\u001b[K     |███████████████████▊            | 399 kB 4.1 MB/s eta 0:00:01\r",
      "\u001b[K     |████████████████████▎           | 409 kB 4.1 MB/s eta 0:00:01\r",
      "\u001b[K     |████████████████████▉           | 419 kB 4.1 MB/s eta 0:00:01\r",
      "\u001b[K     |█████████████████████▎          | 430 kB 4.1 MB/s eta 0:00:01\r",
      "\u001b[K     |█████████████████████▉          | 440 kB 4.1 MB/s eta 0:00:01\r",
      "\u001b[K     |██████████████████████▎         | 450 kB 4.1 MB/s eta 0:00:01\r",
      "\u001b[K     |██████████████████████▉         | 460 kB 4.1 MB/s eta 0:00:01\r",
      "\u001b[K     |███████████████████████▎        | 471 kB 4.1 MB/s eta 0:00:01\r",
      "\u001b[K     |███████████████████████▉        | 481 kB 4.1 MB/s eta 0:00:01\r",
      "\u001b[K     |████████████████████████▍       | 491 kB 4.1 MB/s eta 0:00:01\r",
      "\u001b[K     |████████████████████████▉       | 501 kB 4.1 MB/s eta 0:00:01\r",
      "\u001b[K     |█████████████████████████▍      | 512 kB 4.1 MB/s eta 0:00:01\r",
      "\u001b[K     |█████████████████████████▉      | 522 kB 4.1 MB/s eta 0:00:01\r",
      "\u001b[K     |██████████████████████████▍     | 532 kB 4.1 MB/s eta 0:00:01\r",
      "\u001b[K     |██████████████████████████▉     | 542 kB 4.1 MB/s eta 0:00:01\r",
      "\u001b[K     |███████████████████████████▍    | 552 kB 4.1 MB/s eta 0:00:01\r",
      "\u001b[K     |███████████████████████████▉    | 563 kB 4.1 MB/s eta 0:00:01\r",
      "\u001b[K     |████████████████████████████▍   | 573 kB 4.1 MB/s eta 0:00:01\r",
      "\u001b[K     |█████████████████████████████   | 583 kB 4.1 MB/s eta 0:00:01\r",
      "\u001b[K     |█████████████████████████████▍  | 593 kB 4.1 MB/s eta 0:00:01\r",
      "\u001b[K     |██████████████████████████████  | 604 kB 4.1 MB/s eta 0:00:01\r",
      "\u001b[K     |██████████████████████████████▍ | 614 kB 4.1 MB/s eta 0:00:01\r",
      "\u001b[K     |███████████████████████████████ | 624 kB 4.1 MB/s eta 0:00:01\r",
      "\u001b[K     |███████████████████████████████▍| 634 kB 4.1 MB/s eta 0:00:01\r",
      "\u001b[K     |████████████████████████████████| 645 kB 4.1 MB/s eta 0:00:01\r",
      "\u001b[K     |████████████████████████████████| 646 kB 4.1 MB/s \n",
      "\u001b[?25hBuilding wheels for collected packages: annoy\n",
      "  Building wheel for annoy (setup.py) ... \u001b[?25l\u001b[?25hdone\n",
      "  Created wheel for annoy: filename=annoy-1.17.0-cp37-cp37m-linux_x86_64.whl size=391575 sha256=489eaa3f1e39ed5c033d40594c98cdd056252c5191bf89309d33e74e1a742459\n",
      "  Stored in directory: /root/.cache/pip/wheels/4f/e8/1e/7cc9ebbfa87a3b9f8ba79408d4d31831d67eea918b679a4c07\n",
      "Successfully built annoy\n",
      "Installing collected packages: annoy\n",
      "Successfully installed annoy-1.17.0\n"
     ]
    }
   ],
   "source": [
    "!pip install annoy"
   ]
  },
  {
   "cell_type": "code",
   "execution_count": 22,
   "metadata": {
    "colab": {
     "base_uri": "https://localhost:8080/"
    },
    "id": "RiWUijfuu5l3",
    "outputId": "b5cfa9e0-6235-4951-c8b4-6f98be4a1047"
   },
   "outputs": [
    {
     "name": "stderr",
     "output_type": "stream",
     "text": [
      "/usr/local/lib/python3.7/dist-packages/ipykernel_launcher.py:5: FutureWarning: The default argument for metric will be removed in future version of Annoy. Please pass metric='angular' explicitly.\n",
      "  \"\"\"\n"
     ]
    },
    {
     "data": {
      "text/plain": [
       "True"
      ]
     },
     "execution_count": 22,
     "metadata": {},
     "output_type": "execute_result"
    }
   ],
   "source": [
    "# Annoy index for item to item quering\n",
    "from annoy import AnnoyIndex\n",
    "# Length of item vector that will be indexed\n",
    "factors = item_embeddings.shape[1] \n",
    "annoy_idx = AnnoyIndex(factors)  \n",
    "for i in range(item_embeddings.shape[0]):\n",
    "    v = item_embeddings[i]\n",
    "    annoy_idx.add_item(i, v)\n",
    "\n",
    "annoy_idx.build(10) # 10 trees\n",
    "annoy_idx.save('movielens_item_Annoy_idx.ann')"
   ]
  },
  {
   "cell_type": "code",
   "execution_count": 23,
   "metadata": {
    "id": "sb6FzM8gu5uV"
   },
   "outputs": [],
   "source": [
    "#Query for similar movies\n",
    "def nearest_movies_annoy(movie_id, index, n=10, print_output=True):\n",
    "    nn = index.get_nns_by_item(movie_id, 10)\n",
    "    if print_output:\n",
    "        print('Closest to %s : \\n' % movielens['item_labels'][movie_id])\n",
    "    titles = [movielens['item_labels'][i] for i in nn]\n",
    "    if print_output:\n",
    "        print(\"\\n\".join(titles))"
   ]
  },
  {
   "cell_type": "code",
   "execution_count": 24,
   "metadata": {
    "colab": {
     "base_uri": "https://localhost:8080/"
    },
    "id": "f-EVyC8Eu5xO",
    "outputId": "d937a572-da0c-4969-9274-e4d91debcb1f"
   },
   "outputs": [
    {
     "name": "stdout",
     "output_type": "stream",
     "text": [
      "Closest to Nightmare Before Christmas, The (1993) : \n",
      "\n",
      "Nightmare Before Christmas, The (1993)\n",
      "Fantasia (1940)\n",
      "Heavy Metal (1981)\n",
      "Beauty and the Beast (1991)\n",
      "Snow White and the Seven Dwarfs (1937)\n",
      "Aladdin (1992)\n",
      "Lion King, The (1994)\n",
      "Sound of Music, The (1965)\n",
      "Sword in the Stone, The (1963)\n",
      "Batman (1989)\n"
     ]
    }
   ],
   "source": [
    "nearest_movies_annoy(90, annoy_idx)"
   ]
  },
  {
   "cell_type": "code",
   "execution_count": 25,
   "metadata": {
    "colab": {
     "base_uri": "https://localhost:8080/"
    },
    "id": "ZceAkhDYu50Z",
    "outputId": "7dbb5ffc-083e-4cd6-ed82-0c17fe94abdd"
   },
   "outputs": [
    {
     "name": "stdout",
     "output_type": "stream",
     "text": [
      "The slowest run took 7.77 times longer than the fastest. This could mean that an intermediate result is being cached.\n",
      "100000 loops, best of 5: 10.1 µs per loop\n"
     ]
    }
   ],
   "source": [
    "%%timeit\n",
    "nearest_movies_annoy(90, annoy_idx, print_output=False)"
   ]
  },
  {
   "cell_type": "markdown",
   "metadata": {
    "id": "UB7VQfdChZsS"
   },
   "source": [
    "## Comparision"
   ]
  },
  {
   "cell_type": "code",
   "execution_count": 44,
   "metadata": {
    "id": "lFwnEtsRvQYW"
   },
   "outputs": [],
   "source": [
    "item_vectors = movielens['item_features'] * model.item_embeddings"
   ]
  },
  {
   "cell_type": "code",
   "execution_count": 50,
   "metadata": {
    "colab": {
     "base_uri": "https://localhost:8080/"
    },
    "id": "uDsKviGGvSNz",
    "outputId": "7b03e3a3-b19f-45c0-806d-e885f3eb631f"
   },
   "outputs": [
    {
     "name": "stderr",
     "output_type": "stream",
     "text": [
      "/usr/local/lib/python3.7/dist-packages/ipykernel_launcher.py:9: FutureWarning: The default argument for metric will be removed in future version of Annoy. Please pass metric='angular' explicitly.\n",
      "  if __name__ == '__main__':\n"
     ]
    }
   ],
   "source": [
    "# Add a nomalizing factor to each item vector - 0 is added at the end\n",
    "def normalize(item_vectors):\n",
    "  norms = np.linalg.norm(item_vectors, axis=1)\n",
    "  max_norm = norms.max()\n",
    "  extra_dimension = np.sqrt(max_norm ** 2 - norms ** 2)\n",
    "  norm_data = np.append(item_vectors, extra_dimension.reshape(norms.shape[0], 1), axis=1)\n",
    "\n",
    "  f_member = norm_data.shape[1]\n",
    "  t_member = AnnoyIndex(f_member)  # Length of item vector that will be indexed\n",
    "\n",
    "  for i in range(norm_data.shape[0]):\n",
    "      v = norm_data[i]\n",
    "      t_member.add_item(i, v)\n",
    "      \n",
    "  t_member.build(10)\n",
    "\n",
    "normalize(item_vectors)"
   ]
  },
  {
   "cell_type": "code",
   "execution_count": 38,
   "metadata": {
    "id": "vDdwEXdusqwN"
   },
   "outputs": [],
   "source": [
    "def recommend_without_ann(model, data, user_ids, print_output=True):\n",
    "    n_users, n_items = data['train'].shape\n",
    "\n",
    "    for user_id in user_ids:\n",
    "        known_positives = data['item_labels'][data['train'].tocsr()[user_id].indices]\n",
    "        scores = model.predict(user_id, np.arange(n_items))\n",
    "        top_items = data['item_labels'][np.argsort(-scores)]\n",
    "        if print_output == True:\n",
    "            print(\"User %s\" % user_id)\n",
    "            print(\"     Known positives:\")\n",
    "\n",
    "            for x in known_positives[:3]:\n",
    "                print(\"        %s\" % x)\n",
    "\n",
    "            print(\"     Recommended:\")\n",
    "\n",
    "            for x in top_items[:3]:\n",
    "                print(\"        %s\" % x)"
   ]
  },
  {
   "cell_type": "code",
   "execution_count": 39,
   "metadata": {
    "colab": {
     "base_uri": "https://localhost:8080/"
    },
    "id": "3iIwApPethTB",
    "outputId": "e41a75b7-e473-4db2-a471-794c0492b8f5"
   },
   "outputs": [
    {
     "name": "stdout",
     "output_type": "stream",
     "text": [
      "User 3\n",
      "     Known positives:\n",
      "        Seven (Se7en) (1995)\n",
      "        Indiana Jones and the Last Crusade (1989)\n",
      "        Contact (1997)\n",
      "     Recommended:\n",
      "        Contact (1997)\n",
      "        Cop Land (1997)\n",
      "        Air Force One (1997)\n",
      "User 25\n",
      "     Known positives:\n",
      "        Toy Story (1995)\n",
      "        Twelve Monkeys (1995)\n",
      "        Dead Man Walking (1995)\n",
      "     Recommended:\n",
      "        Fargo (1996)\n",
      "        Independence Day (ID4) (1996)\n",
      "        Men in Black (1997)\n",
      "User 450\n",
      "     Known positives:\n",
      "        Kolya (1996)\n",
      "        Devil's Own, The (1997)\n",
      "        Contact (1997)\n",
      "     Recommended:\n",
      "        Cop Land (1997)\n",
      "        Picture Perfect (1997)\n",
      "        Hoodlum (1997)\n"
     ]
    }
   ],
   "source": [
    "recommend_without_ann(model, movielens, [3, 25, 450])"
   ]
  },
  {
   "cell_type": "code",
   "execution_count": 40,
   "metadata": {
    "id": "MCVzfU2KuNYY"
   },
   "outputs": [],
   "source": [
    "user_vectors = model.user_embeddings"
   ]
  },
  {
   "cell_type": "code",
   "execution_count": 46,
   "metadata": {
    "id": "Kiz_lLK3tbfW"
   },
   "outputs": [],
   "source": [
    "def recommend_with_ann(user_ids, model, data, n_items=10, print_output=True):\n",
    "    n_users, n_items = data['train'].shape\n",
    "\n",
    "    for user_id in user_ids:\n",
    "        known_positives = data['item_labels'][data['train'].tocsr()[user_id].indices]\n",
    "        top_items = [data['item_labels'][i] for i in t_member.get_nns_by_vector(np.append(user_vectors[user_id], 0), 50)]\n",
    "        if print_output == True:\n",
    "            print(\"User %s\" % user_id)\n",
    "            print(\"     Known positives:\")\n",
    "\n",
    "            for x in known_positives[:3]:\n",
    "                print(\"        %s\" % x)\n",
    "\n",
    "            print(\"     Recommended:\")\n",
    "\n",
    "            for x in top_items[:3]:\n",
    "                print(\"        %s\" % x)"
   ]
  },
  {
   "cell_type": "code",
   "execution_count": 47,
   "metadata": {
    "colab": {
     "base_uri": "https://localhost:8080/"
    },
    "id": "v1-EIEGYuQFC",
    "outputId": "bae12f09-8b9e-4dcd-bbd3-34e4c0f2789f"
   },
   "outputs": [
    {
     "name": "stdout",
     "output_type": "stream",
     "text": [
      "User 3\n",
      "     Known positives:\n",
      "        Seven (Se7en) (1995)\n",
      "        Indiana Jones and the Last Crusade (1989)\n",
      "        Contact (1997)\n",
      "     Recommended:\n",
      "        Cop Land (1997)\n",
      "        Contact (1997)\n",
      "        Spawn (1997)\n",
      "User 25\n",
      "     Known positives:\n",
      "        Toy Story (1995)\n",
      "        Twelve Monkeys (1995)\n",
      "        Dead Man Walking (1995)\n",
      "     Recommended:\n",
      "        Men in Black (1997)\n",
      "        Rock, The (1996)\n",
      "        Independence Day (ID4) (1996)\n",
      "User 450\n",
      "     Known positives:\n",
      "        Kolya (1996)\n",
      "        Devil's Own, The (1997)\n",
      "        Contact (1997)\n",
      "     Recommended:\n",
      "        Cop Land (1997)\n",
      "        Picture Perfect (1997)\n",
      "        Hoodlum (1997)\n"
     ]
    }
   ],
   "source": [
    "recommend_with_ann([3,25,450], model, movielens, print_output=True)"
   ]
  },
  {
   "cell_type": "code",
   "execution_count": 49,
   "metadata": {
    "colab": {
     "base_uri": "https://localhost:8080/"
    },
    "id": "CYuDQI3r23mV",
    "outputId": "b879f08a-bc44-4768-9f0d-5bc9aad012fa"
   },
   "outputs": [
    {
     "name": "stdout",
     "output_type": "stream",
     "text": [
      "100 loops, best of 5: 5.24 ms per loop\n"
     ]
    }
   ],
   "source": [
    "%%timeit\n",
    "recommend_without_ann(model, movielens, [3, 25, 450], print_output=False)"
   ]
  },
  {
   "cell_type": "code",
   "execution_count": 48,
   "metadata": {
    "colab": {
     "base_uri": "https://localhost:8080/"
    },
    "id": "jOQL-QE74Ep2",
    "outputId": "03ab65d6-f80d-4088-faf9-f2a51e341dba"
   },
   "outputs": [
    {
     "name": "stdout",
     "output_type": "stream",
     "text": [
      "100 loops, best of 5: 2.93 ms per loop\n"
     ]
    }
   ],
   "source": [
    "%%timeit\n",
    "recommend_with_ann([3,25,450], model, movielens, print_output=False)"
   ]
  },
  {
   "cell_type": "code",
   "execution_count": 54,
   "metadata": {
    "colab": {
     "base_uri": "https://localhost:8080/"
    },
    "id": "V5-JbTBfvmHu",
    "outputId": "3ee24131-6d97-4f6b-c26d-c78b6686263f"
   },
   "outputs": [
    {
     "name": "stderr",
     "output_type": "stream",
     "text": [
      "/usr/local/lib/python3.7/dist-packages/ipykernel_launcher.py:9: FutureWarning: The default argument for metric will be removed in future version of Annoy. Please pass metric='angular' explicitly.\n",
      "  if __name__ == '__main__':\n"
     ]
    },
    {
     "name": "stdout",
     "output_type": "stream",
     "text": [
      "Model with maxIter = 5, reg = 0.1, rank = 4 complete\n",
      "Without Annoy = 4.68918 With Annoy = 3.26389\n",
      "Model with maxIter = 5, reg = 0.01, rank = 4 complete\n",
      "Without Annoy = 4.70749 With Annoy = 3.31689\n",
      "Model with maxIter = 10, reg = 0.1, rank = 4 complete\n",
      "Without Annoy = 5.1783 With Annoy = 3.22753\n",
      "Model with maxIter = 10, reg = 0.01, rank = 4 complete\n",
      "Without Annoy = 4.23821 With Annoy = 3.21614\n",
      "Model with maxIter = 15, reg = 0.1, rank = 4 complete\n",
      "Without Annoy = 4.33924 With Annoy = 3.25276\n",
      "Model with maxIter = 15, reg = 0.01, rank = 4 complete\n",
      "Without Annoy = 4.23748 With Annoy = 3.25293\n",
      "Model with maxIter = 5, reg = 0.1, rank = 5 complete\n",
      "Without Annoy = 4.27809 With Annoy = 3.56481\n",
      "Model with maxIter = 5, reg = 0.01, rank = 5 complete\n",
      "Without Annoy = 4.28454 With Annoy = 3.22239\n",
      "Model with maxIter = 10, reg = 0.1, rank = 5 complete\n",
      "Without Annoy = 4.26642 With Annoy = 3.24755\n",
      "Model with maxIter = 10, reg = 0.01, rank = 5 complete\n",
      "Without Annoy = 4.23552 With Annoy = 3.24645\n",
      "Model with maxIter = 15, reg = 0.1, rank = 5 complete\n",
      "Without Annoy = 4.22458 With Annoy = 3.2189\n",
      "Model with maxIter = 15, reg = 0.01, rank = 5 complete\n",
      "Without Annoy = 4.27042 With Annoy = 3.22457\n",
      "Model with maxIter = 5, reg = 0.1, rank = 6 complete\n",
      "Without Annoy = 4.28155 With Annoy = 3.23498\n",
      "Model with maxIter = 5, reg = 0.01, rank = 6 complete\n",
      "Without Annoy = 4.28301 With Annoy = 3.2287\n",
      "Model with maxIter = 10, reg = 0.1, rank = 6 complete\n",
      "Without Annoy = 4.27001 With Annoy = 3.54919\n",
      "Model with maxIter = 10, reg = 0.01, rank = 6 complete\n",
      "Without Annoy = 4.25665 With Annoy = 3.24186\n",
      "Model with maxIter = 15, reg = 0.1, rank = 6 complete\n",
      "Without Annoy = 4.27564 With Annoy = 3.23067\n",
      "Model with maxIter = 15, reg = 0.01, rank = 6 complete\n",
      "Without Annoy = 4.2589 With Annoy = 3.22179\n",
      "Model with maxIter = 5, reg = 0.1, rank = 7 complete\n",
      "Without Annoy = 4.28107 With Annoy = 3.22312\n",
      "Model with maxIter = 5, reg = 0.01, rank = 7 complete\n",
      "Without Annoy = 4.27814 With Annoy = 3.23079\n",
      "Model with maxIter = 10, reg = 0.1, rank = 7 complete\n",
      "Without Annoy = 4.3289 With Annoy = 3.22314\n",
      "Model with maxIter = 10, reg = 0.01, rank = 7 complete\n",
      "Without Annoy = 4.27905 With Annoy = 3.24614\n",
      "Model with maxIter = 15, reg = 0.1, rank = 7 complete\n",
      "Without Annoy = 4.28536 With Annoy = 3.28714\n",
      "Model with maxIter = 15, reg = 0.01, rank = 7 complete\n",
      "Without Annoy = 4.39068 With Annoy = 3.231\n",
      "Model with maxIter = 5, reg = 0.1, rank = 8 complete\n",
      "Without Annoy = 4.31733 With Annoy = 3.23908\n",
      "Model with maxIter = 5, reg = 0.01, rank = 8 complete\n",
      "Without Annoy = 4.32984 With Annoy = 3.22216\n",
      "Model with maxIter = 10, reg = 0.1, rank = 8 complete\n",
      "Without Annoy = 4.29458 With Annoy = 3.22045\n",
      "Model with maxIter = 10, reg = 0.01, rank = 8 complete\n",
      "Without Annoy = 4.31003 With Annoy = 3.24336\n",
      "Model with maxIter = 15, reg = 0.1, rank = 8 complete\n",
      "Without Annoy = 4.33452 With Annoy = 3.22438\n",
      "Model with maxIter = 15, reg = 0.01, rank = 8 complete\n",
      "Without Annoy = 4.27671 With Annoy = 3.21493\n",
      "Model with maxIter = 5, reg = 0.1, rank = 9 complete\n",
      "Without Annoy = 4.31761 With Annoy = 3.23273\n",
      "Model with maxIter = 5, reg = 0.01, rank = 9 complete\n",
      "Without Annoy = 4.30365 With Annoy = 3.26786\n",
      "Model with maxIter = 10, reg = 0.1, rank = 9 complete\n",
      "Without Annoy = 4.32822 With Annoy = 3.21573\n",
      "Model with maxIter = 10, reg = 0.01, rank = 9 complete\n",
      "Without Annoy = 4.29482 With Annoy = 3.20434\n",
      "Model with maxIter = 15, reg = 0.1, rank = 9 complete\n",
      "Without Annoy = 4.34762 With Annoy = 3.23916\n",
      "Model with maxIter = 15, reg = 0.01, rank = 9 complete\n",
      "Without Annoy = 4.34283 With Annoy = 3.23927\n",
      "Model with maxIter = 5, reg = 0.1, rank = 10 complete\n",
      "Without Annoy = 4.3153 With Annoy = 3.19262\n",
      "Model with maxIter = 5, reg = 0.01, rank = 10 complete\n",
      "Without Annoy = 4.30655 With Annoy = 3.22653\n",
      "Model with maxIter = 10, reg = 0.1, rank = 10 complete\n",
      "Without Annoy = 4.31558 With Annoy = 3.21338\n",
      "Model with maxIter = 10, reg = 0.01, rank = 10 complete\n",
      "Without Annoy = 4.34001 With Annoy = 3.22472\n",
      "Model with maxIter = 15, reg = 0.1, rank = 10 complete\n",
      "Without Annoy = 4.34098 With Annoy = 3.2134\n",
      "Model with maxIter = 15, reg = 0.01, rank = 10 complete\n",
      "Without Annoy = 4.33298 With Annoy = 3.22755\n",
      "Model with maxIter = 5, reg = 0.1, rank = 11 complete\n",
      "Without Annoy = 4.3365 With Annoy = 3.20933\n",
      "Model with maxIter = 5, reg = 0.01, rank = 11 complete\n",
      "Without Annoy = 4.37197 With Annoy = 3.18173\n",
      "Model with maxIter = 10, reg = 0.1, rank = 11 complete\n",
      "Without Annoy = 4.35598 With Annoy = 3.19435\n",
      "Model with maxIter = 10, reg = 0.01, rank = 11 complete\n",
      "Without Annoy = 4.35183 With Annoy = 3.18632\n",
      "Model with maxIter = 15, reg = 0.1, rank = 11 complete\n",
      "Without Annoy = 4.33539 With Annoy = 3.21146\n",
      "Model with maxIter = 15, reg = 0.01, rank = 11 complete\n",
      "Without Annoy = 4.31091 With Annoy = 3.21236\n",
      "Model with maxIter = 5, reg = 0.1, rank = 12 complete\n",
      "Without Annoy = 4.33182 With Annoy = 3.21667\n",
      "Model with maxIter = 5, reg = 0.01, rank = 12 complete\n",
      "Without Annoy = 4.33681 With Annoy = 3.20827\n",
      "Model with maxIter = 10, reg = 0.1, rank = 12 complete\n",
      "Without Annoy = 4.39049 With Annoy = 3.16793\n",
      "Model with maxIter = 10, reg = 0.01, rank = 12 complete\n",
      "Without Annoy = 4.32187 With Annoy = 3.18936\n",
      "Model with maxIter = 15, reg = 0.1, rank = 12 complete\n",
      "Without Annoy = 4.37241 With Annoy = 3.20854\n",
      "Model with maxIter = 15, reg = 0.01, rank = 12 complete\n",
      "Without Annoy = 4.34107 With Annoy = 3.21953\n"
     ]
    }
   ],
   "source": [
    "from time import time\n",
    "without_ann = {}\n",
    "with_ann = {}\n",
    "for r in ranks:\n",
    "  for Iter in maxIters:\n",
    "    for reg in regParams:\n",
    "      #Lighfm\n",
    "      model = LightFM(loss='warp',\n",
    "                no_components=r,\n",
    "                user_alpha=reg)\n",
    "\n",
    "      model = model.fit(train, epochs=Iter,verbose=False)\n",
    "      st = time()\n",
    "      for _ in range(1000):\n",
    "        recommend_without_ann(model, movielens, [3, 25, 450], print_output=False)\n",
    "      t1 = round(time()-st, 5)\n",
    "      # Annoy\n",
    "      item_vectors = movielens['item_features'] * model.item_embeddings\n",
    "      normalize(item_vectors)\n",
    "      st = time()\n",
    "      for _ in range(1000):\n",
    "        recommend_with_ann([3,25,450], model, movielens, print_output=False)\n",
    "      t2 = round(time()-st, 5)\n",
    "      without_ann[(r,Iter,reg)] = t1\n",
    "      with_ann[(r,Iter,reg)] = t2\n",
    "      print('Model with maxIter = {}, reg = {}, rank = {} complete'.format(Iter,reg,r))\n",
    "      print('Without Annoy =',t1,'With Annoy =',t2)\n"
   ]
  },
  {
   "cell_type": "markdown",
   "metadata": {
    "id": "ghpJGhxG8-9Y"
   },
   "source": [
    "# Visualization"
   ]
  },
  {
   "cell_type": "code",
   "execution_count": 64,
   "metadata": {
    "colab": {
     "base_uri": "https://localhost:8080/",
     "height": 281
    },
    "id": "egwKnrsd7Gm-",
    "outputId": "0ad5592a-04a0-42a2-ee5e-a04d629466cb"
   },
   "outputs": [
    {
     "data": {
      "image/png": "[encoded data removed]",
      "text/plain": [
       "<Figure size 432x288 with 1 Axes>"
      ]
     },
     "metadata": {
      "needs_background": "light"
     },
     "output_type": "display_data"
    }
   ],
   "source": [
    "import matplotlib.pyplot as plt\n",
    "\n",
    "x = list(without_ann.values())\n",
    "y = sorted(x)\n",
    "\n",
    "x2 = list(with_ann.values())\n",
    "y2 = sorted(x2)\n",
    "plt.title(\"Brute Force vs Annoy\")\n",
    "plt.scatter(x, y,color=\"red\")\n",
    "plt.scatter(x2,y2,color='green')\n",
    "plt.show()"
   ]
  },
  {
   "cell_type": "code",
   "execution_count": null,
   "metadata": {
    "id": "weOOcttTSz7j"
   },
   "outputs": [],
   "source": [
    "# interaction = pd.pivot_table(df, index='userId', columns='movieId', values='rating')\n",
    "# interaction = interaction.fillna(0)\n",
    "# all_csr = csr_matrix(interaction.values)\n",
    "# (train_matrix, test_matrix) = random_train_test_split(all_csr, test_percentage=0.3)\n",
    "# !pip install pandasql\n",
    "# from pandasql import sqldf\n",
    "# pysqldf = lambda q: sqldf(q, globals())\n",
    "#Fix data that is only rated in 2018\n",
    "# uids = pysqldf('select distinct(userId) from train_data;')\n",
    "# uid_train_set = set()\n",
    "# for index,row in uids.iterrows():\n",
    "#   uid_train_set.add(row['userId'])\n",
    "# uids = pysqldf('select distinct(userId) from val_data;')\n",
    "# uid_val_set = set()\n",
    "# for index,row in uids.iterrows():\n",
    "#   uid_val_set.add(row['userId'])\n",
    "# uids = pysqldf('select distinct(userId) from test_data;')\n",
    "# uid_test_set = set()\n",
    "# for index,row in uids.iterrows():\n",
    "#   uid_test_set.add(row['userId'])\n",
    "# for_val = uid_val_set.difference(uid_train_set)\n",
    "# for_test = uid_test_set.difference(uid_train_set)\n",
    "# trains = []\n",
    "# vals = []\n",
    "# for uid in for_val:\n",
    "#   sub = pysqldf(f'select * from val_data where userId={uid}')\n",
    "#   train = sub.sample(frac=0.5)\n",
    "#   val = sub.drop(train.index)\n",
    "#   trains.append(train)\n",
    "#   vals.append(val)\n",
    "# train = pd.concat(trains)\n",
    "# val = pd.concat(vals)\n",
    "# train_data = pd.concat([train_data,train])\n",
    "# val_data = pd.concat([val_data,val])\n",
    "# trains = []\n",
    "# tests = []\n",
    "# for uid in for_test:\n",
    "#   sub = pysqldf(f'select * from test_data where userId={uid}')\n",
    "#   train = sub.sample(frac=0.5)\n",
    "#   test = sub.drop(train.index)\n",
    "#   trains.append(train)\n",
    "#   tests.append(test)\n",
    "# train = pd.concat(trains)\n",
    "# test = pd.concat(tests)\n",
    "# train_data = pd.concat([train_data,train])\n",
    "# test_data = pd.concat([test_data,test])\n",
    "# # Data Transform\n",
    "# # train_data = scipy.sparse.coo_matrix((train_data.rating, (train_data.movieId, train_data.userId)))\n",
    "# train_data = pd.pivot_table(train_matrix, index='userId', columns='movieId', values='rating')\n",
    "# train_data = train_data.fillna(0)\n",
    "# train_data = csr_matrix(train_data.values)\n",
    "# # val_data = scipy.sparse.coo_matrix((val_data.rating, (val_data.movieId, val_data.userId)))\n",
    "# val_data = pd.pivot_table(val_data, index='userId', columns='movieId', values='rating')\n",
    "# val_data = val_data.fillna(0)\n",
    "# val_data = csr_matrix(val_data.values)\n",
    "# test_data = pd.pivot_table(test_data, index='userId', columns='movieId', values='rating')\n",
    "# test_data = test_data.fillna(0)\n",
    "# test_data = csr_matrix(test_data.values)\n",
    "# model = LightFM(learning_rate=0.05, loss='bpr')\n",
    "# model.fit(train_data, epochs=10)\n",
    "# train_precision = precision_at_k(model, train_data, k=10).mean()\n",
    "# train_auc = auc_score(model, train_data).mean()\n",
    "# val_precision = precision_at_k(model, val_data, k=10).mean()\n",
    "# val_auc = auc_score(model, train_data).mean()"
   ]
  },
  {
   "cell_type": "code",
   "execution_count": null,
   "metadata": {
    "id": "WIklvkblIgEp"
   },
   "outputs": [],
   "source": []
  },
  {
   "cell_type": "code",
   "execution_count": null,
   "metadata": {
    "id": "Ft8STiwnYT4J"
   },
   "outputs": [],
   "source": []
  }
 ],
 "metadata": {
  "colab": {
   "collapsed_sections": [],
   "name": "Extensions.ipynb",
   "provenance": []
  },
  "kernelspec": {
   "display_name": "Python 3",
   "language": "python",
   "name": "python3"
  },
  "language_info": {
   "codemirror_mode": {
    "name": "ipython",
    "version": 3
   },
   "file_extension": ".py",
   "mimetype": "text/x-python",
   "name": "python",
   "nbconvert_exporter": "python",
   "pygments_lexer": "ipython3",
   "version": "3.8.6"
  }
 },
 "nbformat": 4,
 "nbformat_minor": 1
}
